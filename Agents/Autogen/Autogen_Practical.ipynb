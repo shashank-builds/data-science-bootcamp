{
 "cells": [
  {
   "cell_type": "markdown",
   "metadata": {},
   "source": [
    "## Building and Deploying Customer Service AI Agents with AutoGen Studio\n",
    "\n",
    "### Introduction  \n",
    "The video demonstrates how to build and deploy a team of customer service AI agents in about 15 minutes.  \n",
    "\n",
    "Unlike previous tutorials, little to no coding is required.  \n",
    "\n",
    "The process involves a visual approach to defining, building, and deploying AI agents.  \n",
    "\n",
    "### Getting Started: AutoGen Studio  \n",
    "\n",
    "#### What is AutoGen Studio?  \n",
    "- Built on Microsoft’s open-source AutoGen repository.  \n",
    "- Allows for multi-agent AI applications that can act autonomously or collaborate with humans.  \n",
    "- Normally, using AutoGen requires coding, but AutoGen Studio simplifies this with a graphical interface.  \n",
    "\n",
    "#### Setting Up AutoGen Studio  \n",
    "\n",
    "**Create a Conda environment**  \n",
    "- Requires Python 3.10 or higher.  \n",
    "- Example:  \n",
    "\n",
    "```sh\n",
    "conda create --name agents python=3.10\n",
    "conda activate agents\n"
   ]
  },
  {
   "cell_type": "code",
   "execution_count": null,
   "metadata": {
    "vscode": {
     "languageId": "plaintext"
    }
   },
   "outputs": [],
   "source": []
  },
  {
   "cell_type": "markdown",
   "metadata": {},
   "source": [
    "**Install AutoGen Studio**\n",
    "\n",
    "+ Run the following command:\n",
    "\n",
    "```python\n",
    "pip install autogen-studio\n",
    "```\n",
    "\n",
    "+ Installation time depends on network speed and cached dependencies.\n"
   ]
  },
  {
   "cell_type": "code",
   "execution_count": null,
   "metadata": {
    "vscode": {
     "languageId": "plaintext"
    }
   },
   "outputs": [],
   "source": []
  },
  {
   "cell_type": "markdown",
   "metadata": {},
   "source": [
    "**Launch AutoGen Studio**\n",
    "\n",
    "+ Start the UI by running:\n",
    "```python\n",
    "autogen-studio\n",
    "```\n",
    "+ Opens AutoGen Studio UI on localhost (Port 8081).\n",
    "\n",
    "+ Click the URL in the terminal to open the browser-based interface.\n",
    "\n",
    "\n"
   ]
  },
  {
   "cell_type": "code",
   "execution_count": null,
   "metadata": {
    "vscode": {
     "languageId": "plaintext"
    }
   },
   "outputs": [],
   "source": []
  },
  {
   "cell_type": "markdown",
   "metadata": {},
   "source": [
    "#### Exploring AutoGen Studio\n",
    "\n",
    "**User Interface Overview**\n",
    "\n",
    "The left sidebar has four main options:\n",
    "\n",
    "+ Team Builder – Visual interface for creating AI agents, assigning tools, and defining relationships.\n",
    " \n",
    "+ Playground – Interactive environment to test agent responses.\n",
    "\n",
    "+ Gallery – Provides prebuilt tools and models (e.g., calculator, image generation, web search).\n",
    " \n",
    "+ Deployment – Instructions on deploying agents outside of AutoGen Studio.\n",
    "\n",
    "**Supported Models:**\n",
    "+ Local model option: Mistol 7B.\n",
    "\n",
    "+ Cloud-based option: GPT-4.\n",
    "\n",
    "**Agent Termination Conditions**:\n",
    "+ Defines when an agent should stop its execution.\n",
    "\n",
    "#### Building Customer Service AI Agents\n",
    "\n",
    "**Using the Web Agent Team Template**\n",
    "\n",
    "+ Select a prebuilt template (Web Agent Team).\n",
    "\n",
    "+ The default team includes four agents:\n",
    "\n",
    "+ Assistant Agent (Handles general queries).\n",
    "\n",
    "+ Multimodal Web Surfer (Retrieves and processes web data).\n",
    " \n",
    "+ Another Assistant Agent (Similar to the first but with a different focus).\n",
    " \n",
    "+ User Proxy Agent (Acts as an interface between the system and the user).\n",
    "\n",
    "**Configuring agents:**\n",
    "\n",
    "+ Visual interface allows easy modification.\n",
    "\n",
    "+ Connections between agents are predefined but adjustable.\n",
    "\n",
    "**Testing the Agents in Playground**\n",
    "+ Simulates real interactions with the AI agents.\n",
    "\n",
    "+ User sends queries, and agents process responses.\n",
    "\n",
    "+ Helps in debugging and fine-tuning agent behavior before deployment.\n",
    "\n",
    "#### **Deploying AI Agents**\n",
    "\n",
    "The final step is deploying the AI agents outside AutoGen Studio.\n",
    "\n",
    "The deployment section provides guidance on:\n",
    "\n",
    "+ Integrating AI agents with external applications (e.g., customer service chatbots).\n",
    "\n",
    "+ Hosting agents on a website for real-world interaction.\n",
    "\n",
    "In the video, the AI agents were linked to a personal website where users could chat with them in real time.\n",
    "\n",
    "Conclusion\n",
    "AutoGen Studio enables fast, visual, and efficient AI agent creation.\n",
    "\n",
    "No need for extensive coding knowledge.\n",
    "\n",
    "Supports GPT-4 and local models.\n",
    "\n",
    "AI agents can be customized, tested, and deployed in minutes.\n",
    "\n",
    "Ideal for customer service automation and multi-agent workflows.\n",
    "\n",
    "vbnet\n",
    "Copy\n",
    "Edit\n"
   ]
  }
 ],
 "metadata": {
  "language_info": {
   "name": "python"
  }
 },
 "nbformat": 4,
 "nbformat_minor": 2
}
