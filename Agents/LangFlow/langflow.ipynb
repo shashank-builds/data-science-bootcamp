{
 "cells": [
  {
   "cell_type": "code",
   "execution_count": null,
   "metadata": {},
   "outputs": [],
   "source": []
  },
  {
   "cell_type": "markdown",
   "metadata": {},
   "source": [
    "Complete Notes on Building an AI Application with LangFlow (No-Code Approach)\n",
    "Overview\n",
    "This tutorial demonstrates how to create an AI-powered chatbot using LangFlow, a no-code visual platform. The chatbot leverages Retrieval-Augmented Generation (RAG) to fetch relevant answers from a provided document (PDF) and maintain conversation history.\n",
    "\n",
    "Project Demo\n",
    "Functionality\n",
    "The chatbot is designed for a restaurant but can be adapted for other use cases.\n",
    "\n",
    "It answers common questions using a provided PDF (e.g., restaurant FAQs).\n",
    "\n",
    "It stores conversation history to maintain context.\n",
    "\n",
    "Example Interaction\n",
    "User: What time are you open, and do I need a reservation?\n",
    "\n",
    "Bot: We are open from 11 AM - 10 PM. Reservations are recommended, but walk-ins are accommodated.\n",
    "\n",
    "User: Tell me about the specials and the menu.\n",
    "\n",
    "Bot: We offer vegetarian, vegan, and kids' menu options. Specials are based on the chef’s selection.\n",
    "\n"
   ]
  }
 ],
 "metadata": {
  "kernelspec": {
   "display_name": "Python 3",
   "language": "python",
   "name": "python3"
  },
  "language_info": {
   "name": "python",
   "version": "3.11.7"
  }
 },
 "nbformat": 4,
 "nbformat_minor": 2
}
