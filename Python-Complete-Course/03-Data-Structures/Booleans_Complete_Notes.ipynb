{
 "cells": [
  {
   "cell_type": "markdown",
   "metadata": {},
   "source": [
    "#### **Status**: Completed\n",
    "- _All Boolean topics covered  (Last updated: March 19, 2025)_\n",
    "- <p style=\"font-size:18px; color:red;\"><i>boolean in  comprehensions, lambda,map,reduce functions</i></p>\n",
    "\n",
    "---"
   ]
  },
  {
   "cell_type": "markdown",
   "metadata": {},
   "source": [
    "## 📝 Booleans in Python\n",
    "#### 🎯 Learning Objectives\n",
    "\n",
    "By the end of this lesson, you will:\n",
    "\n",
    "+ Understand the concept of Boolean data types in Python.\n",
    "+ Learn how to declare and use Boolean values.\n",
    "+ Understand how comparison operators return Boolean values.\n",
    "+ Learn how to check Boolean values within data structures.\n",
    "+ Use `bool()` to create Boolean values explicitly."
   ]
  },
  {
   "cell_type": "code",
   "execution_count": null,
   "metadata": {},
   "outputs": [],
   "source": []
  },
  {
   "cell_type": "markdown",
   "metadata": {},
   "source": [
    "#### 📚 Introduction to Booleans\n",
    "In Python, a Boolean is a data type that represents one of two possible values:\n",
    "\n",
    "+ `True`\n",
    "+ `False`\n",
    "\n",
    "##### ✅ Declaring a Boolean\n",
    "You can declare a Boolean variable directly by assigning `True` or `False` to a variable:"
   ]
  },
  {
   "cell_type": "code",
   "execution_count": 3,
   "metadata": {},
   "outputs": [
    {
     "name": "stdout",
     "output_type": "stream",
     "text": [
      "<class 'bool'>\n",
      "True\n"
     ]
    }
   ],
   "source": [
    "# Direct declaration of boolean\n",
    "is_active = True\n",
    "is_completed = False\n",
    "\n",
    "print(type(is_active))  # Output: <class 'bool'>\n",
    "print(is_active)        # Output: True"
   ]
  },
  {
   "cell_type": "markdown",
   "metadata": {},
   "source": [
    "✅ Booleans in Python are capitalized (True, False). Lowercase true or false will result in a NameError."
   ]
  },
  {
   "cell_type": "markdown",
   "metadata": {},
   "source": [
    "#### 🧮 Boolean from Comparisons  \n",
    "Booleans can be generated using comparison operators:\n",
    "\n",
    "| Operator | Meaning                  | Example | Result |\n",
    "|---------|--------------------------|---------|--------|\n",
    "| `>`     | Greater than              | `5 > 3` | `True`  |\n",
    "| `<`     | Less than                 | `5 < 3` | `False` |\n",
    "| `>=`    | Greater than or equal to   | `5 >= 5` | `True`  |\n",
    "| `<=`    | Less than or equal to      | `5 <= 3` | `False` |\n",
    "| `==`    | Equal to                  | `5 == 5` | `True`  |\n",
    "| `!=`    | Not equal to              | `5 != 3` | `True`  |\n"
   ]
  },
  {
   "cell_type": "code",
   "execution_count": 4,
   "metadata": {},
   "outputs": [
    {
     "name": "stdout",
     "output_type": "stream",
     "text": [
      "True\n",
      "<class 'bool'>\n"
     ]
    }
   ],
   "source": [
    "# 🔎 Example\n",
    "\n",
    "a = 5 > 3\n",
    "print(a)             # Output: True\n",
    "print(type(a))        # Output: <class 'bool'>"
   ]
  },
  {
   "cell_type": "markdown",
   "metadata": {},
   "source": [
    "#### 🏆 Boolean from Membership Tests\n",
    "You can also create Booleans using membership tests with `in` and `not in`:"
   ]
  },
  {
   "cell_type": "code",
   "execution_count": 5,
   "metadata": {},
   "outputs": [
    {
     "name": "stdout",
     "output_type": "stream",
     "text": [
      "False\n",
      "True\n"
     ]
    }
   ],
   "source": [
    "#🔎 Example\n",
    "\n",
    "# List of values\n",
    "my_list = [1, 2, 3, 4]\n",
    "\n",
    "# Check if a value exists in the list\n",
    "result = 5 in my_list\n",
    "print(result)           # Output: False\n",
    "\n",
    "# Check if a value does NOT exist in the list\n",
    "result = 5 not in my_list\n",
    "print(result)           # Output: True"
   ]
  },
  {
   "cell_type": "markdown",
   "metadata": {},
   "source": [
    "#### 🏷️ Boolean from bool() Function\n",
    "+ You can explicitly create Boolean values using the `bool()` function\n",
    "+ In Python, some values are treated as True or False even if they are not explicitly True or False:\n",
    "\n",
    "\n",
    "✅ Truthy Values (evaluated as `True`):\n",
    "\n",
    "+ Non-zero numbers (1, -1, 0.5)\n",
    "\n",
    "+ Non-empty strings (\"Python\")\n",
    "+ Non-empty collections ([1, 2, 3], {\"key\": \"value\"})\n",
    "\n",
    "🚫 Falsy Values (evaluated as `False`):\n",
    "\n",
    "+ 0\n",
    "+ \"\" (empty string)\n",
    "+ [], {}, set() (empty collections)\n",
    "+ None\n",
    "\n"
   ]
  },
  {
   "cell_type": "code",
   "execution_count": null,
   "metadata": {},
   "outputs": [
    {
     "name": "stdout",
     "output_type": "stream",
     "text": [
      "True\n",
      "False\n",
      "False\n",
      "False\n",
      "True\n",
      "True\n",
      "This is False\n",
      "This is True\n"
     ]
    },
    {
     "data": {
      "text/plain": [
       "'✅ if conditions in Python implicitly check truthiness/falsiness.'"
      ]
     },
     "execution_count": 24,
     "metadata": {},
     "output_type": "execute_result"
    }
   ],
   "source": [
    "# 🔎 Example\n",
    "\n",
    "# Direct creation using bool()\n",
    "b = bool(5 > 3)\n",
    "print(b)              # Output: True\n",
    "\n",
    "# Empty values return False\n",
    "print(bool(\"\"))        # Output: False\n",
    "print(bool(0))         # Output: False\n",
    "print(bool(None))      # Output: False\n",
    "\n",
    "# Non-empty values return True\n",
    "print(bool(\"Python\"))  # Output: True\n",
    "print(bool(123))       # Output: True\n",
    "\n",
    "\n",
    "# Example in \"if-else\" :\n",
    "\n",
    "if []:\n",
    "    print(\"This is True\")\n",
    "else:\n",
    "    print(\"This is False\")  # Output: This is False\n",
    "\n",
    "if \"Python\":\n",
    "    print(\"This is True\")   # Output: This is True\n",
    "'''✅ if conditions in Python implicitly check truthiness/falsiness.'''"
   ]
  },
  {
   "cell_type": "markdown",
   "metadata": {},
   "source": [
    "#### 🛠️ Using Booleans in Conditional Statements\n",
    "Booleans are essential for control flow and logical decision-making using if, else, and elif statements."
   ]
  },
  {
   "cell_type": "code",
   "execution_count": 7,
   "metadata": {},
   "outputs": [
    {
     "name": "stdout",
     "output_type": "stream",
     "text": [
      "Welcome back!\n"
     ]
    }
   ],
   "source": [
    "is_logged_in = True\n",
    "\n",
    "if is_logged_in:\n",
    "    print(\"Welcome back!\")\n",
    "else:\n",
    "    print(\"Please log in.\")"
   ]
  },
  {
   "cell_type": "markdown",
   "metadata": {},
   "source": [
    "#### 💡 Common Mistakes with Booleans\n",
    "🚨 Case Sensitivity:\n",
    "\n",
    "+ `True` and `False` must be capitalized."
   ]
  },
  {
   "cell_type": "code",
   "execution_count": 8,
   "metadata": {},
   "outputs": [
    {
     "ename": "NameError",
     "evalue": "name 'true' is not defined",
     "output_type": "error",
     "traceback": [
      "\u001b[1;31m---------------------------------------------------------------------------\u001b[0m",
      "\u001b[1;31mNameError\u001b[0m                                 Traceback (most recent call last)",
      "Cell \u001b[1;32mIn[8], line 1\u001b[0m\n\u001b[1;32m----> 1\u001b[0m \u001b[38;5;28mprint\u001b[39m(true)\n",
      "\u001b[1;31mNameError\u001b[0m: name 'true' is not defined"
     ]
    }
   ],
   "source": [
    "print(true)  # Error: NameError"
   ]
  },
  {
   "cell_type": "markdown",
   "metadata": {},
   "source": [
    "🚨 Single vs Double Equals:\n",
    "\n",
    "`=` assigns a value; `==` compares values."
   ]
  },
  {
   "cell_type": "code",
   "execution_count": 9,
   "metadata": {},
   "outputs": [
    {
     "name": "stdout",
     "output_type": "stream",
     "text": [
      "True\n"
     ]
    }
   ],
   "source": [
    "x = 5         # Assignment\n",
    "print(x == 5) # Comparison (returns True)"
   ]
  },
  {
   "cell_type": "markdown",
   "metadata": {},
   "source": [
    "#### 🔥Boolean Operations with `and`, `or`, `not`  \n",
    "You’ve covered comparison operators well, but combining Boolean values using logical operators (`and`, `or`, `not`) is essential for decision-making.\n",
    "\n",
    "| Operator | Meaning                                   | Example                 | Result |\n",
    "|----------|-------------------------------------------|-------------------------|--------|\n",
    "| `and`    | Returns `True` if **both** conditions are true | `(5 > 3) and (2 < 4)`   | `True`  |\n",
    "| `or`     | Returns `True` if **at least one** condition is true | `(5 > 3) or (2 > 4)`    | `True`  |\n",
    "| `not`    | Reverses the Boolean value                 | `not (5 > 3)`           | `False` |\n"
   ]
  },
  {
   "cell_type": "code",
   "execution_count": 10,
   "metadata": {},
   "outputs": [
    {
     "name": "stdout",
     "output_type": "stream",
     "text": [
      "True\n",
      "True\n",
      "False\n"
     ]
    },
    {
     "data": {
      "text/plain": [
       "\"✅ 'and' and 'or' are short-circuiting in Python — if the result is determined early, Python stops evaluating the rest of the expression.\""
      ]
     },
     "execution_count": 10,
     "metadata": {},
     "output_type": "execute_result"
    }
   ],
   "source": [
    "# 🔎 Example\n",
    "\n",
    "a = 5 > 3 and 2 < 4   # Both conditions are true\n",
    "b = 5 > 3 or 2 > 4    # One condition is true\n",
    "c = not (5 > 3)       # Reverses the result\n",
    "\n",
    "print(a)  # Output: True\n",
    "print(b)  # Output: True\n",
    "print(c)  # Output: False\n",
    "\n",
    "'''✅ 'and' and 'or' are short-circuiting in Python — if the result is determined early, Python stops evaluating the rest of the expression.'''"
   ]
  },
  {
   "cell_type": "markdown",
   "metadata": {},
   "source": [
    "#### 🔥 2. `is` vs `==` for Boolean Comparison  \n",
    "Many beginners confuse `is` and `==`, especially with Boolean values and `None`.\n",
    "\n",
    "| Operator | Purpose                                | Example                        | Result |\n",
    "|----------|-----------------------------------------|--------------------------------|--------|\n",
    "| `==`     | Compares **values**                     | `5 == 5`                      | `True`  |\n",
    "| `is`      | Compares **object identity**             | `5 is 5`                      | `True`  |\n",
    "| `is`      | Compares if two variables point to the **same object** | `a = [] ; b = [] ; a is b`    | `False` |\n"
   ]
  },
  {
   "cell_type": "code",
   "execution_count": null,
   "metadata": {},
   "outputs": [
    {
     "name": "stdout",
     "output_type": "stream",
     "text": [
      "True\n",
      "True\n",
      "True\n",
      "False\n"
     ]
    }
   ],
   "source": [
    "x = True\n",
    "y = True\n",
    "\n",
    "print(x == y)  # Output: True\n",
    "print(x is y)  # Output: True (because Python caches True/False)\n",
    "\n",
    "a = []\n",
    "b = []\n",
    "\n",
    "print(a == b)  # Output: True (because values are equal)\n",
    "print(a is b)  # Output: False (because they are different objects)\n",
    "\n",
    "'''✅ is checks object identity, while == checks value equality. '''\n"
   ]
  },
  {
   "cell_type": "markdown",
   "metadata": {},
   "source": [
    "#### 🔥 3. Boolean with if, else, elif – Complex Example\n",
    "Adding a slightly more practical example with multiple conditions using if, else, and elif will make it more relatable to real-world coding."
   ]
  },
  {
   "cell_type": "code",
   "execution_count": 12,
   "metadata": {},
   "outputs": [
    {
     "name": "stdout",
     "output_type": "stream",
     "text": [
      "You are not eligible to vote.\n"
     ]
    }
   ],
   "source": [
    "# 🔎 Example\n",
    "# ✅ This example shows how to combine multiple Boolean expressions in decision-making.\n",
    "\n",
    "\n",
    "age = int(input(\"Enter your age: \"))\n",
    "citizen = input(\"Are you a citizen (yes/no)? \").lower()\n",
    "\n",
    "if age >= 18 and citizen == \"yes\":\n",
    "    print(\"You are eligible to vote.\")\n",
    "elif age < 18 and citizen == \"yes\":\n",
    "    print(\"You are not eligible to vote due to age.\")\n",
    "elif age >= 18 and citizen == \"no\":\n",
    "    print(\"You are not eligible to vote due to citizenship status.\")\n",
    "else:\n",
    "    print(\"You are not eligible to vote.\")\n",
    "\n",
    "\n"
   ]
  },
  {
   "cell_type": "markdown",
   "metadata": {},
   "source": [
    "#### 🔥 4. Boolean and None Handling\n",
    "`None` is often treated as False in a Boolean context, but explicitly checking for None is a better practice."
   ]
  },
  {
   "cell_type": "code",
   "execution_count": 13,
   "metadata": {},
   "outputs": [
    {
     "name": "stdout",
     "output_type": "stream",
     "text": [
      "Value is not set.\n"
     ]
    }
   ],
   "source": [
    "# 🔎 Example\n",
    "# ✅ None is often used to represent missing or uninitialized values.\n",
    "\n",
    "value = None\n",
    "\n",
    "if value is None:\n",
    "    print(\"Value is not set.\")\n",
    "else:\n",
    "    print(\"Value is set.\")\n",
    "\n"
   ]
  },
  {
   "cell_type": "markdown",
   "metadata": {},
   "source": [
    "#### 🔥 6. Boolean in while Loops\n",
    "Boolean values also control while loops — great for showing how Booleans can govern iterative logic."
   ]
  },
  {
   "cell_type": "code",
   "execution_count": null,
   "metadata": {},
   "outputs": [
    {
     "name": "stdout",
     "output_type": "stream",
     "text": [
      "Count: 0\n",
      "Count: 1\n",
      "Count: 2\n",
      "Count: 3\n",
      "Count: 4\n"
     ]
    }
   ],
   "source": [
    "# 🔎 Example\n",
    "# ✅ Loops often rely on Booleans for termination conditions.\n",
    "\n",
    "is_running = True\n",
    "counter = 0\n",
    "\n",
    "while is_running:\n",
    "    print(f\"Count: {counter}\")\n",
    "    counter += 1\n",
    "    if counter >= 5:\n",
    "        is_running = False\n"
   ]
  },
  {
   "cell_type": "markdown",
   "metadata": {},
   "source": [
    "#### 🔥 7. Boolean Short-Circuiting in Practice\n",
    "This is a practical tip that makes code more efficient."
   ]
  },
  {
   "cell_type": "code",
   "execution_count": 19,
   "metadata": {},
   "outputs": [
    {
     "name": "stdout",
     "output_type": "stream",
     "text": [
      "Not found\n"
     ]
    }
   ],
   "source": [
    "#🔎 Example\n",
    "# ✅ x and x[0] == 5 short-circuits if x is None — avoids raising an error.\n",
    "\n",
    "x = None\n",
    "\n",
    "# Avoids evaluating x[0] if x is None\n",
    "if x and x[0] == 5:\n",
    "    print(\"Found a 5!\")\n",
    "else:\n",
    "    print(\"Not found\")\n"
   ]
  },
  {
   "cell_type": "markdown",
   "metadata": {},
   "source": [
    "#### ✏️ Exercises\n",
    "1. Create Booleans from Comparison\n",
    "\n",
    "    Write a Python program to:\n",
    "\n",
    "    + Check if 7 is greater than 5.\n",
    "    + Check if 10 is not equal to 10.\n",
    "    + Check if \"Python\" exists in the list ['Java', 'Python', 'C++'].\n",
    "\n",
    "\n",
    "2. Write a Condition-Based Program\n",
    "\n",
    "    Write a Python program that takes user input for age and:\n",
    "\n",
    "    + If the age is greater than or equal to 18, print \"You are eligible to vote.\"\n",
    "    + If the age is less than 18, print \"You are not eligible to vote.\"\n",
    "\n",
    "3. Use bool() to Create Booleans\n",
    "\n",
    "    Convert the following values to Boolean using bool() and explain the results:\n",
    "\n",
    "        0\n",
    "        \"\"\n",
    "        \"Hello\"\n",
    "        123\n",
    "\n",
    "4. Logical Conditions:\n",
    "Write a function that takes three integers and returns True if:\n",
    "\n",
    "    + All values are greater than 0 `AND`\n",
    "    + The sum of the values is greater than 10\n",
    "\n",
    "5. Short-Circuiting:\n",
    "Write a program that checks if a list is non-empty and its first element is greater than 5 — but it should avoid an error if the list is empty.\n",
    "\n",
    "\n",
    "6. Complex `if-else` with Boolean:\n",
    "Create a program that asks for user input:\n",
    "\n",
    "+ If the input is `\"admin\"`, print `\"Welcome, Admin\"`\n",
    "+ If the input is `\"guest\"`, print `\"Welcome, Guest\"`\n",
    "+ If the input is empty or `None`, print `\"Invalid input\"`\n",
    "\n",
    "\n",
    "7. Validation Function\n",
    "Write a function `validate_password()` that checks if:\n",
    "\n",
    "    + Length is at least 8 characters\n",
    "    + Contains at least one digit\n",
    "    + Contains at least one special character\n",
    "\n",
    "    Return `True` if the password meets all criteria; otherwise, return False.\n",
    "\n",
    "8. Create a program that:\n",
    "\n",
    "    Asks the user for their age and income.\n",
    "    + If the user is above 18 and has income > 50,000 → print \"Eligible for credit card.\"\n",
    "    + If the user is above 18 but income < 50,000 → print \"Apply for a secured card.\"\n",
    "    + If the user is below 18 → print \"Not eligible for a credit card.\"\n",
    "\n",
    "9. Boolean with `filter()` and `map()`\n",
    "\n",
    "    Use filter() to extract even numbers from a list, and then use map() to convert them to Boolean (True or False) based on whether they are greater than 5.\n",
    "\n",
    "10. `all()` and `any()` in Decision-Making\n",
    "    Create a function that takes a list of test scores and:\n",
    "\n",
    "    + If all scores are above 40 → print \"Passed\"\n",
    "    + If at least one score is above 40 → print \"Partially Passed\"\n",
    "    + If all scores are below 40 → print \"Failed\"\n",
    "\n",
    "11. Boolean for **Early Exit Strategy**\n",
    "\n",
    "Use short-circuiting to prevent expensive calculations when a condition fails early:\n",
    "\n",
    "```python \n",
    "def is_eligible(age, income):\n",
    "    return age > 18 and income > 50000\n",
    "\n",
    "print(is_eligible(20, 60000))  # Output: True\n",
    "print(is_eligible(16, 60000))  # Output: False (age check fails first)\n",
    "```\n",
    "\n",
    "12. Boolean in API Responses\n",
    "\n",
    "Booleans are often used to simplify API responses:\n",
    "\n",
    "```python\n",
    "response = {\"success\": True, \"data\": {\"message\": \"Record saved\"}}\n",
    "\n",
    "if response[\"success\"]:\n",
    "    print(\"Operation succeeded\")\n",
    "else:\n",
    "    print(\"Operation failed\")\n",
    "```"
   ]
  },
  {
   "cell_type": "markdown",
   "metadata": {},
   "source": [
    "#### 🔥Boolean Chaining with Operator Precedence  \n",
    "When using multiple Boolean operators (`and`, `or`, `not`) in a single statement, Python evaluates them based on precedence:\n",
    "\n",
    "| Operator | Precedence Order |\n",
    "|----------|------------------|\n",
    "| `not`     | Highest          |\n",
    "| `and`     | Middle           |\n",
    "| `or`      | Lowest           |\n"
   ]
  },
  {
   "cell_type": "code",
   "execution_count": 21,
   "metadata": {},
   "outputs": [
    {
     "name": "stdout",
     "output_type": "stream",
     "text": [
      "True\n",
      "True\n"
     ]
    }
   ],
   "source": [
    "#🔎 Example\n",
    "\n",
    "\n",
    "\n",
    "x = 5\n",
    "y = 10\n",
    "z = 0\n",
    "\n",
    "result = not x > 10 and y > 5 or z == 0\n",
    "print(result)  # Output: True\n",
    "\n",
    "'''\n",
    "Explanation:\n",
    "\n",
    "not x > 10 → not False → True\n",
    "True and y > 5 → True and True → True\n",
    "True or z == 0 → True or True → True\n",
    "\n",
    "'''\n",
    "\n",
    "# ✅ If you want to change precedence, use parentheses -- ()  to force a particular order.\n",
    "\n",
    "# 🔎 Example with Parentheses:\n",
    "\n",
    "result = not (x > 10 and y > 5) or z == 0\n",
    "print(result)  # Output: True\n",
    "\n"
   ]
  },
  {
   "cell_type": "markdown",
   "metadata": {},
   "source": [
    "#### 🔥 10. Boolean Return Values from Functions\n",
    "Functions that return `True` or `False` are very common in Python — especially for validation and decision-making."
   ]
  },
  {
   "cell_type": "code",
   "execution_count": null,
   "metadata": {},
   "outputs": [],
   "source": [
    "# 🔎 Example\n",
    "\n",
    "def is_even(number):\n",
    "    return number % 2 == 0\n",
    "\n",
    "print(is_even(4))  # Output: True\n",
    "print(is_even(7))  # Output: False\n",
    "\n",
    "'''\n",
    "Use Case:\n",
    "\n",
    "  - Validating inputs\n",
    "  - Checking if an operation succeeded\n",
    "  - Conditional branching\n",
    "     ✅ Returning Boolean values directly simplifies code and improves readability.\n",
    "\n",
    "'''"
   ]
  },
  {
   "cell_type": "markdown",
   "metadata": {},
   "source": [
    "#### 🔥 11. Boolean in filter(), map(), and reduce()\n",
    "Python’s functional programming tools (filter, map, reduce) often rely on Boolean logic:\n"
   ]
  },
  {
   "cell_type": "code",
   "execution_count": null,
   "metadata": {},
   "outputs": [],
   "source": [
    "#🔎 Example with filter()\n",
    "\n",
    "# Filter only even numbers\n",
    "numbers = [1, 2, 3, 4, 5, 6]\n",
    "even_numbers = list(filter(lambda x: x % 2 == 0, numbers))\n",
    "print(even_numbers)  # Output: [2, 4, 6]\n",
    "\n",
    "#🔎 Example with map()\n",
    "# Convert to Boolean based on even check\n",
    "result = list(map(lambda x: x % 2 == 0, numbers))\n",
    "print(result)  # Output: [False, True, False, True, False, True]\n",
    "\n",
    "#🔎 Example with reduce()\n",
    "from functools import reduce\n",
    "\n",
    "# Check if all numbers are greater than 0\n",
    "result = reduce(lambda x, y: x and y > 0, numbers)\n",
    "print(result)  # Output: True\n",
    "\n",
    "'''\n",
    "✅ filter returns values where the function returns True.\n",
    "✅ map transforms values based on a Boolean condition.\n",
    "✅ reduce applies Boolean logic across a sequence.'\n",
    "'''"
   ]
  },
  {
   "cell_type": "markdown",
   "metadata": {},
   "source": [
    "#### 🔥 12. any() and all() for Boolean Evaluation\n",
    "any() returns True if at least one value in an iterable is True.\n",
    "\n",
    "all() returns True only if all values in an iterable are True.\n"
   ]
  },
  {
   "cell_type": "code",
   "execution_count": null,
   "metadata": {},
   "outputs": [],
   "source": [
    "#🔎 Example with any()\n",
    "\n",
    "values = [0, 0, 1, 0]\n",
    "print(any(values))  # Output: True\n",
    "\n",
    "#🔎 Example with all()\n",
    "\n",
    "values = [1, 1, 1, 1]\n",
    "print(all(values))  # Output: True\n",
    "\n",
    "values = [1, 0, 1, 1]\n",
    "print(all(values))  # Output: False\n",
    "\n",
    "'''\n",
    "Use Cases:\n",
    "✅ any() → Checking if at least one condition is met (e.g., form submission)\n",
    "✅ all() → Ensuring all conditions are met (e.g., user permissions)'\n",
    "'''"
   ]
  },
  {
   "cell_type": "markdown",
   "metadata": {},
   "source": [
    "#### 🔥 13. Boolean Conversion Using int() and str()\n",
    "You can convert Booleans to integers (1 for True, 0 for False) or strings ('True' or 'False').\n",
    "\n"
   ]
  },
  {
   "cell_type": "code",
   "execution_count": 22,
   "metadata": {},
   "outputs": [
    {
     "name": "stdout",
     "output_type": "stream",
     "text": [
      "1\n",
      "0\n",
      "True\n"
     ]
    },
    {
     "data": {
      "text/plain": [
       "'\\nUse Cases:\\n✅ int() → Useful for counting True values\\n✅ str() → Useful for logging or displaying status\\n'"
      ]
     },
     "execution_count": 22,
     "metadata": {},
     "output_type": "execute_result"
    }
   ],
   "source": [
    "#🔎 Example\n",
    "\n",
    "# Convert Boolean to Integer\n",
    "a = True\n",
    "print(int(a))  # Output: 1\n",
    "\n",
    "b = False\n",
    "print(int(b))  # Output: 0\n",
    "\n",
    "# Convert Boolean to String\n",
    "print(str(a))  # Output: 'True'\n",
    "\n",
    "'''\n",
    "Use Cases:\n",
    "✅ int() → Useful for counting True values\n",
    "✅ str() → Useful for logging or displaying status\n",
    "'''"
   ]
  },
  {
   "cell_type": "markdown",
   "metadata": {},
   "source": [
    "#### 🔥 14. Boolean in List Comprehensions\n",
    "List comprehensions can also use Boolean logic to filter or modify values.\n",
    "\n"
   ]
  },
  {
   "cell_type": "code",
   "execution_count": 23,
   "metadata": {},
   "outputs": [
    {
     "name": "stdout",
     "output_type": "stream",
     "text": [
      "[2, 4, 6]\n"
     ]
    },
    {
     "data": {
      "text/plain": [
       "'✅ This is a powerful technique for clean, readable code.'"
      ]
     },
     "execution_count": 23,
     "metadata": {},
     "output_type": "execute_result"
    }
   ],
   "source": [
    "#🔎 Example\n",
    "numbers = [1, 2, 3, 4, 5, 6]\n",
    "\n",
    "# Only keep even numbers\n",
    "evens = [n for n in numbers if n % 2 == 0]\n",
    "print(evens)  # Output: [2, 4, 6]\n",
    "\n",
    "'''✅ This is a powerful technique for clean, readable code.'''"
   ]
  },
  {
   "cell_type": "markdown",
   "metadata": {},
   "source": [
    "#### 🏁 Summary / Key Takeaways\n",
    "\n",
    "✔️ `True` and `False` are capitalized in Python.\n",
    "\n",
    "✔️ Comparison operators `(==, !=, >, <, >=, <=)` return Boolean values.\n",
    "\n",
    "✔️ `and`, `or`, `not` control logical flow and decision-making.\n",
    "\n",
    "✔️ `bool()` converts values to Boolean.\n",
    "\n",
    "✔️ `in` and `not in` are used for membership testing.\n",
    "\n",
    "✔️ `is` checks object identity, == checks value equality.\n",
    "\n",
    "✔️ `any()` and `all()` provide quick list-based Boolean evaluation.\n",
    "\n",
    "✔️ Booleans are widely used in control structures (`if, else, while`).\n",
    "\n",
    "✔️ Short-circuiting helps improve code efficiency.\n",
    "\n",
    "✔️ Booleans are critical for data validation, filtering, and decision-making.\n",
    "\n"
   ]
  }
 ],
 "metadata": {
  "kernelspec": {
   "display_name": "Python 3",
   "language": "python",
   "name": "python3"
  },
  "language_info": {
   "codemirror_mode": {
    "name": "ipython",
    "version": 3
   },
   "file_extension": ".py",
   "mimetype": "text/x-python",
   "name": "python",
   "nbconvert_exporter": "python",
   "pygments_lexer": "ipython3",
   "version": "3.11.7"
  }
 },
 "nbformat": 4,
 "nbformat_minor": 2
}
