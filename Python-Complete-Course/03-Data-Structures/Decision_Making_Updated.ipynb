{
 "cells": [
  {
   "cell_type": "code",
   "execution_count": null,
   "metadata": {},
   "outputs": [],
   "source": []
  },
  {
   "cell_type": "markdown",
   "metadata": {},
   "source": [
    "## 📝 Control Flow in Python\n",
    "\n",
    "#### **Learning Objectives**\n",
    "\n",
    "By the end of this lesson, you will be able to:\n",
    "\n",
    " ✅ Understand the concept of control flow in Python\n",
    "\n",
    " ✅ Use if, elif, and else to make decisions in your code\n",
    "\n",
    " ✅ Handle multiple conditions using nested if statements\n",
    "\n",
    " ✅ Understand Python's indentation rules for control flow\n"
   ]
  },
  {
   "cell_type": "markdown",
   "metadata": {},
   "source": [
    "#### **1. What is Control Flow?**\n",
    "Control flow allows a program to make decisions based on certain conditions. Depending on whether a condition is met, the program can execute one block of code or another.\n",
    "\n",
    "##### 🚀 **Why is Control Flow Important?**\n",
    "+ Allows the program to adapt based on input or state.\n",
    "+ Essential for creating decision-making logic.\n",
    "+ Forms the foundation for complex programming structures like AI, automation, and game development.\n",
    "\n",
    "#### **Example Scenarios**\n",
    "\n",
    "✔️ In a video game:\n",
    "\n",
    "+ If the player defeats the enemy → Move to the next level\n",
    "+ If the player fails → Subtract a life and restart the level\n",
    "\n",
    "✔️ In a database management system:\n",
    "\n",
    "+ If the record is found → Display the record\n",
    "+ If the record is not found → Show an error message\n",
    "\n"
   ]
  },
  {
   "cell_type": "markdown",
   "metadata": {},
   "source": [
    "#### **2. Basic Syntax**\n",
    "Python uses three main keywords for control flow:\n",
    "\n",
    "+ `if` → Execute a block of code if a condition is true\n",
    "+ `elif` → Test another condition if the previous one is false\n",
    "+ `else` → Execute a block of code if none of the previous conditions are true\n",
    "\n",
    "**Syntax Example:**\n",
    "\n",
    "```python\n",
    "if condition:\n",
    "    # Code to execute if condition is true\n",
    "elif another_condition:\n",
    "    # Code to execute if the first condition is false and another_condition is true\n",
    "else:\n",
    "    # Code to execute if none of the above conditions are true\n",
    "```"
   ]
  },
  {
   "cell_type": "markdown",
   "metadata": {},
   "source": [
    "\n",
    "\n",
    "✅ **Key Points:**\n",
    "\n",
    "✔️ `:` at the end of if, elif, and else is mandatory.\n",
    "\n",
    "✔️ Indentation defines the code block that belongs to the condition.\n",
    "\n",
    "✔️ Python is strict about indentation — improper indentation will cause an error.\n"
   ]
  },
  {
   "cell_type": "code",
   "execution_count": null,
   "metadata": {},
   "outputs": [],
   "source": []
  },
  {
   "cell_type": "markdown",
   "metadata": {},
   "source": [
    "#### 3. Example 1: Simple `if` Statement\n"
   ]
  },
  {
   "cell_type": "code",
   "execution_count": null,
   "metadata": {},
   "outputs": [],
   "source": [
    "\n",
    "\n",
    "x = 10\n",
    "if x > 5:\n",
    "    print(\"x is greater than 5\")\n"
   ]
  },
  {
   "cell_type": "markdown",
   "metadata": {},
   "source": [
    "#### 4. Example 2: `if-else` Statement\n",
    "\n"
   ]
  },
  {
   "cell_type": "code",
   "execution_count": null,
   "metadata": {},
   "outputs": [],
   "source": [
    "x = 5\n",
    "if x > 10:\n",
    "    print(\"x is greater than 10\")\n",
    "else:\n",
    "    print(\"x is not greater than 10\")"
   ]
  },
  {
   "cell_type": "markdown",
   "metadata": {},
   "source": [
    "#### 5. Example 3: `if-elif-else` Statement\n",
    "\n"
   ]
  },
  {
   "cell_type": "code",
   "execution_count": null,
   "metadata": {},
   "outputs": [],
   "source": [
    "x = 10\n",
    "if x > 10:\n",
    "    print(\"x is greater than 10\")\n",
    "elif x == 10:\n",
    "    print(\"x is exactly 10\")\n",
    "else:\n",
    "    print(\"x is less than 10\")"
   ]
  },
  {
   "cell_type": "markdown",
   "metadata": {},
   "source": [
    "#### 6. Example 4: Nested `if` Statements\n",
    "\n",
    "You can nest if statements within each other to handle complex logic.\n",
    "\n",
    "\n"
   ]
  },
  {
   "cell_type": "code",
   "execution_count": null,
   "metadata": {},
   "outputs": [],
   "source": [
    "age = 16\n",
    "\n",
    "if age < 18:\n",
    "    print(\"You are a minor\")\n",
    "    school_grade = 9\n",
    "    if school_grade >= 7:\n",
    "        print(\"Passed!\")\n",
    "    else:\n",
    "        print(\"Failed!\")\n",
    "else:\n",
    "    print(\"You are an adult\")\n"
   ]
  },
  {
   "cell_type": "markdown",
   "metadata": {},
   "source": [
    "#### 7. Example 5: Multiple `elif` Statements\n",
    "\n",
    "You can use multiple elif to check for different conditions:\n",
    "\n",
    "\n",
    "\n"
   ]
  },
  {
   "cell_type": "code",
   "execution_count": null,
   "metadata": {},
   "outputs": [],
   "source": [
    "pet = \"dog\"\n",
    "\n",
    "if pet == \"cat\":\n",
    "    print(\"You have a cat\")\n",
    "elif pet == \"dog\":\n",
    "    print(\"You have a dog\")\n",
    "elif pet == \"fish\":\n",
    "    print(\"You have a fish\")\n",
    "else:\n",
    "    print(\"Unknown pet\")\n"
   ]
  },
  {
   "cell_type": "markdown",
   "metadata": {},
   "source": [
    "#### 8. Best Practices\n",
    "\n",
    "✅ Keep conditions simple and readable.\n",
    "\n",
    "✅ Avoid excessive nesting — use logical operators (and, or) if possible.\n",
    "\n",
    "✅ Use meaningful variable names to improve code readability.\n",
    "\n",
    "✅ Maintain consistent indentation (4 spaces is the Python standard)."
   ]
  },
  {
   "cell_type": "markdown",
   "metadata": {},
   "source": [
    "#### 9. Exercises\n",
    "\n",
    "Try the following exercises to reinforce your understanding of control flow:\n",
    "\n",
    "**Exercise 1: Basic `if` Statement**\n",
    "\n",
    "Create a program that checks if a number is positive, negative, or zero and prints an appropriate message.\n",
    "\n",
    "**Exercise 2: `if-else` Statement**\n",
    "Write a program that checks if a person’s age is greater than 18.\n",
    "\n",
    "+ If yes, print \"You are an adult.\"\n",
    "+ If not, print \"You are a minor.\"\n",
    "\n",
    "**Exercise 3: `if-elif-else` Statement**\n",
    "Create a program that checks:\n",
    "\n",
    "+ If a number is divisible by 3 → Print \"Divisible by 3\"\n",
    "+ If divisible by 5 → Print \"Divisible by 5\"\n",
    "+ If divisible by both → Print \"Divisible by both\"\n",
    "+ Otherwise → Print \"Not divisible by 3 or 5\"\n",
    "\n",
    "**Exercise 4: Nested `if` Statements**\n",
    "Write a program that:\n",
    "\n",
    "+ Takes a person’s age and school grade as input.\n",
    "+ If age < 18, check the school grade:\n",
    "    + If grade ≥ 7 → Print \"Passed\"\n",
    "    + Otherwise → Print \"Failed\"\n",
    "\n",
    "**Exercise 5:**\n",
    "\n",
    "Using the variables num1 and num2, which are fed with user input, create a flow control structure that compares the values of the variables, and returns a result according to the case:\n",
    "\n",
    "+ \"num1 is greater than num2\"\n",
    "\n",
    "+ \"num2 is greater than num1\"\n",
    "\n",
    "+ \"num1 and num2 are equal\"\n",
    "\n",
    "You must display the value of the user input instead of num1 and num2.\n",
    "\n",
    "**Exercise 6:**\n",
    "\n",
    "The laws of a certain country establish that an adult can drive if they are of legal age (18 years or older), and have a driver's license.\n",
    "\n",
    "Create a conditional structure to check if a 16-year-old without a license can drive, and display the corresponding result on the screen:\n",
    "\n",
    "+ \"You can drive\"\n",
    "+ \"You can't drive yet. You must be 18 years old and have a license\"\n",
    "+ \"You can't drive. You need to have a license\"\n",
    "\n",
    "Use the code base already provided to set up the appropriate flow control structure and check those conditions.\n",
    "```python\n",
    "\n",
    "  age = 16  \n",
    "  has_license = False\n",
    "\n",
    "  \"You can drive\"\n",
    "\n",
    "  \"You can't drive yet. You must be 18 years old and have a license\"\n",
    "\n",
    "  \"You can't drive. You need to have a license\"\n",
    "```\n",
    "\n",
    "\n",
    "**Exercise 7:**\n",
    "\n",
    "To access a certain job, the candidate must be able to program in Python and speak French.\n",
    "\n",
    "Create a conditional structure to evaluate a candidate given these conditions, and display the corresponding message on the screen:\n",
    "\n",
    "+ \"You meet the requirements to apply\"\n",
    "+ \"To apply, you need to know how to program in Python and speak French\"\n",
    "+ \"To apply, you need to speak French\"\n",
    "+ \"To apply, you need to know how to program in Python\"\n",
    "\n",
    "Use the code already provided to set up the appropriate flow control structure and check those conditions. **Evaluate a candidate who knows French, but does not know how to program in Python.**\n",
    "\n",
    " **Code:**\n",
    "  ```python\n",
    "  \n",
    "    speak_french = True\n",
    "    knows_python = False\n",
    "\n",
    "    \"You meet the requirements to apply\"\n",
    "\n",
    "    \"To apply, you need to know how to program in Python and speak French\"\n",
    "\n",
    "    \"To apply, you need to speak French\"\n",
    "\n",
    "    \"To apply, you need to know how to program in Python\"\n",
    "```\n"
   ]
  },
  {
   "cell_type": "markdown",
   "metadata": {},
   "source": [
    "#### 10. Common Errors\n",
    "\n",
    "❌ Incorrect indentation – Python requires consistent indentation\n",
    "\n",
    "❌ Missing colon – Always use : at the end of if, elif, and else\n",
    "\n",
    "❌ Invalid conditions – Ensure conditions return True or False"
   ]
  },
  {
   "cell_type": "markdown",
   "metadata": {},
   "source": [
    "#### 11. Summary/Key Takeaways\n",
    "\n",
    "✅ Control flow allows programs to make decisions based on conditions.\n",
    "\n",
    "✅ if statement checks a single condition.\n",
    "\n",
    "✅ if-else handles two scenarios.\n",
    "\n",
    "✅ if-elif-else handles multiple scenarios.\n",
    "\n",
    "✅ Indentation and colons are critical in Python's syntax.\n",
    "\n",
    "✅ You can nest if statements to handle complex scenarios."
   ]
  }
 ],
 "metadata": {
  "kernelspec": {
   "display_name": "base",
   "language": "python",
   "name": "python3"
  },
  "language_info": {
   "codemirror_mode": {
    "name": "ipython",
    "version": 3
   },
   "file_extension": ".py",
   "mimetype": "text/x-python",
   "name": "python",
   "nbconvert_exporter": "python",
   "pygments_lexer": "ipython3",
   "version": "3.11.7"
  }
 },
 "nbformat": 4,
 "nbformat_minor": 2
}
