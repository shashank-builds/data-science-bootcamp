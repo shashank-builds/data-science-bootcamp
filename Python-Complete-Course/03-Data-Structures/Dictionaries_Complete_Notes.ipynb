{
 "cells": [
  {
   "cell_type": "markdown",
   "metadata": {},
   "source": [
    "#### **Status**: Completed\n",
    "- _All dictionary topics covered including advanced methods, and nested dictionaries (Last updated: March 18, 2025)_\n",
    "- <p style=\"font-size:18px; color:red;\"><i>dictionary comprehensions, lambda functions</i></p>\n",
    "\n",
    "---"
   ]
  },
  {
   "cell_type": "markdown",
   "metadata": {},
   "source": [
    "## 📌 **Python Dictionaries**\n",
    "\n",
    "A dictionary in Python is a collection of key-value pairs where:\n",
    "\n",
    "  ✅ Each key is unique (cannot be repeated).\n",
    "\n",
    "  ✅ Each value can be of any data type (string, int, float, list, dictionary, etc.).\n",
    "\n",
    "  ✅ Dictionaries are unordered — the order in which you create the elements does not matter.\n",
    "\n",
    "  ✅ Values are accessed using keys (not by index).\n",
    "\n",
    "#### 💡 **Real-Life Example of a Dictionary**\n",
    "\n",
    "- *A real-world dictionary*: **Word** → **Definition**  \n",
    "- *Python dictionary*: **Key** → **Value**\n",
    "\n",
    "---"
   ]
  },
  {
   "cell_type": "markdown",
   "metadata": {},
   "source": [
    "#### 🏆 **How to Create a Dictionary**\n",
    "\n",
    "\n",
    "\n",
    "##### ✅ Syntax:\n",
    "\n",
    "```python\n",
    "my_dict = {\n",
    "    \"key1\": \"value1\",\n",
    "    \"key2\": \"value2\"\n",
    "}\n",
    "```\n",
    "- Use curly braces {} to define the dictionary\n",
    "- Separate key and value with a colon : \n",
    "- Separate different key-value pairs with a comma ,\n"
   ]
  },
  {
   "cell_type": "code",
   "execution_count": null,
   "metadata": {},
   "outputs": [
    {
     "ename": "",
     "evalue": "",
     "output_type": "error",
     "traceback": [
      "\u001b[1;31mRunning cells with 'Python 3.11.9' requires the ipykernel package.\n",
      "\u001b[1;31mRun the following command to install 'ipykernel' into the Python environment. \n",
      "\u001b[1;31mCommand: 'c:/Users/SB756FM/AppData/Local/Microsoft/WindowsApps/python3.11.exe -m pip install ipykernel -U --user --force-reinstall'"
     ]
    }
   ],
   "source": [
    "# Example\n",
    "\n",
    "my_dict1 = {\n",
    "    \"C1\": \"Value1\",\n",
    "    \"C2\": \"Value2\"\n",
    "}\n",
    "print(my_dict1)\n",
    "\n",
    "my_dict2 = {\n",
    "    \"name\": \"Shashank\",\n",
    "    \"age\": 30,\n",
    "    \"city\": \"New York\"\n",
    "}\n",
    "print(my_dict2)"
   ]
  },
  {
   "cell_type": "markdown",
   "metadata": {},
   "source": [
    "#### 🔍 How to Access Elements\n",
    "\n",
    "Use the key to access values.\n",
    "\n",
    "**Syntax:**\n",
    "```python\n",
    "value = my_dict[\"key\"]\n",
    "```\n"
   ]
  },
  {
   "cell_type": "code",
   "execution_count": 88,
   "metadata": {},
   "outputs": [
    {
     "name": "stdout",
     "output_type": "stream",
     "text": [
      "Shashank\n",
      "30\n"
     ]
    }
   ],
   "source": [
    "my_dict = {\n",
    "    \"name\": \"Shashank\",\n",
    "    \"age\": 30\n",
    "}\n",
    "\n",
    "print(my_dict[\"name\"])   # Output: Shashank\n",
    "print(my_dict[\"age\"])    # Output: 30\n",
    "#print(my_dict[\"height\"]) # raises KeyError: 'height' -- solution in later steps\n"
   ]
  },
  {
   "cell_type": "markdown",
   "metadata": {},
   "source": [
    "#### 🔄 Keys Must Be Unique\n",
    "\n",
    "- Keys cannot be repeated — they must be unique.\n",
    "- Values can be repeated.\n"
   ]
  },
  {
   "cell_type": "code",
   "execution_count": 89,
   "metadata": {},
   "outputs": [],
   "source": [
    "my_dict = {\n",
    "    \"C1\": \"Value1\",\n",
    "    \"C2\": \"Value2\",\n",
    "    \"C3\": \"Value1\"   # Allowed (value repetition)\n",
    "}"
   ]
  },
  {
   "cell_type": "markdown",
   "metadata": {},
   "source": [
    "❌ If keys are duplicated:\n",
    "The last value assigned to the key will overwrite the previous one."
   ]
  },
  {
   "cell_type": "code",
   "execution_count": 90,
   "metadata": {},
   "outputs": [
    {
     "name": "stdout",
     "output_type": "stream",
     "text": [
      "{'C1': 'Value2'}\n"
     ]
    }
   ],
   "source": [
    "my_dict = {\n",
    "    \"C1\": \"Value1\",\n",
    "    \"C1\": \"Value2\"   # Overwrites the first \"C1\"\n",
    "}\n",
    "print(my_dict)   # Output: {'C1': 'Value2'}"
   ]
  },
  {
   "cell_type": "markdown",
   "metadata": {},
   "source": [
    "#### 🧠 When to Use a Dictionary vs. List\n",
    "\n",
    "| **List**                              | **Dictionary**                              |\n",
    "|---------------------------------------|---------------------------------------------|\n",
    "| Ordered collection of values          | Unordered collection of key-value pairs     |\n",
    "| Access by index                       | Access by key                               |\n",
    "| Values can be duplicated              | Keys must be unique                         |\n",
    "| Good for storing sequences of items   | Good for storing attributes of an object    |\n",
    "\n",
    "##### ✅ Example Use Case:\n",
    "- **Use a list** for ordered data (e.g., list of names).  \n",
    "- **Use a dictionary** to store related attributes (e.g., person’s name, age, height)."
   ]
  },
  {
   "cell_type": "markdown",
   "metadata": {},
   "source": [
    "==========================================================================\n",
    "\n",
    "#### 🚀 Modifying a Dictionary\n",
    "\n",
    "##### ➡️ Add New Key-Value Pair:\n",
    "\n",
    "**Syntax**:\n",
    "```python\n",
    "my_dict[\"new_key\"] = \"new_value\"\n",
    "```\n"
   ]
  },
  {
   "cell_type": "code",
   "execution_count": 91,
   "metadata": {},
   "outputs": [
    {
     "name": "stdout",
     "output_type": "stream",
     "text": [
      "{'name': 'Shashank', 'age': 30, 'city': 'New York'}\n"
     ]
    }
   ],
   "source": [
    "my_dict = {\"name\": \"Shashank\", \"age\": 30}\n",
    "my_dict[\"city\"] = \"New York\"\n",
    "\n",
    "print(my_dict)  \n",
    "# Output: {'name': 'John', 'age': 30, 'city': 'New York'}"
   ]
  },
  {
   "cell_type": "markdown",
   "metadata": {},
   "source": [
    "#### ➡️ Update Existing Value\n",
    "``` python \n",
    "      my_dict[\"age\"] = 35\n",
    "```"
   ]
  },
  {
   "cell_type": "code",
   "execution_count": 92,
   "metadata": {},
   "outputs": [
    {
     "name": "stdout",
     "output_type": "stream",
     "text": [
      "{'name': 'shashank', 'age': 35}\n"
     ]
    }
   ],
   "source": [
    "my_dict = {\"name\": \"shashank\", \"age\": 30}\n",
    "my_dict[\"age\"] = 35\n",
    "\n",
    "print(my_dict)   # Output: {'name': 'shashank', 'age': 35}"
   ]
  },
  {
   "cell_type": "markdown",
   "metadata": {},
   "source": [
    "#### ➡️ Delete Key-Value Pair:\n",
    "``` python \n",
    "      del my_dict[\"key\"]\n",
    "```"
   ]
  },
  {
   "cell_type": "code",
   "execution_count": 93,
   "metadata": {},
   "outputs": [
    {
     "name": "stdout",
     "output_type": "stream",
     "text": [
      "{'name': 'shashank'}\n"
     ]
    }
   ],
   "source": [
    "my_dict = {\"name\": \"shashank\", \"age\": 30}\n",
    "del my_dict[\"age\"]\n",
    "\n",
    "print(my_dict)  # Output: {'name': 'John'}\n"
   ]
  },
  {
   "cell_type": "markdown",
   "metadata": {},
   "source": [
    "#### ➡️ 🎯 Nested Dictionaries\n",
    "+ A dictionary can contain:\n",
    "   + Another dictionary\n",
    "   + A list\n",
    "   + A tuple\n",
    "\n",
    "\n",
    "\n",
    "\n"
   ]
  },
  {
   "cell_type": "code",
   "execution_count": 94,
   "metadata": {},
   "outputs": [
    {
     "name": "stdout",
     "output_type": "stream",
     "text": [
      "{'key1': 55, 'key2': [10, 20, 30], 'key3': {'subkey1': 100, 'subkey2': 200}}\n"
     ]
    }
   ],
   "source": [
    "my_dict = {\n",
    "    \"key1\": 55,\n",
    "    \"key2\": [10, 20, 30],\n",
    "    \"key3\": {\n",
    "        \"subkey1\": 100,\n",
    "        \"subkey2\": 200\n",
    "    }\n",
    "}\n",
    "\n",
    "print(my_dict)"
   ]
  },
  {
   "cell_type": "markdown",
   "metadata": {},
   "source": [
    "#### 🔎 Accessing Nested Elements:\n",
    " 1.  **Access a list element** within a dictionary:"
   ]
  },
  {
   "cell_type": "code",
   "execution_count": 95,
   "metadata": {},
   "outputs": [
    {
     "name": "stdout",
     "output_type": "stream",
     "text": [
      "20\n"
     ]
    }
   ],
   "source": [
    "print(my_dict[\"key2\"][1])  # Output: 20"
   ]
  },
  {
   "cell_type": "markdown",
   "metadata": {},
   "source": [
    " 2.  **Access a dictionary** within a dictionary:"
   ]
  },
  {
   "cell_type": "code",
   "execution_count": 96,
   "metadata": {},
   "outputs": [
    {
     "name": "stdout",
     "output_type": "stream",
     "text": [
      "200\n"
     ]
    }
   ],
   "source": [
    "print(my_dict[\"key3\"][\"subkey2\"])  # Output: 200\n"
   ]
  },
  {
   "cell_type": "markdown",
   "metadata": {},
   "source": [
    "\n",
    "\n",
    "#### 🌟 Dictionary Methods\n",
    "##### ✅ 1. keys() <- Get All Keys using this method:\n",
    "\n",
    "➡️ Returns a dict_keys object containing all keys.\n",
    "\n",
    "\n"
   ]
  },
  {
   "cell_type": "code",
   "execution_count": 97,
   "metadata": {},
   "outputs": [
    {
     "name": "stdout",
     "output_type": "stream",
     "text": [
      "dict_keys(['key1', 'key2', 'key3'])\n"
     ]
    }
   ],
   "source": [
    "print(my_dict.keys())\n"
   ]
  },
  {
   "cell_type": "markdown",
   "metadata": {},
   "source": [
    "\n",
    "\n",
    "##### ✅ 2. values() <-- Get All Values:\n",
    "➡️ Returns a dict_values object containing all values.\n",
    "\n",
    "\n",
    "\n"
   ]
  },
  {
   "cell_type": "code",
   "execution_count": 98,
   "metadata": {},
   "outputs": [
    {
     "name": "stdout",
     "output_type": "stream",
     "text": [
      "dict_values([55, [10, 20, 30], {'subkey1': 100, 'subkey2': 200}])\n"
     ]
    }
   ],
   "source": [
    "print(my_dict.values())\n"
   ]
  },
  {
   "cell_type": "markdown",
   "metadata": {},
   "source": [
    "##### ✅ 3. items() <-- Get All Key-Value Pairs:\n",
    "➡️ Returns a dict_items object containing key-value pairs as tuples.\n",
    "\n",
    "\n",
    "\n"
   ]
  },
  {
   "cell_type": "code",
   "execution_count": 99,
   "metadata": {},
   "outputs": [
    {
     "name": "stdout",
     "output_type": "stream",
     "text": [
      "dict_items([('key1', 55), ('key2', [10, 20, 30]), ('key3', {'subkey1': 100, 'subkey2': 200})])\n"
     ]
    }
   ],
   "source": [
    "print(my_dict.items())\n"
   ]
  },
  {
   "cell_type": "markdown",
   "metadata": {},
   "source": [
    "##### ✅ 4. Use get() to Avoid Errors:\n",
    "+ Alternative for a simple accessing eg; my_dict[\"height\"]  -- error while trying to access non-existent key\n",
    "+ Returns the value for a specified key.\n",
    "+ If the key does not exist, it returns None (or a default value if specified) without raising a KeyError."
   ]
  },
  {
   "cell_type": "code",
   "execution_count": 100,
   "metadata": {},
   "outputs": [
    {
     "name": "stdout",
     "output_type": "stream",
     "text": [
      "Default Value\n"
     ]
    }
   ],
   "source": [
    "value = my_dict.get(\"nonexistent_key\", \"Default Value\")\n",
    "print(value)   # Output: Default Value"
   ]
  },
  {
   "cell_type": "markdown",
   "metadata": {},
   "source": [
    "##### ✅ 5. Error Handling (KeyError) \n",
    "Check if a Key Exists: If you try to access a key that doesn’t exist without using *.get()* , Python will raise a KeyError."
   ]
  },
  {
   "cell_type": "code",
   "execution_count": 101,
   "metadata": {},
   "outputs": [
    {
     "name": "stdout",
     "output_type": "stream",
     "text": [
      "not exists\n"
     ]
    }
   ],
   "source": [
    "my_dict = {'name': 'shashank'}\n",
    "# print(my_dict['age'])  # Raises KeyError: 'age'\n",
    "\n",
    "''' Solution:\n",
    "# Use .get() or defaultdict to avoid KeyError.\n",
    "print(my_dict.get('age', 'Not Found'))  # Output: Not Found \n",
    "\n",
    "or using the below if-else handling .. '''\n",
    "\n",
    "if \"age\" in my_dict:\n",
    "    print(\"Key exists!\")\n",
    "else:\n",
    "    print(\"not exists\")\n"
   ]
  },
  {
   "cell_type": "markdown",
   "metadata": {},
   "source": [
    "##### ✅ 6. Merging Dictionaries\n",
    "\n",
    " 6.1  update()\n",
    " - Merges two dictionaries.\n",
    " - Modifies the original dictionary in place.\n",
    "- If there are overlapping keys, values from the second dictionary will overwrite values in the first dictionary.\n",
    " - Returns None (modifies the original object).\n"
   ]
  },
  {
   "cell_type": "code",
   "execution_count": 102,
   "metadata": {},
   "outputs": [
    {
     "name": "stdout",
     "output_type": "stream",
     "text": [
      "{'a': 1, 'b': 3, 'c': 4}\n"
     ]
    },
    {
     "data": {
      "text/plain": [
       "\"Explanation:\\n\\n'b' existed in both dictionaries → value from dict2 (3) overwrites the value from dict1 (2).\\nThe original dict1 is modified directly.\""
      ]
     },
     "execution_count": 102,
     "metadata": {},
     "output_type": "execute_result"
    }
   ],
   "source": [
    "dict1 = {'a': 1, 'b': 2}\n",
    "dict2 = {'b': 3, 'c': 4}\n",
    "dict1.update(dict2)\n",
    "print(dict1)  # Output: {'a': 1, 'b': 3, 'c': 4}\n",
    "\n",
    "\"\"\"Explanation:\n",
    "\n",
    "'b' existed in both dictionaries → value from dict2 (3) overwrites the value from dict1 (2).\n",
    "The original dict1 is modified directly.\"\"\"\n",
    "\n"
   ]
  },
  {
   "cell_type": "markdown",
   "metadata": {},
   "source": [
    "6.2  using  | Operator (Python 3.9+)\n",
    "- Does NOT modify the original dictionaries — creates a new dictionary.\n",
    "- If there are overlapping keys, values from the second dictionary will overwrite values in the first dictionary in the new result.\n",
    "- Returns a new dictionary instead of modifying in place\n"
   ]
  },
  {
   "cell_type": "code",
   "execution_count": 103,
   "metadata": {},
   "outputs": [
    {
     "name": "stdout",
     "output_type": "stream",
     "text": [
      "{'a': 1, 'b': 3, 'c': 4}\n"
     ]
    },
    {
     "data": {
      "text/plain": [
       "\"Explanation:\\n'b' existed in both dictionaries → value from dict2 (3) overwrites value from dict1 (2) in the new dictionary.\\ndict1 remains unchanged \""
      ]
     },
     "execution_count": 103,
     "metadata": {},
     "output_type": "execute_result"
    }
   ],
   "source": [
    "dict1 = {'a': 1, 'b': 2}\n",
    "dict2 = {'b': 3, 'c': 4}\n",
    "result = dict1 | dict2\n",
    "print(result)   # Output: {'a': 1, 'b': 3, 'c': 4}\n",
    "\n",
    "\"\"\"Explanation:\n",
    "'b' existed in both dictionaries → value from dict2 (3) overwrites value from dict1 (2) in the new dictionary.\n",
    "dict1 remains unchanged \"\"\"\n"
   ]
  },
  {
   "cell_type": "markdown",
   "metadata": {},
   "source": [
    "##### ✅ 7. pop()\n",
    "- Removes the specified key and returns its value.\n",
    "- Raises a KeyError if the key doesn’t exist unless a default value is provided.\n"
   ]
  },
  {
   "cell_type": "code",
   "execution_count": 104,
   "metadata": {},
   "outputs": [
    {
     "name": "stdout",
     "output_type": "stream",
     "text": [
      "30\n",
      "{'name': 'shashank'}\n",
      "5.9\n"
     ]
    }
   ],
   "source": [
    "my_dict = {'name': 'shashank', 'age': 30}\n",
    "age = my_dict.pop('age')\n",
    "print(age)               # Output: 30\n",
    "print(my_dict)           # Output: {'name': 'shashank'}\n",
    "\n",
    "# Non-existing key without default -> Raises KeyError\n",
    "# print(my_dict.pop('height'))  # KeyError: 'height'\n",
    "\n",
    "# Non-existing key with default value -> No error\n",
    "height = my_dict.pop('height',5.9)\n",
    "print(height)             # Output: 5.9\n",
    "\n"
   ]
  },
  {
   "cell_type": "markdown",
   "metadata": {},
   "source": [
    "##### ✅ 8. popitem()\n",
    "Removes and returns the last inserted key-value pair (insertion order is preserved from Python 3.7+).\n",
    "\n",
    "?? *insertion order is preserved from Python 3.7+*\n",
    "+ Before Python 3.7 – Dictionaries did not guarantee the order of insertion.\n",
    "+ From Python 3.7 onwards – Dictionaries preserve the insertion order of key-value pairs.\n",
    "+ From Python 3.8, this behavior was officially declared as part of the language specification.\n",
    "\n",
    "✅ Example (insertion order preserved):\n",
    "```python\n",
    "my_dict = {'apple': 1, 'banana': 2, 'orange': 3}\n",
    "print(my_dict)   # Output: {'apple': 1, 'banana': 2, 'orange': 3}\n",
    "```\n",
    "✅ Example (before Python 3.7, the order was not guaranteed):\n",
    "```python\n",
    "my_dict = {'banana': 2, 'apple': 1, 'orange': 3}\n",
    "print(my_dict)   # Output order was unpredictable before Python 3.7\n",
    "```\n",
    "\n",
    "\n"
   ]
  },
  {
   "cell_type": "code",
   "execution_count": 105,
   "metadata": {},
   "outputs": [
    {
     "name": "stdout",
     "output_type": "stream",
     "text": [
      "('c', 3)\n",
      "{'a': 1, 'b': 2}\n"
     ]
    }
   ],
   "source": [
    "my_dict = {'a': 1, 'b': 2,'c':3}\n",
    "print(my_dict.popitem())   # Output: ('b', 2)\n",
    "print(my_dict)             # Output: {'a': 1}\n"
   ]
  },
  {
   "cell_type": "markdown",
   "metadata": {},
   "source": [
    "##### ✅ 9. clear()\n",
    "Removes all key-value pairs from the dictionary."
   ]
  },
  {
   "cell_type": "code",
   "execution_count": 106,
   "metadata": {},
   "outputs": [
    {
     "name": "stdout",
     "output_type": "stream",
     "text": [
      "{}\n"
     ]
    }
   ],
   "source": [
    "my_dict = {'name': 'shashank', 'age': 25}\n",
    "my_dict.clear()\n",
    "print(my_dict)   # Output: {}\n"
   ]
  },
  {
   "cell_type": "markdown",
   "metadata": {},
   "source": [
    "##### ✅ 10. setdefault()\n",
    "+ Returns the value of a key if it exists.\n",
    "\n",
    "+ If the key doesn’t exist, it inserts the key with a specified value.\n",
    "\n",
    "\n"
   ]
  },
  {
   "cell_type": "code",
   "execution_count": 107,
   "metadata": {},
   "outputs": [
    {
     "name": "stdout",
     "output_type": "stream",
     "text": [
      "{'name': 'shashank', 'age': 25}\n"
     ]
    }
   ],
   "source": [
    "my_dict = {'name': 'shashank'}\n",
    "my_dict.setdefault('age', 25)  \n",
    "print(my_dict)  # Output: {'name': 'shashank', 'age': 25}"
   ]
  },
  {
   "cell_type": "markdown",
   "metadata": {},
   "source": [
    "#### 🧪 Example Exercise\n",
    "Problem:\n",
    "Given the dictionary:\n",
    "```python\n",
    "data = {\n",
    "    \"key1\": [\"a\", \"b\", \"c\"],\n",
    "    \"key2\": [\"d\", \"e\", \"f\"]\n",
    "}\n",
    "```\n",
    "Print the letter 'E' in uppercase."
   ]
  },
  {
   "cell_type": "code",
   "execution_count": 108,
   "metadata": {},
   "outputs": [
    {
     "name": "stdout",
     "output_type": "stream",
     "text": [
      "E\n"
     ]
    }
   ],
   "source": [
    "## Solution \n",
    "data = {\n",
    "    \"key1\": [\"a\", \"b\", \"c\"],\n",
    "    \"key2\": [\"d\", \"e\", \"f\"]\n",
    "}\n",
    "result = data[\"key2\"][1].upper()\n",
    "print(result)  # Output: 'E'"
   ]
  },
  {
   "cell_type": "markdown",
   "metadata": {},
   "source": [
    "#### ❓ Q by student ❓"
   ]
  },
  {
   "cell_type": "code",
   "execution_count": null,
   "metadata": {},
   "outputs": [],
   "source": [
    "# Are keys case sensitive \n",
    "# \"key1\" and \"Key2\"  -- yes, they are different\n",
    "\n",
    "# tuples, string , numbers -- immutable data types can be used as keys in dictionary( hashing concept)\n",
    "\n",
    "# list , set , dictionary -- mutable data types cannot be used as keys  \n",
    "\n",
    "## All data types can be used as values \n",
    "\n",
    "\n",
    "''' why is the below string not giving me output in multiple lines??\n",
    "Reason: you have to use print() to actually execute the escape characters like \\n , \\t or whatever or any None type values \n",
    "inside the string , simple printing does not do that '''\n",
    "\n",
    "str1=\"\"\"Hi, How are you\n",
    "Whre are you going\n",
    "Had lunch?\"\"\"\n",
    "print(\"preserving the nature of \\n or newline character after each line\",str1)\n",
    "str1      #   ---not preserving \n",
    "\n"
   ]
  },
  {
   "cell_type": "markdown",
   "metadata": {},
   "source": [
    "======================  **Advanced Level** =======================================\n",
    "##### ✅ 11. Sorting Dictionaries\n",
    "+ Dictionaries are unordered by default (until Python 3.7+).\n",
    "+ You can sort them using the sorted() function:\n",
    "  - Sort by keys\n",
    "  - Sort by values\n",
    "\n",
    "\n",
    "\n",
    "\n",
    "\n",
    "\n"
   ]
  },
  {
   "cell_type": "code",
   "execution_count": 109,
   "metadata": {},
   "outputs": [
    {
     "name": "stdout",
     "output_type": "stream",
     "text": [
      "you can see list of tuples :  dict_items([('c', 3), ('b', 2), ('a', 1)])\n",
      "sorted() func returns the sorted list form by keys:  [('a', 1), ('b', 2), ('c', 3)]\n",
      "'dict' type casting to convert sorted list form to dictionary form:  {'a': 1, 'b': 2, 'c': 3}\n"
     ]
    }
   ],
   "source": [
    "# Sort by keys:\n",
    "\n",
    "\n",
    "my_dict = {'c': 3, 'b': 2, 'a': 1}\n",
    "print(\"you can see list of tuples : \", my_dict.items())\n",
    "print(\"sorted() func returns the sorted list form by keys: \" ,sorted(my_dict.items()))\n",
    "\n",
    "sorted_dict = dict(sorted(my_dict.items()))\n",
    "print(\"'dict' type casting to convert sorted list form to dictionary form: \",sorted_dict)  \n",
    "# Output: {'a': 1, 'b': 2, 'c': 3}\n"
   ]
  },
  {
   "cell_type": "code",
   "execution_count": 121,
   "metadata": {},
   "outputs": [
    {
     "name": "stdout",
     "output_type": "stream",
     "text": [
      "view object that contains key-value pairs as tuples--> dict_items([('c', 3), ('b', 2), ('a', 1)])\n",
      "sort based on the second element (value) of each tuple--> [('a', 1), ('b', 2), ('c', 3)]\n",
      "dict() converts the sorted list of tuples back into a dictionary --> {'a': 1, 'b': 2, 'c': 3}\n"
     ]
    }
   ],
   "source": [
    "# Sort by values:\n",
    "my_dict = {'c': 3, 'b': 2, 'a': 1}\n",
    "\n",
    "# sorted_dict = dict(sorted(my_dict.items(), key=lambda item: item[1]))\n",
    "\n",
    "print(\"view object that contains key-value pairs as tuples-->\",my_dict.items())\n",
    "\n",
    "'''sorted() sorts the key-value pairs based on the criteria specified by the key argument.\n",
    "key=lambda item: item[1] means sort based on the second element (value) of each tuple.\n",
    "\n",
    "How lambda works:\n",
    "A lambda is an anonymous function that takes an input and returns an output.\n",
    "lambda item: item[1] means: \n",
    "item refers to each tuple → e.g., ('c', 3)\n",
    "item[1] refers to the value part of the tuple → e.g., 3\n",
    "The sorting is performed based on these values.\n",
    "\n",
    "Sorting Process:\n",
    "\n",
    "First tuple → ('c', 3) → value = 3\n",
    "Second tuple → ('b', 2) → value = 2\n",
    "Third tuple → ('a', 1) → value = 1\n",
    "Ascending order of values:\n",
    "\n",
    "1 → 2 → 3\n",
    "Result after sorting tuples:  [('a', 1), ('b', 2), ('c', 3)]\n",
    "\n",
    "'''\n",
    "\n",
    "print(\"sort based on the second element (value) of each tuple-->\",sorted(my_dict.items(), key=lambda item: item[1]))\n",
    "\n",
    "\n",
    "print(\"dict() converts the sorted list of tuples back into a dictionary -->\",sorted_dict)   # Output: {'a': 1, 'b': 2, 'c': 3}\n",
    "\n",
    "\n"
   ]
  },
  {
   "cell_type": "markdown",
   "metadata": {},
   "source": [
    "#### 🎯 Dictionary Comprehensions\n",
    "\n",
    "Dictionary comprehensions allow you to create dictionaries using a single line of code, similar to list comprehensions.\n",
    "\n",
    "**Syntax** \n",
    "``` python \n",
    "{key_expression: value_expression for item in iterable}\n",
    "```"
   ]
  },
  {
   "cell_type": "code",
   "execution_count": 111,
   "metadata": {},
   "outputs": [
    {
     "name": "stdout",
     "output_type": "stream",
     "text": [
      "{1: 1, 2: 4, 3: 9, 4: 16, 5: 25}\n"
     ]
    }
   ],
   "source": [
    "# Create a dictionary from a list of numbers, where keys are numbers and values are their squares:\n",
    "squares = {x: x**2 for x in range(1, 6)}\n",
    "print(squares)  # Output: {1: 1, 2: 4, 3: 9, 4: 16, 5: 25}\n"
   ]
  },
  {
   "cell_type": "code",
   "execution_count": 112,
   "metadata": {},
   "outputs": [
    {
     "name": "stdout",
     "output_type": "stream",
     "text": [
      "{2: 4, 4: 16}\n"
     ]
    }
   ],
   "source": [
    "# Example (with condition):\n",
    "# Create a dictionary with only even numbers:\n",
    "\n",
    "even_squares = {x: x**2 for x in range(1, 6) if x % 2 == 0}\n",
    "print(even_squares)   # Output: {2: 4, 4: 16}\n"
   ]
  },
  {
   "cell_type": "markdown",
   "metadata": {},
   "source": [
    "#### ⚠️ Common Mistakes\n",
    "❌ Keys are case-sensitive – \"Key\" and \"key\" are different.\n",
    "\n",
    "❌ Cannot access dictionary values using an index (my_dict[0]) – Use keys.\n",
    "\n",
    "❌ Keys must be immutable – Lists cannot be keys.\n",
    "\n",
    "✅ Tuples can be keys (since they are immutable).\n",
    "\n",
    "=============================================================================\n",
    "\n"
   ]
  },
  {
   "cell_type": "markdown",
   "metadata": {},
   "source": [
    "##### 🎯 Example Summary Code\n"
   ]
  },
  {
   "cell_type": "code",
   "execution_count": 116,
   "metadata": {},
   "outputs": [
    {
     "name": "stdout",
     "output_type": "stream",
     "text": [
      "Original Dictionary: {'name': 'Shashank', 'age': 30, 'city': 'New York', 'skills': ['Python', 'Machine Learning'], 'address': {'street': '5th Avenue', 'zipcode': 10001}}\n",
      "\n",
      "Name: Shashank\n",
      "Height (Using get()): Not Found\n",
      "\n",
      "After adding country: {'name': 'Shashank', 'age': 30, 'city': 'New York', 'skills': ['Python', 'Machine Learning'], 'address': {'street': '5th Avenue', 'zipcode': 10001}, 'country': 'USA'}\n",
      "After updating age: {'name': 'Shashank', 'age': 31, 'city': 'New York', 'skills': ['Python', 'Machine Learning'], 'address': {'street': '5th Avenue', 'zipcode': 10001}, 'country': 'USA'}\n",
      "\n",
      "Removed city: New York\n",
      "After pop(): {'name': 'Shashank', 'age': 31, 'skills': ['Python', 'Machine Learning'], 'address': {'street': '5th Avenue', 'zipcode': 10001}, 'country': 'USA'}\n",
      "Removed last pair: ('country', 'USA')\n",
      "After popitem(): {'name': 'Shashank', 'age': 31, 'skills': ['Python', 'Machine Learning'], 'address': {'street': '5th Avenue', 'zipcode': 10001}}\n",
      "\n",
      "Name exists in dictionary\n",
      "\n",
      "Squares using comprehension: {2: 4, 4: 16}\n",
      "\n",
      "After update: {'name': 'Shashank', 'age': 31, 'skills': ['Python', 'Machine Learning'], 'address': {'street': '5th Avenue', 'zipcode': 10001}, 'gender': 'Male', 'height': 5.9}\n",
      "After merging using '|': {'name': 'Shashank', 'age': 31, 'skills': ['Python', 'Machine Learning'], 'address': {'street': '5th Avenue', 'zipcode': 10001}, 'gender': 'Male', 'height': 5.9, 'country': 'Canada', 'language': 'English'}\n",
      "\n",
      "Sorted by keys: {'address': {'street': '5th Avenue', 'zipcode': 10001}, 'age': 31, 'gender': 'Male', 'height': 5.9, 'name': 'Shashank', 'skills': ['Python', 'Machine Learning']}\n",
      "Sorted by values: {'age': 31, 'height': 5.9, 'gender': 'Male', 'name': 'Shashank', 'skills': ['Python', 'Machine Learning'], 'address': {'street': '5th Avenue', 'zipcode': 10001}}\n",
      "\n",
      "Street in nested dictionary: 5th Avenue\n",
      "\n",
      "After setdefault(): {'name': 'Shashank', 'age': 31, 'skills': ['Python', 'Machine Learning'], 'address': {'street': '5th Avenue', 'zipcode': 10001}, 'gender': 'Male', 'height': 5.9, 'hobbies': ['reading', 'travelling']}\n",
      "\n",
      "Keys: ['name', 'age', 'skills', 'address', 'gender', 'height', 'hobbies']\n",
      "Values: ['Shashank', 31, ['Python', 'Machine Learning'], {'street': '5th Avenue', 'zipcode': 10001}, 'Male', 5.9, ['reading', 'travelling']]\n",
      "Items: [('name', 'Shashank'), ('age', 31), ('skills', ['Python', 'Machine Learning']), ('address', {'street': '5th Avenue', 'zipcode': 10001}), ('gender', 'Male'), ('height', 5.9), ('hobbies', ['reading', 'travelling'])]\n",
      "\n",
      "After clearing dictionary: {}\n",
      "\n",
      "Nested Dictionary: {'person1': {'name': 'Alice', 'age': 25}, 'person2': {'name': 'Bob', 'age': 30}}\n",
      "Access Bob's age: 30\n",
      "\n",
      "Capitalized value: E\n"
     ]
    }
   ],
   "source": [
    "# 1. Creating a dictionary\n",
    "my_dict = {\n",
    "    'name': 'Shashank',\n",
    "    'age': 30,\n",
    "    'city': 'New York',\n",
    "    'skills': ['Python', 'Machine Learning'],\n",
    "    'address': {\n",
    "        'street': '5th Avenue',\n",
    "        'zipcode': 10001\n",
    "    }\n",
    "}\n",
    "print(\"Original Dictionary:\", my_dict)\n",
    "\n",
    "# 2. Accessing values using keys\n",
    "print(\"\\nName:\", my_dict['name'])\n",
    "\n",
    "# 3. Using `get()` to avoid KeyError\n",
    "print(\"Height (Using get()):\", my_dict.get('height', 'Not Found'))\n",
    "\n",
    "# 4. Adding a new key-value pair\n",
    "my_dict['country'] = 'USA'\n",
    "print(\"\\nAfter adding country:\", my_dict)\n",
    "\n",
    "# 5. Updating a value\n",
    "my_dict['age'] = 31\n",
    "print(\"After updating age:\", my_dict)\n",
    "\n",
    "# 6. Removing a key-value pair using `pop()`\n",
    "removed_value = my_dict.pop('city')\n",
    "print(\"\\nRemoved city:\", removed_value)\n",
    "print(\"After pop():\", my_dict)\n",
    "\n",
    "# 7. Removing last key-value pair using `popitem()`\n",
    "removed_pair = my_dict.popitem()\n",
    "print(\"Removed last pair:\", removed_pair)\n",
    "print(\"After popitem():\", my_dict)\n",
    "\n",
    "# 8. Checking if a key exists\n",
    "if 'name' in my_dict:\n",
    "    print(\"\\nName exists in dictionary\")\n",
    "\n",
    "# 9. Dictionary comprehension (squares example)\n",
    "squares = {x: x**2 for x in range(1, 6) if x % 2 == 0}\n",
    "print(\"\\nSquares using comprehension:\", squares)\n",
    "\n",
    "# 10. Merging two dictionaries using `update()`\n",
    "other_dict = {'gender': 'Male', 'height': 5.9}\n",
    "my_dict.update(other_dict)\n",
    "print(\"\\nAfter update:\", my_dict)\n",
    "\n",
    "# 11. Merging dictionaries using `|` (Python 3.9+)\n",
    "merged_dict = my_dict | {'country': 'Canada', 'language': 'English'}\n",
    "print(\"After merging using '|':\", merged_dict)\n",
    "\n",
    "# 12. Sorting dictionary by keys\n",
    "sorted_dict_by_keys = dict(sorted(my_dict.items()))\n",
    "print(\"\\nSorted by keys:\", sorted_dict_by_keys)\n",
    "\n",
    "# 13. Sorting dictionary by values\n",
    "sorted_dict_by_values = dict(sorted(my_dict.items(), key=lambda item: str(item[1])))\n",
    "print(\"Sorted by values:\", sorted_dict_by_values)\n",
    "\n",
    "# 14. Nested dictionary lookup\n",
    "street = my_dict['address']['street']\n",
    "print(\"\\nStreet in nested dictionary:\", street)\n",
    "\n",
    "# 15. `setdefault()` example\n",
    "my_dict.setdefault('hobbies', ['reading', 'travelling'])\n",
    "print(\"\\nAfter setdefault():\", my_dict)\n",
    "\n",
    "# 16. Getting keys, values, and items\n",
    "print(\"\\nKeys:\", list(my_dict.keys()))\n",
    "print(\"Values:\", list(my_dict.values()))\n",
    "print(\"Items:\", list(my_dict.items()))\n",
    "\n",
    "# 17. Clearing a dictionary\n",
    "my_dict.clear()\n",
    "print(\"\\nAfter clearing dictionary:\", my_dict)\n",
    "\n",
    "# 18. Example of nested dictionary inside a list\n",
    "nested_dict = {\n",
    "    'person1': {'name': 'Alice', 'age': 25},\n",
    "    'person2': {'name': 'Bob', 'age': 30}\n",
    "}\n",
    "print(\"\\nNested Dictionary:\", nested_dict)\n",
    "print(\"Access Bob's age:\", nested_dict['person2']['age'])\n",
    "\n",
    "# 19. Example of capitalizing a value from a nested list\n",
    "complex_dict = {'key1': ['a', 'b', 'c'], 'key2': ['d', 'e', 'f']}\n",
    "capitalized = complex_dict['key2'][1].upper()\n",
    "print(\"\\nCapitalized value:\", capitalized)\n"
   ]
  },
  {
   "cell_type": "code",
   "execution_count": null,
   "metadata": {},
   "outputs": [],
   "source": []
  },
  {
   "cell_type": "markdown",
   "metadata": {},
   "source": [
    "#### 💡 Why Keys Must Be Immutable 💡\n",
    "\n",
    " 1. Hashing Requirement\n",
    "- Python internally uses a **hash table** to store dictionary data.  \n",
    "- The key’s value is converted into a hash using the `hash()` function.  \n",
    "- If a key is **mutable**, its hash value can change — which would break the dictionary's internal storage mechanism.  \n",
    "\n",
    " 2. Consistency and Lookup Efficiency\n",
    "- Hashing allows Python to perform **constant-time lookup (O(1))** for keys.  \n",
    "- If a key changes after being stored, Python wouldn’t be able to retrieve the correct value efficiently.  \n",
    "\n",
    "---\n",
    "\n",
    " 🔎 Example of Hashing and Immutability\n",
    "\n",
    "✅ **Hashable key example**:\n",
    "```python\n",
    "print(hash(\"name\"))  # Output: Some integer value\n",
    "print(hash((1, 2, 3)))  # Output: Some integer value\n",
    "```\n",
    "\n",
    "🚫 Unhashable key example: \n",
    "print(hash([1, 2, 3]))  # ❌ TypeError: unhashable type: 'list'\n",
    "\n",
    "3. ✅ Why Values Can Be Mutable\n",
    "\n",
    "   + Values are not used for hashing or lookup — only keys are.\n",
    "\n",
    "   + Therefore, values can be mutable (like lists, sets, and dictionaries).\n",
    "\n",
    "   + This allows flexibility in storing complex data."
   ]
  },
  {
   "cell_type": "markdown",
   "metadata": {},
   "source": [
    "---\n",
    "#### 🧠 What is Hashing (in Simple Terms)?\n",
    "\n",
    "Hashing is a way to convert data into a fixed-size value (usually an integer) using a mathematical function called a **hash function**.\n",
    "\n",
    "\n",
    " 🍕 Example to Understand Hashing\n",
    "\n",
    "Imagine you have a stack of pizza boxes in your kitchen:\n",
    "\n",
    "- To find a specific pizza, you label each box with a unique number (like #101, #102, #103).  \n",
    "- When you want to grab a pizza, you don’t search every box — you just look at the label.  \n",
    "- The label helps you find the pizza quickly without opening every box.  \n",
    "\n",
    "👉 **In hashing**:  \n",
    "- The pizza = the value in the dictionary  \n",
    "- The label = the hash value  \n",
    "- The hash function = the process of generating the label \n",
    "\n",
    "🍏 Example in Python\n",
    "\n",
    "Let's say you have a dictionary:\n",
    "\n",
    "```python\n",
    "my_dict = {\n",
    "    \"apple\": 3,\n",
    "    \"banana\": 5\n",
    "}\n",
    "```\n",
    "When you store \"apple\" as a key, Python internally: Passes \"apple\" through a hash function → produces a number like 35462738.\n",
    "\n",
    "Uses that number to decide where to store the value 3 in memory.\n",
    "\n",
    "When you access the key: my_dict[\"apple\"]\n",
    "+ Python doesn't search for the key.\n",
    "+ It directly looks up the hash value and grabs the value at that location — this is why dictionaries are fast!"
   ]
  },
  {
   "cell_type": "code",
   "execution_count": null,
   "metadata": {},
   "outputs": [
    {
     "name": "stdout",
     "output_type": "stream",
     "text": [
      "8413937547405448240\n"
     ]
    },
    {
     "data": {
      "text/plain": [
       "'👉 Every time you access \"apple\", Python looks at the hash value 7485993689382923979 and instantly finds the value 3.'"
      ]
     },
     "execution_count": 1,
     "metadata": {},
     "output_type": "execute_result"
    }
   ],
   "source": [
    "# 🔢 Example of Hashing in Python\n",
    "# You can see the hash value using the hash() function:\n",
    "\n",
    "my_dict = {\n",
    "    \"apple\": 3,\n",
    "    \"banana\": 5\n",
    "}\n",
    "\n",
    "print(hash(\"apple\"))  \n",
    "# print(hash(\"banana\"))  \n",
    "\n",
    "\n",
    "'''👉 Every time you access \"apple\", Python looks at the hash value 7485993689382923979 and instantly finds the value 3.'''"
   ]
  },
  {
   "cell_type": "markdown",
   "metadata": {},
   "source": [
    "#### 🚀 Why Hashing Makes Dictionaries Fast\n",
    "Direct lookup using the hash value = fast retrieval (constant time, O(1)).\n",
    "\n",
    "No need to search the entire dictionary = quick access.\n",
    "\n",
    "Hash values are unique for each key = no conflicts."
   ]
  }
 ],
 "metadata": {
  "kernelspec": {
   "display_name": "Python 3",
   "language": "python",
   "name": "python3"
  },
  "language_info": {
   "codemirror_mode": {
    "name": "ipython",
    "version": 3
   },
   "file_extension": ".py",
   "mimetype": "text/x-python",
   "name": "python",
   "nbconvert_exporter": "python",
   "pygments_lexer": "ipython3",
   "version": "3.11.9"
  }
 },
 "nbformat": 4,
 "nbformat_minor": 2
}
