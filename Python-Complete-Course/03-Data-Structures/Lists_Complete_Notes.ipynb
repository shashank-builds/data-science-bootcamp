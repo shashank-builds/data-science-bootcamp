{
 "cells": [
  {
   "cell_type": "code",
   "execution_count": 127,
   "metadata": {},
   "outputs": [
    {
     "name": "stdout",
     "output_type": "stream",
     "text": [
      "this is  a python\n",
      "\n",
      "and it is great program \n",
      "\n",
      "language\n",
      "this is  a python and it is great program language\n",
      "this is  a python and it is great program language\n"
     ]
    }
   ],
   "source": [
    "## ... continuing from string topics:\n",
    "\n",
    "## way of creating multiline strings \n",
    "\n",
    "## Way 1  (preserved newline character \\n-- print to see on console to get more idea)\n",
    "\n",
    "str1 = \"\"\"this is  a python\n",
    "\n",
    "and it is great program \n",
    "\n",
    "language\"\"\"\n",
    "\n",
    "print(str1)\n",
    "\n",
    "\n",
    "## Way 2\n",
    "# Backslash  (\\)         (does not preserve newline character -- print to see on console to get more idea)\n",
    "\n",
    "str1 = \"this is  a python \" \\\n",
    "\"and it is great program \" \\\n",
    "\"language\" \n",
    "print(str1)\n",
    "\n",
    "##  Way 3                 (does not preserve newline character -- print to see on console to get more idea)\n",
    "# using (\"\"\n",
    "#        \"\"\n",
    "#        \"\") \n",
    "str1 = (\"this is  a python \" \n",
    "\"and it is great program \" \n",
    "\"language\")\n",
    "print(str1)\n",
    "\n",
    "# Membership operator\n",
    "# in and not in \n",
    "# return Boolean -- True or False\n",
    "\n",
    "# poem = (\"hdhskjhdks  white\"\n",
    "# \"hdkjsjdks\")\n",
    "# print(\"white\" not in poem)\n",
    "\n",
    "\n",
    "\n",
    "\n",
    "\n",
    "\n"
   ]
  },
  {
   "cell_type": "markdown",
   "metadata": {},
   "source": [
    "### 📌 Video Outline on Python **Lists**\n",
    "##### 1. Introduction  \n",
    "##### 2. Creating Lists  \n",
    "##### 3. Indexing and Slicing  \n",
    "##### 4. List Methods  \n",
    "##### 5. Modifying Lists  \n",
    "##### 6. Concatenating Lists  \n",
    "##### 7. Nested Lists  \n",
    "##### 8. Common Pitfalls and How to Avoid Them  \n",
    "##### 9. Practical Examples  \n",
    "##### 10. Conclusion "
   ]
  },
  {
   "cell_type": "markdown",
   "metadata": {},
   "source": [
    "## 1. Introduction to Lists\n",
    "\n",
    "### What is a List?\n",
    "\n",
    "A list is an ordered sequence of objects.\n",
    "\n",
    "- Lists can contain elements of any data type, including strings, integers, floats, or even other lists.\n",
    "- Lists are **mutable**, meaning their contents can be modified after creation.\n",
    "- Lists are written in square brackets `[]`, with elements separated by commas.\n",
    "\n",
    "### Key Characteristics of Lists\n",
    "\n",
    "- Lists can contain mixed data types (e.g., strings, integers, floats).\n",
    "- Lists can be **nested**, meaning a list can contain other lists.\n",
    "- Lists are **indexed**, meaning each element has a position (starting from 0)."
   ]
  },
  {
   "cell_type": "markdown",
   "metadata": {},
   "source": []
  },
  {
   "cell_type": "code",
   "execution_count": 7,
   "metadata": {},
   "outputs": [
    {
     "name": "stdout",
     "output_type": "stream",
     "text": [
      "['a', 55, 3.14, True]\n",
      "<class 'list'>\n"
     ]
    }
   ],
   "source": [
    "# Creating and assigning a list \n",
    "my_lst = [\"a\",55,3.14,True]\n",
    "print(my_lst)\n",
    "\n",
    "print(type(my_lst))"
   ]
  },
  {
   "cell_type": "markdown",
   "metadata": {},
   "source": [
    "#### Accessing **elements** in a list\n"
   ]
  },
  {
   "cell_type": "code",
   "execution_count": 10,
   "metadata": {},
   "outputs": [
    {
     "data": {
      "text/plain": [
       "True"
      ]
     },
     "execution_count": 10,
     "metadata": {},
     "output_type": "execute_result"
    }
   ],
   "source": [
    "my_lst[-1]"
   ]
  },
  {
   "cell_type": "code",
   "execution_count": 15,
   "metadata": {},
   "outputs": [
    {
     "data": {
      "text/plain": [
       "['a', 55]"
      ]
     },
     "execution_count": 15,
     "metadata": {},
     "output_type": "execute_result"
    }
   ],
   "source": [
    "# Slicing \n",
    "my_lst[0:2]\n",
    "# my_lst[::-1]"
   ]
  },
  {
   "cell_type": "code",
   "execution_count": 17,
   "metadata": {},
   "outputs": [
    {
     "data": {
      "text/plain": [
       "['b', 55, 3.14, True]"
      ]
     },
     "execution_count": 17,
     "metadata": {},
     "output_type": "execute_result"
    }
   ],
   "source": [
    "# Modifying in lists \n",
    "my_lst[0] = 'b'\n",
    "my_lst"
   ]
  },
  {
   "cell_type": "code",
   "execution_count": null,
   "metadata": {},
   "outputs": [
    {
     "data": {
      "text/plain": [
       "[10, 100, 'apple', 'DBG', ['sbd', 'dhus']]"
      ]
     },
     "execution_count": 125,
     "metadata": {},
     "output_type": "execute_result"
    }
   ],
   "source": [
    "## want to modify list by adding elements at the last\n",
    "\n",
    "my_lst = [10,100,\"apple\"]\n",
    "my_lst.append(\"DBG\")\n",
    "\n",
    "my_lst.append([\"sbd\",\"dhus\"])        ## adding an iterable like list , tuple,string,set,dictionary\n",
    "my_lst"
   ]
  },
  {
   "cell_type": "code",
   "execution_count": null,
   "metadata": {},
   "outputs": [
    {
     "data": {
      "text/plain": [
       "[]"
      ]
     },
     "execution_count": 25,
     "metadata": {},
     "output_type": "execute_result"
    }
   ],
   "source": [
    "# Removing elements\n",
    "\n",
    "# my_lst.pop()             ## by default delete from last index\n",
    "\n",
    "# deleted_no = my_lst.pop(1)   ## from 1st index\n",
    "\n",
    "my_lst"
   ]
  },
  {
   "cell_type": "code",
   "execution_count": null,
   "metadata": {},
   "outputs": [
    {
     "name": "stdout",
     "output_type": "stream",
     "text": [
      "2259220484032\n",
      "['apple', 'banana', 'cherry', 'guava']\n",
      "2259220484032\n"
     ]
    }
   ],
   "source": [
    "# Concatenation in list \n",
    "my_lst1 = [\"apple\",\"banana\"]\n",
    "my_lst2 = [\"cherry\",\"guava\"]\n",
    "\n",
    "print(id(my_lst1))     ## Memory before performing operation\n",
    "\n",
    "# combined_list = my_lst1+my_lst2\n",
    "# print(combined_list)\n",
    "print(my_lst1+my_lst2)    ## checking if the address of original list is changed after concatenation as wee saw in string\n",
    "\n",
    "print(id(my_lst1))  \n",
    "\n",
    "\n",
    "# print(my_lst1)\n"
   ]
  },
  {
   "cell_type": "code",
   "execution_count": null,
   "metadata": {},
   "outputs": [
    {
     "name": "stdout",
     "output_type": "stream",
     "text": [
      "[-2, -1, 2, 8, 10]\n"
     ]
    }
   ],
   "source": [
    "# Sorting and reversing a list \n",
    "# sort()\n",
    "\n",
    "\n",
    "lst = [2,8,10,-1,-2] \n",
    "lst.sort()           ## in ascending order\n",
    "print(lst)\n",
    "\n",
    "\n",
    "\n",
    "# lst = [\"b\",\"c\",\"g\",\"a\",\"m\",\"A\"]  \n",
    "# lst.sort(reverse= True)  ## in descending order\n",
    "# print(lst)\n",
    "\n",
    "# Sorting with a key \n",
    "# words = [\"apple\",\"banana\",\"cherry\",\"date\"]\n",
    "# words.sort(key = len)  ## Sort list by the length of the words \n",
    "# print(words)\n",
    "\n",
    "\n"
   ]
  },
  {
   "cell_type": "code",
   "execution_count": null,
   "metadata": {},
   "outputs": [
    {
     "name": "stdout",
     "output_type": "stream",
     "text": [
      "['banana', 'cherry', 'apple', 'date']\n"
     ]
    }
   ],
   "source": [
    "## Sorted function -- it is an alternative to the sort() \n",
    "# sort any iterable ( i.e -- list , tuple, string ,set , dictionary)\n",
    "## You can store the sorted list in another variable\n",
    "\n",
    "## It does not modify the original iterable \n",
    "# lst = [2,8,10,-1,-2] \n",
    "# new_lst= sorted(lst,reverse=True)\n",
    "# new_lst\n",
    "\n",
    "\n",
    "words = [\"apple\",\"banana\",\"cherry\",\"date\"]\n",
    "print(sorted(words,key = len,reverse= True))  ## Sort list by the length of te words \n",
    "\n",
    "\n"
   ]
  },
  {
   "cell_type": "code",
   "execution_count": 52,
   "metadata": {},
   "outputs": [
    {
     "data": {
      "text/plain": [
       "'abcde'"
      ]
     },
     "execution_count": 52,
     "metadata": {},
     "output_type": "execute_result"
    }
   ],
   "source": [
    "# Sorting other iterables ( tuple, string )\n",
    "\n",
    "# my_tuple = (3,1,6,0,8)\n",
    "# print(sorted(my_tuple))\n",
    "\n",
    "# Sorting a string \n",
    "\n",
    "new_list = sorted(\"edbca\")\n",
    "\"\".join(new_list)"
   ]
  },
  {
   "cell_type": "code",
   "execution_count": 120,
   "metadata": {},
   "outputs": [
    {
     "data": {
      "text/plain": [
       "[-2, -1, 10, 8, 2]"
      ]
     },
     "execution_count": 120,
     "metadata": {},
     "output_type": "execute_result"
    }
   ],
   "source": [
    "# reverse a list\n",
    "lst = [2,8,10,-1,-2] \n",
    "# Way 1 ( with method)\n",
    "lst.reverse()\n",
    "lst\n",
    "\n",
    "## Way 2\n",
    "# lst[::-1]\n"
   ]
  },
  {
   "cell_type": "code",
   "execution_count": 115,
   "metadata": {},
   "outputs": [
    {
     "data": {
      "text/plain": [
       "[[1, 2, 3], ['A', 'B', 'cat'], [10, 11], 'abc', 100]"
      ]
     },
     "execution_count": 115,
     "metadata": {},
     "output_type": "execute_result"
    }
   ],
   "source": [
    "# Nesting a list \n",
    "\n",
    "# list can contain another list ( list of lists)\n",
    "\n",
    "nested_lst = [[1,2,3] , [\"A\",\"B\",\"C\"],[10,11], \"abc\",100]\n",
    "# print(nested_lst)\n",
    "\n",
    "nested_lst[1][2] = \"cat\"\n",
    "nested_lst[1][2]\n",
    "nested_lst"
   ]
  },
  {
   "cell_type": "code",
   "execution_count": 114,
   "metadata": {},
   "outputs": [
    {
     "name": "stdout",
     "output_type": "stream",
     "text": [
      "using extend ['A', 'B', 'C', 'D']\n",
      "using append ['A', 'B', 'C', 'D', ['C', 'D']]\n"
     ]
    }
   ],
   "source": [
    "## extend -- add multiple elements to the end of the list\n",
    "# unlike append() -- adds a single element ( even if it the list) ,\n",
    "# extends adds each element of an iterable (list, tuple) individually\n",
    "\n",
    "my_lst = [\"A\",\"B\"]\n",
    "my_lst.extend([\"C\",\"D\"])\n",
    "print(\"using extend\",my_lst)\n",
    "\n",
    "my_lst.append([\"C\",\"D\"])\n",
    "print(\"using append\",my_lst)"
   ]
  },
  {
   "cell_type": "code",
   "execution_count": 112,
   "metadata": {},
   "outputs": [
    {
     "data": {
      "text/plain": [
       "['A', 'X', 'B']"
      ]
     },
     "execution_count": 112,
     "metadata": {},
     "output_type": "execute_result"
    }
   ],
   "source": [
    "## insert() -- insert the element at specific index\n",
    "my_lst = [\"A\",\"B\"]\n",
    "my_lst.insert(1,\"X\")\n",
    "my_lst"
   ]
  },
  {
   "cell_type": "code",
   "execution_count": null,
   "metadata": {},
   "outputs": [
    {
     "data": {
      "text/plain": [
       "['A', 'C']"
      ]
     },
     "execution_count": 111,
     "metadata": {},
     "output_type": "execute_result"
    }
   ],
   "source": [
    "# remove -- remove all elements  from the list \n",
    "# my_lst = [\"A\",\"B\",\"C\"]\n",
    "# my_lst.remove(\"B\")\n",
    "# my_lst\n",
    "\n",
    "# # clear\n",
    "# lst = []\n",
    "# print(my_lst.clear())\n",
    "# my_lst\n",
    "\n",
    "# lst = []\n",
    "# if my_lst.clear() is None:\n",
    "#     print(\"the list is clear\")\n",
    "\n",
    "\n",
    "# # ## pop()\n",
    "# lst = []\n",
    "# try:\n",
    "#     ele = lst.pop()\n",
    "#     print(ele)\n",
    "# except Exception as e:\n",
    "#     print(str(e)) \n",
    "\n",
    "\n",
    "\n"
   ]
  },
  {
   "cell_type": "code",
   "execution_count": 106,
   "metadata": {},
   "outputs": [
    {
     "name": "stdout",
     "output_type": "stream",
     "text": [
      "the count is of \"B\": 2\n",
      "the index is of 'B': 1\n"
     ]
    }
   ],
   "source": [
    "# count()\n",
    "\n",
    "my_lst = [\"A\",\"B\",\"C\",\"B\"]\n",
    "print(\"the count is of \\\"B\\\":\",my_lst.count(\"B\"))\n",
    "\n",
    "\n",
    "## index \n",
    "print(\"the index is of 'B':\",my_lst.index(\"B\"))\n"
   ]
  },
  {
   "cell_type": "code",
   "execution_count": 25,
   "metadata": {},
   "outputs": [
    {
     "name": "stdout",
     "output_type": "stream",
     "text": [
      "150\n",
      "5\n"
     ]
    }
   ],
   "source": [
    "## sum() -- to find sum of numbers in a list\n",
    "\n",
    "lst = [10,20,30,40,50]\n",
    "print(sum(lst))\n",
    "\n",
    "\n",
    "\n",
    "## length of the list \n",
    "print(len(lst))\n",
    "\n"
   ]
  },
  {
   "cell_type": "code",
   "execution_count": 26,
   "metadata": {},
   "outputs": [
    {
     "name": "stdout",
     "output_type": "stream",
     "text": [
      "from the list -- [-10, -20, 30, 40, 50], i can find max and min as below: \n",
      " Maximum:50 \t Minimum:-20\n"
     ]
    }
   ],
   "source": [
    "## finding the maximum and minimum from the list\n",
    "\n",
    "lst = [-10,-20,30,40,50]\n",
    "# print(\"the largest no is :\",max(lst))\n",
    "# print(\"the minimum element is :\",min(lst))\n",
    "\n",
    "# using f-string : \n",
    "max_ele = max(lst)\n",
    "min_ele = min(lst)\n",
    "print(f\"from the list -- {lst}, i can find max and min as below: \\n Maximum:{max_ele} \\t Minimum:{min_ele}\")\n"
   ]
  },
  {
   "cell_type": "code",
   "execution_count": null,
   "metadata": {},
   "outputs": [
    {
     "ename": "TypeError",
     "evalue": "'NoneType' object is not subscriptable",
     "output_type": "error",
     "traceback": [
      "\u001b[1;31m---------------------------------------------------------------------------\u001b[0m",
      "\u001b[1;31mTypeError\u001b[0m                                 Traceback (most recent call last)",
      "Cell \u001b[1;32mIn[28], line 5\u001b[0m\n\u001b[0;32m      3\u001b[0m lst\u001b[38;5;241m=\u001b[39m[\u001b[38;5;241m4\u001b[39m,\u001b[38;5;241m2\u001b[39m,\u001b[38;5;241m-\u001b[39m\u001b[38;5;241m5\u001b[39m,\u001b[38;5;241m3\u001b[39m,\u001b[38;5;241m7\u001b[39m]\n\u001b[0;32m      4\u001b[0m result1 \u001b[38;5;241m=\u001b[39m lst\u001b[38;5;241m.\u001b[39msort()\n\u001b[1;32m----> 5\u001b[0m result2\u001b[38;5;241m=\u001b[39mresult1[\u001b[38;5;241m3\u001b[39m]\n\u001b[0;32m      6\u001b[0m \u001b[38;5;28mprint\u001b[39m(result2)\n",
      "\u001b[1;31mTypeError\u001b[0m: 'NoneType' object is not subscriptable"
     ]
    }
   ],
   "source": [
    "# TypeError: 'NoneType' object is not subscriptable\n",
    "\n",
    "lst=[4,2,-5,3,7]\n",
    "result1 = lst.sort()\n",
    "result2=result1[3]\n",
    "print(result2)\n",
    "\n",
    "\n",
    "#Hint: sort() does not return any value (returs None) , use sorted or else dont assign any variable in sort()"
   ]
  },
  {
   "cell_type": "code",
   "execution_count": null,
   "metadata": {},
   "outputs": [
    {
     "name": "stdout",
     "output_type": "stream",
     "text": [
      "The second largest number in the given list is:  18\n"
     ]
    }
   ],
   "source": [
    "## Find the  second largest number \n",
    "\n",
    "lst = [1,20,3,4,18,-5]\n",
    "sorted_list= sorted(lst)\n",
    "\n",
    "# print(sorted_list)\n",
    "# print(\"The second largest number in the given list is: \", sorted_list[len(sorted_list)-2] )\n",
    "\n",
    "# or #\n",
    "\n",
    "print(\"The second largest number in the given list is: \", sorted_list[-2] )\n",
    "\n",
    "\n",
    "# lst.pop(2)\n",
    "\n",
    "\n"
   ]
  },
  {
   "cell_type": "code",
   "execution_count": null,
   "metadata": {},
   "outputs": [],
   "source": []
  },
  {
   "cell_type": "code",
   "execution_count": null,
   "metadata": {},
   "outputs": [],
   "source": []
  },
  {
   "cell_type": "code",
   "execution_count": null,
   "metadata": {},
   "outputs": [],
   "source": []
  }
 ],
 "metadata": {
  "kernelspec": {
   "display_name": "base",
   "language": "python",
   "name": "python3"
  },
  "language_info": {
   "codemirror_mode": {
    "name": "ipython",
    "version": 3
   },
   "file_extension": ".py",
   "mimetype": "text/x-python",
   "name": "python",
   "nbconvert_exporter": "python",
   "pygments_lexer": "ipython3",
   "version": "3.11.7"
  }
 },
 "nbformat": 4,
 "nbformat_minor": 2
}
