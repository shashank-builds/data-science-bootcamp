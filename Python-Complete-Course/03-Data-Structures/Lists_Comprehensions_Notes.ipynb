{
 "cells": [
  {
   "cell_type": "markdown",
   "metadata": {},
   "source": [
    "## **List Comprehension**\n",
    "**Introduction**\n",
    "\n",
    "+ This lecture introduces a more efficient way to build lists using list comprehension.\n",
    "\n",
    "+ Instead of using loops and the `append()` method, list comprehension allows you to create lists in a **single line.**\n",
    "\n",
    "+ More concise and efficient\n",
    "\n",
    "```python \n",
    "Syntax: [expression for item in iterable]\n",
    "```\n",
    "\n"
   ]
  },
  {
   "cell_type": "code",
   "execution_count": null,
   "metadata": {},
   "outputs": [
    {
     "name": "stdout",
     "output_type": "stream",
     "text": [
      "['p', 'y', 't', 'h', 'o', 'n']\n"
     ]
    }
   ],
   "source": [
    "# Basic Example of List Comprehension\n",
    "# Traditional Method (Using a Loop)\n",
    "\n",
    "word = \"python\"\n",
    "letters = []\n",
    "for letter in word:\n",
    "    letters.append(letter)\n",
    "print(letters)  \n",
    "\n",
    "# Using List Comprehension (Efficient Way)\n",
    "# Eliminates the need for a loop and append()\n",
    "\n",
    "word = \"python\"\n",
    "letters = [letter for letter in word]\n",
    "print(letters)\n",
    "\n",
    "\n",
    "\n"
   ]
  },
  {
   "cell_type": "markdown",
   "metadata": {},
   "source": [
    "#### Modifying List Elements in Comprehension\n",
    "\n",
    "You can perform operations on list elements before adding them to the new list."
   ]
  },
  {
   "cell_type": "code",
   "execution_count": null,
   "metadata": {},
   "outputs": [
    {
     "name": "stdout",
     "output_type": "stream",
     "text": [
      "[0, 2, 4, 6, 8, 10, 12, 14, 16, 18, 20]\n",
      "[0.0, 1.0, 2.0, 3.0, 4.0, 5.0, 6.0, 7.0, 8.0, 9.0, 10.0]\n"
     ]
    }
   ],
   "source": [
    "# Example: Generating Even Numbers from 0 to 20\n",
    "\n",
    "evens = [n for n in range(0, 21, 2)]\n",
    "print(evens)\n",
    "\n",
    "# Example: Transforming Numbers Before Storing -- Modification\n",
    "\n",
    "halves = [n / 2 for n in range(0, 21, 2)]\n",
    "print(halves)\n"
   ]
  },
  {
   "cell_type": "markdown",
   "metadata": {},
   "source": [
    "#### Filtering Elements with if Condition\n",
    "\n",
    "You can use an if condition to decide which elements should be included."
   ]
  },
  {
   "cell_type": "code",
   "execution_count": null,
   "metadata": {},
   "outputs": [
    {
     "ename": "SyntaxError",
     "evalue": "invalid syntax (3903084350.py, line 16)",
     "output_type": "error",
     "traceback": [
      "\u001b[1;36m  Cell \u001b[1;32mIn[13], line 16\u001b[1;36m\u001b[0m\n\u001b[1;33m    filtered = [n for n in range(0, 21, 2) if n * 2 > 10 else 'no']\u001b[0m\n\u001b[1;37m                                                         ^\u001b[0m\n\u001b[1;31mSyntaxError\u001b[0m\u001b[1;31m:\u001b[0m invalid syntax\n"
     ]
    }
   ],
   "source": [
    "# Example1: Include Only Numbers Where n*2 > 10\n",
    "\n",
    "\n",
    "filtered = [n for n in range(0, 21, 2) if n * 2 > 10]\n",
    "print(filtered)\n",
    "\n",
    "'''\n",
    "Explanation:-\n",
    "\n",
    "- Each number n is included in the list only if n * 2 > 10.\n",
    "\n",
    "- Numbers like 0, 2, 4 are excluded because 0*2 = 0, 2*2 = 4, and 4*2 = 8—all are ≤10.\n",
    "\n",
    "'''\n",
    "\n",
    "# Example2: Filtering Even Numbers from a List\n",
    "\n",
    "numbers = [1, 2, 3, 4, 5, 6, 7, 8, 9, 10]\n",
    "even_numbers = [num for num in numbers if num % 2 == 0]\n",
    "print(even_numbers)\n",
    "\n",
    "\n",
    "\n",
    "\n",
    "# Invalid Syntax if you want to include 'else'\n",
    "filtered = [n for n in range(0, 21, 2) if n * 2 > 10 else 'no']\n",
    "print(filtered)\n"
   ]
  },
  {
   "cell_type": "markdown",
   "metadata": {},
   "source": [
    "#### Using if-else in List Comprehension\n",
    "\n",
    "When filtering elements, you can specify an alternative value using else.\n",
    "\n",
    "```python\n",
    "[expression_if_true if condition else expression_if_false for item in iterable]\n",
    "```"
   ]
  },
  {
   "cell_type": "code",
   "execution_count": null,
   "metadata": {},
   "outputs": [
    {
     "name": "stdout",
     "output_type": "stream",
     "text": [
      "['no', 'no', 'no', 6, 8, 10, 12, 14, 16, 18, 20]\n"
     ]
    }
   ],
   "source": [
    "# Example: Replace Numbers That Don’t Meet the Condition\n",
    "\n",
    "result = [n if n * 2 > 10 else \"no\" for n in range(0, 21, 2)]\n",
    "print(result)\n",
    "\n",
    "'''\n",
    "Explanation:\n",
    "\n",
    "If n * 2 > 10, keep the number n.\n",
    "\n",
    "Otherwise, replace it with \"no\".\n",
    "\n",
    "The first three numbers (0, 2, 4) don’t meet the condition, so they are replaced.\n",
    "\n",
    "'''"
   ]
  },
  {
   "cell_type": "markdown",
   "metadata": {},
   "source": [
    "#### Real-Life Example: Converting Feet to Meters\n",
    "\n",
    "**Scenario:**\n",
    "\n",
    "+ Given a list of measurements in feet, convert them to meters.\n",
    "\n",
    "+ Conversion Formula: `1 foot = 0.3048 meters`"
   ]
  },
  {
   "cell_type": "code",
   "execution_count": 12,
   "metadata": {},
   "outputs": [
    {
     "name": "stdout",
     "output_type": "stream",
     "text": [
      "[3.048, 6.096, 9.144, 12.192, 15.24]\n",
      "[3.048, 6.096, 9.144, 12.192, 15.24]\n"
     ]
    },
    {
     "data": {
      "text/plain": [
       "'\\n\\n✅ More concise and readable\\n✅ Achieves the same result in one line\\n\\n'"
      ]
     },
     "execution_count": 12,
     "metadata": {},
     "output_type": "execute_result"
    }
   ],
   "source": [
    "# Traditional Approach (Using a Loop)\n",
    "\n",
    "feet = [10, 20, 30, 40, 50]\n",
    "meters = []\n",
    "for f in feet:\n",
    "    meters.append(f * 0.3048)\n",
    "print(meters)\n",
    "\n",
    "# Using List Comprehension (Efficient Way)\n",
    "\n",
    "feet = [10, 20, 30, 40, 50]\n",
    "meters = [f * 0.3048 for f in feet]\n",
    "print(meters)\n",
    "\n",
    "'''\n",
    "\n",
    "✅ More concise and readable\n",
    "✅ Achieves the same result in one line\n",
    "\n",
    "'''"
   ]
  },
  {
   "cell_type": "markdown",
   "metadata": {},
   "source": [
    "#### **Dictionary Comprehension**\n",
    "\n",
    "List comprehensions can also be used for dictionaries."
   ]
  },
  {
   "cell_type": "code",
   "execution_count": null,
   "metadata": {},
   "outputs": [],
   "source": [
    "# Example: Squaring Numbers and Storing in a Dictionary\n",
    "\n",
    "squares = {num: num ** 2 for num in range(1, 6)}\n",
    "print(squares)\n",
    "\n",
    "'''\n",
    "✔ Explanation:\n",
    "\n",
    "Each key is a number from 1 to 5.\n",
    "\n",
    "Each value is the square of the key.\n",
    "'''\n"
   ]
  },
  {
   "cell_type": "markdown",
   "metadata": {},
   "source": [
    "#### **Set Comprehension**\n",
    "\n",
    "Set comprehensions work similarly to list comprehensions, but they create sets instead of lists."
   ]
  },
  {
   "cell_type": "code",
   "execution_count": null,
   "metadata": {},
   "outputs": [
    {
     "name": "stdout",
     "output_type": "stream",
     "text": [
      "{1, 4, 9, 16, 25}\n"
     ]
    }
   ],
   "source": [
    "numbers = [1, 2, 2, 3, 4, 4, 5]\n",
    "unique_squares = {num ** 2 for num in numbers}\n",
    "print(unique_squares)\n",
    "\n",
    "'''\n",
    "✔ Explanation:\n",
    "\n",
    "The set automatically removes duplicates.\n",
    "\n",
    "Only unique squared values are stored.\n",
    "\n",
    "'''\n"
   ]
  },
  {
   "cell_type": "markdown",
   "metadata": {},
   "source": [
    "#### **Flattening a List of Lists**\n",
    "\n",
    "You can convert a list of lists into a single list using list comprehension."
   ]
  },
  {
   "cell_type": "code",
   "execution_count": null,
   "metadata": {},
   "outputs": [
    {
     "name": "stdout",
     "output_type": "stream",
     "text": [
      "[1, 2, 3, 4, 5, 6, 7, 8, 9]\n"
     ]
    },
    {
     "data": {
      "text/plain": [
       "[('Alice', 85), ('Bob', 90), ('Charlie', 78)]"
      ]
     },
     "execution_count": 19,
     "metadata": {},
     "output_type": "execute_result"
    }
   ],
   "source": [
    "# Example: Flattening a Nested List\n",
    "\n",
    "nested_list = [[1, 2, 3], [4, 5, 6], [7, 8, 9]]\n",
    "flattened_list = [num for sublist in nested_list for num in sublist]\n",
    "print(flattened_list)\n",
    "\n",
    "'''\n",
    "✔ Explanation:\n",
    "\n",
    "The inner loop iterates through each sublist.\n",
    "\n",
    "The outer loop extracts each element.\n",
    "\n",
    "'''\n",
    "\n"
   ]
  },
  {
   "cell_type": "markdown",
   "metadata": {},
   "source": [
    "#### **Using zip() with List Comprehension**\n",
    "\n",
    "You can use `zip()` to iterate over multiple lists at once."
   ]
  },
  {
   "cell_type": "code",
   "execution_count": 20,
   "metadata": {},
   "outputs": [
    {
     "name": "stdout",
     "output_type": "stream",
     "text": [
      "[('Alice', 85), ('Bob', 90), ('Charlie', 78)]\n"
     ]
    }
   ],
   "source": [
    "# Example: Merging Two Lists into Tuples\n",
    "\n",
    "names = [\"Alice\", \"Bob\", \"Charlie\"]\n",
    "scores = [85, 90, 78]\n",
    "student_scores = [(name, score) for name, score in zip(names, scores)]\n",
    "print(student_scores)"
   ]
  },
  {
   "cell_type": "markdown",
   "metadata": {},
   "source": [
    "#### **Using enumerate() in List Comprehension**\n",
    "\n",
    "`enumerate()` is useful when you need both the index and value in a loop."
   ]
  },
  {
   "cell_type": "code",
   "execution_count": 21,
   "metadata": {},
   "outputs": [
    {
     "name": "stdout",
     "output_type": "stream",
     "text": [
      "[(0, 'apple'), (1, 'banana'), (2, 'cherry')]\n"
     ]
    }
   ],
   "source": [
    "# Example: Adding Index to a List\n",
    "\n",
    "items = [\"apple\", \"banana\", \"cherry\"]\n",
    "indexed_items = [(index, item) for index, item in enumerate(items)]\n",
    "print(indexed_items)"
   ]
  },
  {
   "cell_type": "markdown",
   "metadata": {},
   "source": [
    "#### **Combining Multiple Conditions**\n",
    "\n",
    "You can add multiple conditions inside list comprehension."
   ]
  },
  {
   "cell_type": "code",
   "execution_count": 22,
   "metadata": {},
   "outputs": [
    {
     "name": "stdout",
     "output_type": "stream",
     "text": [
      "[6, 12, 18]\n"
     ]
    },
    {
     "data": {
      "text/plain": [
       "'\\n✔ Explanation:\\n\\nThe condition num % 2 == 0 and num % 3 == 0 filters numbers that are divisible by both 2 and 3.\\n\\n\\n'"
      ]
     },
     "execution_count": 22,
     "metadata": {},
     "output_type": "execute_result"
    }
   ],
   "source": [
    "# Example: Selecting Numbers Divisible by Both 2 and 3\n",
    "\n",
    "numbers = range(1, 21)\n",
    "divisible_by_2_and_3 = [num for num in numbers if num % 2 == 0 and num % 3 == 0]\n",
    "print(divisible_by_2_and_3)\n",
    "\n",
    "'''\n",
    "✔ Explanation:\n",
    "\n",
    "The condition num % 2 == 0 and num % 3 == 0 filters numbers that are divisible by both 2 and 3.\n",
    "\n",
    "\n",
    "'''"
   ]
  },
  {
   "cell_type": "markdown",
   "metadata": {},
   "source": [
    "#### **List Comprehension with Functions**\n",
    "\n",
    "List comprehension can be used with functions for more complex operations."
   ]
  },
  {
   "cell_type": "code",
   "execution_count": null,
   "metadata": {},
   "outputs": [
    {
     "name": "stdout",
     "output_type": "stream",
     "text": [
      "[32.0, 50.0, 68.0, 86.0, 104.0]\n"
     ]
    },
    {
     "data": {
      "text/plain": [
       "\"\\n✔ Explanation:\\n\\nThe function c_to_f converts Celsius to Fahrenheit.\\n\\nList comprehension applies this function to every element in celsius_temps'\\n\\n\""
      ]
     },
     "execution_count": 24,
     "metadata": {},
     "output_type": "execute_result"
    }
   ],
   "source": [
    "# Example: Converting a List of Temperatures from Celsius to Fahrenheit\n",
    "\n",
    "def c_to_f(celsius):\n",
    "    return (celsius * 9/5) + 32\n",
    "\n",
    "celsius_temps = [0, 10, 20, 30, 40]\n",
    "fahrenheit_temps = [c_to_f(temp) for temp in celsius_temps]\n",
    "print(fahrenheit_temps)\n",
    "\n",
    "\n",
    "'''\n",
    "✔ Explanation:\n",
    "\n",
    "The function c_to_f converts Celsius to Fahrenheit.\n",
    "\n",
    "List comprehension applies this function to every element in celsius_temps'\n",
    "\n",
    "'''"
   ]
  },
  {
   "cell_type": "markdown",
   "metadata": {},
   "source": [
    "#### **Nested List Comprehension**\n",
    "\n",
    "```python\n",
    "General Syntax\n",
    "\n",
    "[expression for outer_variable in outer_iterable for inner_variable in inner_iterable]\n",
    "```\n",
    "\n",
    "\n",
    "This is equivalent to:\n",
    "```python\n",
    "result = []\n",
    "for outer_variable in outer_iterable:\n",
    "    for inner_variable in inner_iterable:\n",
    "        result.append(expression)\n",
    "```"
   ]
  },
  {
   "cell_type": "code",
   "execution_count": 25,
   "metadata": {},
   "outputs": [
    {
     "name": "stdout",
     "output_type": "stream",
     "text": [
      "[1, 2, 3, 4, 5, 6, 7, 8, 9]\n",
      "[[1, 2, 3, 4, 5], [2, 4, 6, 8, 10], [3, 6, 9, 12, 15], [4, 8, 12, 16, 20], [5, 10, 15, 20, 25]]\n",
      "[[2], [4, 6], [8]]\n",
      "[['a', 'e'], ['a', 'a', 'a'], ['e']]\n"
     ]
    },
    {
     "data": {
      "text/plain": [
       "'\\n✔ Explanation:\\n\\nThe outer loop processes each word.\\n\\nThe inner loop filters vowels from each word.\\n'"
      ]
     },
     "execution_count": 25,
     "metadata": {},
     "output_type": "execute_result"
    }
   ],
   "source": [
    "# Example 1: Flattening a List of Lists\n",
    "\n",
    "nested_list = [[1, 2, 3], [4, 5, 6], [7, 8, 9]]\n",
    "flattened = [num for sublist in nested_list for num in sublist]\n",
    "print(flattened)\n",
    "\n",
    "'''\n",
    "✔ Explanation:\n",
    "\n",
    "sublist loops over each list inside nested_list.\n",
    "\n",
    "num loops over each element in the sublist.\n",
    "\n",
    "The result is a flattened list.\n",
    "'''\n",
    "\n",
    "# Example 2: Creating a Multiplication Table\n",
    "\n",
    "multiplication_table = [[i * j for j in range(1, 6)] for i in range(1, 6)]\n",
    "print(multiplication_table)\n",
    "\n",
    "'''\n",
    "✔ Explanation:\n",
    "\n",
    "Outer comprehension (i): Iterates from 1 to 5 (rows).\n",
    "\n",
    "Inner comprehension (j): Iterates from 1 to 5 (columns).\n",
    "\n",
    "Each element is i * j.\n",
    "'''\n",
    "\n",
    "# Example 3: Filtering Elements in a Nested List\n",
    "\n",
    "matrix = [[1, 2, 3], [4, 5, 6], [7, 8, 9]]\n",
    "even_numbers = [[num for num in row if num % 2 == 0] for row in matrix]\n",
    "print(even_numbers)\n",
    "\n",
    "''' \n",
    "✔ Explanation:\n",
    "\n",
    "The inner comprehension filters only even numbers.\n",
    "\n",
    "The outer comprehension processes each row.\n",
    "\n",
    "'''\n",
    "\n",
    "# Example 4: Nested List Comprehension with Conditions\n",
    "\n",
    "words = [\"apple\", \"banana\", \"cherry\"]\n",
    "vowel_words = [[char for char in word if char in \"aeiou\"] for word in words]\n",
    "print(vowel_words)\n",
    "\n",
    "'''\n",
    "✔ Explanation:\n",
    "\n",
    "The outer loop processes each word.\n",
    "\n",
    "The inner loop filters vowels from each word.\n",
    "'''\n"
   ]
  },
  {
   "cell_type": "code",
   "execution_count": null,
   "metadata": {},
   "outputs": [],
   "source": []
  },
  {
   "cell_type": "markdown",
   "metadata": {},
   "source": [
    "#### **When NOT to Use List Comprehension**\n",
    "\n",
    "⚠️ Avoid list comprehensions when:\n",
    "\n",
    "- The logic is too complex (readability suffers).\n",
    "\n",
    "- You need multiple nested loops (use regular for loops instead).\n",
    "\n",
    "- Performance matters (list comprehensions can be memory-intensive for large data)."
   ]
  },
  {
   "cell_type": "markdown",
   "metadata": {},
   "source": [
    "#### Key Takeaways\n",
    "\n",
    "**List Comprehension Syntax:**\n",
    "\n",
    "\n",
    "`[expression for item in iterable]`\n",
    "\n",
    "**Modifying Items in the List:**\n",
    "\n",
    "\n",
    "`[item * 2 for item in iterable]`\n",
    "\n",
    "**Using if to Filter Elements:**\n",
    "\n",
    "`[item for item in iterable if condition]`\n",
    "\n",
    "**Using if-else for Conditional Replacement:**\n",
    "\n",
    "`[item if condition else alternative_value for item in iterable]`\n",
    "\n",
    "**Useful for Efficient Data Transformations**\n",
    "\n",
    "+ Converting measurements\n",
    "\n",
    "+ Filtering data\n",
    "\n",
    "+ Performing mathematical operations\n",
    "\n",
    "**⚠️ Readability Tip:**\n",
    "\n",
    "+ While list comprehension makes code concise and efficient, overly complex expressions reduce readability.\n",
    "\n",
    "+ If the logic is too complicated, a standard for loop might be easier to understand."
   ]
  },
  {
   "cell_type": "markdown",
   "metadata": {},
   "source": [
    "#### ✅ Practice Task:\n",
    "\n",
    "1. Try using list comprehension to create a list of **squares of all odd numbers** between 1 and 20.\n",
    "\n",
    "```python\n",
    "Soln:\n",
    "squares = [n**2 for n in range(1, 21) if n % 2 != 0]\n",
    "print(squares)\n",
    "```\n",
    "\n",
    "2. Try writing a list comprehension to **extract words** with more than **4 letters** from a sentence:\n",
    "\n",
    "```python\n",
    "sentence = \"List comprehensions are powerful and efficient\"\n",
    "words = [word for word in sentence.split() if len(word) > 4]\n",
    "print(words)\n",
    "```\n",
    "\n",
    "3. Create an even_values list consisting of the numbers in the values list that (you guessed it!) are even.\n",
    "\n",
    "Method 1:-\n",
    "```python\n",
    "values = [1, 2, 3, 4, 5, 6, 9.5]\n",
    "even_values = [num for num in values if isinstance(num, int) and num % 2 == 0]\n",
    "print(even_values)\n",
    "\n",
    "```\n",
    "\n",
    "✔ Explanation:\n",
    "\n",
    "num for num in values iterates through each element in the list.\n",
    "\n",
    "if isinstance(num, int) and num % 2 == 0 ensures:\n",
    "\n",
    "The number is an integer (isinstance(num, int))\n",
    "\n",
    "It is even (num % 2 == 0).\n",
    "\n",
    "9.5 is ignored since it's a float. 🚀\n",
    "```\n",
    "\n",
    "Method 2:-\n",
    "\n",
    "```python\n",
    "values = [1, 2, 3, 4, 5, 6, 9.5]\n",
    "even_values = [num for num in values if int(num) % 2 == 0]\n",
    "print(even_values)\n",
    "```\n",
    "\n",
    "✔ Explanation:\n",
    "\n",
    "int(num) % 2 == 0 converts floats to integers before checking evenness.\n",
    "\n",
    "Issue: This may incorrectly classify floats as even, which may not be desirable.\n",
    "\n",
    "Method 3:\n",
    "```python\n",
    "values = [1, 2, 3, 4, 5, 6, 9.5]\n",
    "even_values = [num for num in values if num % 2 == 0]\n",
    "print(even_values)\n",
    "```\n",
    "\n",
    "✔ Explanation:\n",
    "\n",
    "num % 2 == 0 filters numbers that are divisible by 2.\n",
    "\n",
    "Python automatically raises an error if num is a float (e.g., 9.5 % 2) because `%` can be used with floats, but checking for even/odd is not meaningful for non-integers."
   ]
  }
 ],
 "metadata": {
  "kernelspec": {
   "display_name": "Python 3",
   "language": "python",
   "name": "python3"
  },
  "language_info": {
   "codemirror_mode": {
    "name": "ipython",
    "version": 3
   },
   "file_extension": ".py",
   "mimetype": "text/x-python",
   "name": "python",
   "nbconvert_exporter": "python",
   "pygments_lexer": "ipython3",
   "version": "3.11.7"
  }
 },
 "nbformat": 4,
 "nbformat_minor": 2
}
