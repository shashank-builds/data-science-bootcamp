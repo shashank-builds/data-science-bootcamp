{
 "cells": [
  {
   "cell_type": "markdown",
   "metadata": {},
   "source": [
    "## 📓 Python Sets - Understanding and Using Sets in Python\n",
    "\n",
    "#### 🏆Learning Objectives  \n",
    "By the end of this notebook, you will be able to:\n",
    "\n",
    "✅ Understand what **sets** are and their key characteristics.\n",
    "\n",
    "✅ **Create** sets using different methods.\n",
    "\n",
    "✅ Perform common set operations like **union**, **intersection**, and **difference**.\n",
    "\n",
    "✅ Use set methods like **add()**, **remove()**, **discard()**, **pop()**, and **clear()**.\n",
    "\n",
    "✅ Understand when to use sets versus other data structures.\n",
    "\n",
    "✅ Solve real-world problems using sets.\n",
    "\n",
    "\n",
    "----\n"
   ]
  },
  {
   "cell_type": "markdown",
   "metadata": {},
   "source": [
    "#### 🧠1. Introduction to Sets\n",
    "\n",
    "##### Definition:  _Sets_ are unordered collections of **unique elements** in Python.  \n",
    "\n",
    "##### 🔎 Key Characteristics of Sets  \n",
    "\n",
    "| **Property** | **Description** | **Example** |\n",
    "|-------------|-----------------|-------------|\n",
    "| **Set Creation**       | Sets are defined using either the `set()` constructor or curly braces `{}`. | `set([1, 2, 3])` or `{1, 2, 3}` |\n",
    "| **Unique Elements** | No duplicates allowed; Python will discard repeated elements. | `{1, 2, 3, 3} → {1, 2, 3}` |\n",
    "| **Unordered** | Elements are stored in no particular order. | `{1, 2, 3}` may be displayed as `{2, 1, 3}` |\n",
    "| **Immutable Elements** | Elements must be hashable (like integers, floats, strings, tuples), meaning **lists** and **dictionaries** cannot be added to a set. | `{1, 2, (3, 4)}` ✅ <br> `{1, 2, [3, 4]}` ❌ |\n",
    "| **No Indexing** | Sets are **unordered** and **unindexed** (no position-based access). | `set[0] → ❌ TypeError` |\n",
    "| **Dynamic Size** | Sets can grow or shrink dynamically. | `set.add(6) → {1, 2, 3, 6}` |\n",
    "\n"
   ]
  },
  {
   "cell_type": "markdown",
   "metadata": {},
   "source": [
    "#### 🖥️2. Creating Sets in Python\n",
    "Method 1: Using set() with braces inside."
   ]
  },
  {
   "cell_type": "code",
   "execution_count": null,
   "metadata": {},
   "outputs": [],
   "source": [
    "my_set = set([1, 2, 3, 4, 5])\n",
    "print(type(my_set))  # Output: <class 'set'>\n",
    "print(my_set)        # Output: {1, 2, 3, 4, 5}"
   ]
  },
  {
   "cell_type": "markdown",
   "metadata": {},
   "source": [
    "Method 2: Using curly braces {} directly.\n",
    "\n"
   ]
  },
  {
   "cell_type": "code",
   "execution_count": null,
   "metadata": {},
   "outputs": [],
   "source": [
    "other_set = {1, 2, 3}\n",
    "print(type(other_set))  # Output: <class 'set'>\n",
    "print(other_set)        # Output: {1, 2, 3}\n"
   ]
  },
  {
   "cell_type": "markdown",
   "metadata": {},
   "source": [
    "⚠️ **Important**:\n",
    "\n",
    "+ Sets require elements to be enclosed within braces or brackets when passed as an argument inside `set()`.\n",
    "\n",
    "+ Example of incorrect syntax:"
   ]
  },
  {
   "cell_type": "code",
   "execution_count": null,
   "metadata": {},
   "outputs": [],
   "source": [
    "my_set = set(1, 2, 3)  # ❌ TypeError: set expected at most 1 argument"
   ]
  },
  {
   "cell_type": "markdown",
   "metadata": {},
   "source": [
    "🚨 **Common Mistakes with Sets**\n",
    "\n",
    "❌ Creating an empty set using `{}` creates a dictionary, not a set.\n",
    "\n",
    "✅ To create an empty set, use set():"
   ]
  },
  {
   "cell_type": "code",
   "execution_count": null,
   "metadata": {},
   "outputs": [],
   "source": [
    "empty_set = {}   # This creates a dictionary\n",
    "print(type(empty_set))\n",
    "empty_set = set()  # This creates an empty set\n",
    "print(type(empty_set))  # Output: <class 'set'>\n"
   ]
  },
  {
   "cell_type": "markdown",
   "metadata": {},
   "source": [
    "✅ To create **empty** data structures for all **common data types**:"
   ]
  },
  {
   "cell_type": "code",
   "execution_count": null,
   "metadata": {},
   "outputs": [],
   "source": [
    "# ✅ 1. Empty List\n",
    "# Use empty square brackets [] or the list() function.\n",
    "empty_list = []\n",
    "# OR\n",
    "empty_list = list()\n",
    "print(type(empty_list))  # Output: <class 'list'>\n",
    "\n",
    "# ✅ 2. Empty Tuple\n",
    "# Use empty parentheses () or the tuple() function.\n",
    "empty_tuple = ()\n",
    "# OR\n",
    "empty_tuple = tuple()\n",
    "print(type(empty_tuple))  # Output: <class 'tuple'>\n",
    "\n",
    "\n",
    "\n",
    "# ✅ 3. Empty Dictionary\n",
    "# Use empty curly braces {} or the dict() function.\n",
    "empty_dict = {}\n",
    "# OR\n",
    "empty_dict = dict()\n",
    "print(type(empty_dict))  # Output: <class 'dict'>\n",
    "\n",
    "\n",
    "# ✅ 5. Empty String\n",
    "# Use two quotation marks \"\" or ''.\n",
    "empty_string = \"\"\n",
    "# OR\n",
    "empty_string = ''\n",
    "print(type(empty_string))  # Output: <class 'str'>\n",
    "\n",
    "\n",
    "# ✅ 6. Empty Integer\n",
    "# There is no \"empty integer,\" but you can initialize it with 0.\n",
    "empty_int = 0\n",
    "print(type(empty_int))  # Output: <class 'int'>\n",
    "\n",
    "# ✅ 7. Empty Float\n",
    "# Similarly, no \"empty float,\" but you can initialize it with 0.0.\n",
    "empty_float = 0.0\n",
    "print(type(empty_float))  # Output: <class 'float'>\n",
    "\n",
    "\n",
    "# ✅ 8. Empty Boolean\n",
    "# Booleans can only have two values: True or False.\n",
    "# By default, you can initialize it with False.\n",
    "empty_bool = False\n",
    "print(type(empty_bool))  # Output: <class 'bool'>\n",
    "\n",
    "# ✅ 9. Empty Byte String\n",
    "# Use b\"\" or bytes().\n",
    "empty_bytes = b\"\"\n",
    "# OR\n",
    "empty_bytes = bytes()\n",
    "print(type(empty_bytes))  # Output: <class 'bytes'>\n",
    "\n",
    "# ✅ 10. Empty Complex Number\n",
    "# Use 0j or complex() for an empty complex number.\n",
    "empty_complex = 0j\n",
    "# OR\n",
    "empty_complex = complex()\n",
    "print(type(empty_complex))  # Output: <class 'complex'>\n",
    "\n",
    "# ✅ 11. Empty Range\n",
    "# A range with no values is created using range(0).\n",
    "empty_range = range(0)\n",
    "print(list(empty_range))  # Output: []\n",
    "print(type(empty_range))  # Output: <class 'range'>\n",
    "\n",
    "# ✅ 12. Empty Frozenset\n",
    "# Use frozenset() to create an empty immutable set.\n",
    "empty_frozenset = frozenset()\n",
    "print(type(empty_frozenset))  # Output: <class 'frozenset'>\n"
   ]
  },
  {
   "cell_type": "markdown",
   "metadata": {},
   "source": [
    "#### 🛡️3. Set Characteristics\n",
    "+ **Unique Elements**: Duplicate values are automatically removed."
   ]
  },
  {
   "cell_type": "code",
   "execution_count": null,
   "metadata": {},
   "outputs": [],
   "source": [
    "my_set = {1, 2, 2, 3, 4, 4, 5}\n",
    "print(my_set)  # Output: {1, 2, 3, 4, 5}\n"
   ]
  },
  {
   "cell_type": "markdown",
   "metadata": {},
   "source": [
    "+ **Unindexed Nature**: Indexing or assigning values by position is not supported.\n"
   ]
  },
  {
   "cell_type": "code",
   "execution_count": null,
   "metadata": {},
   "outputs": [],
   "source": [
    "# Since sets are unordered, you cannot access elements using an index:\n",
    "print(my_set[0])  # ❌ TypeError: 'set' object is not subscriptable\n",
    "\n",
    "\n",
    "# You also cannot modify elements using indexing:\n",
    "my_set[0] = 10  # ❌ TypeError: 'set' object does not support item assignment\n"
   ]
  },
  {
   "cell_type": "markdown",
   "metadata": {},
   "source": [
    "+ **Immutable Elements**: Lists and dictionaries cannot be added to sets, but tuples can.\n"
   ]
  },
  {
   "cell_type": "code",
   "execution_count": null,
   "metadata": {},
   "outputs": [],
   "source": [
    "my_set = {1, 2, (3, 4), \"text\"}\n",
    "print(my_set)  # Output: {1, 2, (3, 4), 'text'}"
   ]
  },
  {
   "cell_type": "markdown",
   "metadata": {},
   "source": [
    "#### 🔑4. Common Set Methods\n",
    "\n",
    "+ `add()` Method: Adds a new element to the set."
   ]
  },
  {
   "cell_type": "code",
   "execution_count": null,
   "metadata": {},
   "outputs": [],
   "source": [
    "my_set = {1, 2, 3}\n",
    "my_set.add(4)\n",
    "print(my_set)  # Output: {1, 2, 3, 4}"
   ]
  },
  {
   "cell_type": "markdown",
   "metadata": {},
   "source": [
    "+ `remove()` Method: Removes a specified element; raises an error if the element is absent.\n",
    "\n"
   ]
  },
  {
   "cell_type": "code",
   "execution_count": null,
   "metadata": {},
   "outputs": [],
   "source": [
    "my_set.remove(2)\n",
    "print(my_set)  # Output: {1, 3, 4}"
   ]
  },
  {
   "cell_type": "markdown",
   "metadata": {},
   "source": [
    "+ `discard()` Method: Removes an element without raising an error if the element doesn't exist.\n"
   ]
  },
  {
   "cell_type": "code",
   "execution_count": null,
   "metadata": {},
   "outputs": [],
   "source": [
    "my_set.discard(100)  # No error\n"
   ]
  },
  {
   "cell_type": "markdown",
   "metadata": {},
   "source": [
    "+ `pop()` Method: Removes a random element.\n"
   ]
  },
  {
   "cell_type": "code",
   "execution_count": null,
   "metadata": {},
   "outputs": [],
   "source": [
    "removed_element = my_set.pop()\n",
    "print(removed_element)  # Output: Random element"
   ]
  },
  {
   "cell_type": "markdown",
   "metadata": {},
   "source": [
    "+ `len()` function to count length of a set\n"
   ]
  },
  {
   "cell_type": "code",
   "execution_count": 3,
   "metadata": {},
   "outputs": [
    {
     "name": "stdout",
     "output_type": "stream",
     "text": [
      "3\n"
     ]
    }
   ],
   "source": [
    "my_set = {1, 2, 3}\n",
    "\n",
    "print(len(my_set))"
   ]
  },
  {
   "cell_type": "markdown",
   "metadata": {},
   "source": [
    "+ `clear()` Method: Empties the set.\n"
   ]
  },
  {
   "cell_type": "code",
   "execution_count": null,
   "metadata": {},
   "outputs": [],
   "source": [
    "my_set.clear()\n",
    "print(my_set)  # Output: set()"
   ]
  },
  {
   "cell_type": "code",
   "execution_count": null,
   "metadata": {},
   "outputs": [],
   "source": []
  },
  {
   "cell_type": "markdown",
   "metadata": {},
   "source": [
    "#### 🔨5. Set Operations\n",
    "\n",
    "+ `Union`: Combines two sets, ensuring unique elements\n",
    "\n",
    "    ✅ Venn Diagram:\n",
    "    (Union combines all elements from both sets)\n",
    "    ```python \n",
    "    set1 = {1, 2, 3}\n",
    "    set2 = {3, 4, 5}\n",
    "    result = set1 ∪ set2 = {1, 2, 3, 4, 5}"
   ]
  },
  {
   "cell_type": "code",
   "execution_count": null,
   "metadata": {},
   "outputs": [],
   "source": [
    "set1 = {1, 2, 3}\n",
    "set2 = {3, 4, 5}\n",
    "union_set = set1.union(set2)\n",
    "print(union_set)  # Output: {1, 2, 3, 4, 5}"
   ]
  },
  {
   "cell_type": "markdown",
   "metadata": {},
   "source": [
    "+ `Intersection`:\n",
    "Returns only the common elements between sets.\n",
    "\n",
    "    ✅ Venn Diagram:\n",
    "    (Intersection contains only common elements)\n",
    "    ```python\n",
    "    set1 = {1, 2, 3}\n",
    "    set2 = {3, 4, 5}\n",
    "    result = set1 ∩ set2 = {3} \n",
    "    ```"
   ]
  },
  {
   "cell_type": "code",
   "execution_count": 23,
   "metadata": {},
   "outputs": [
    {
     "name": "stdout",
     "output_type": "stream",
     "text": [
      "{3}\n"
     ]
    }
   ],
   "source": [
    "result = set1.intersection(set2)\n",
    "print(result)  # Output: {3}"
   ]
  },
  {
   "cell_type": "markdown",
   "metadata": {},
   "source": [
    "+ `Difference`:\n",
    "Returns elements present in one set but not the other.\n",
    "\n",
    "    ✅ Venn Diagram:\n",
    "    (Difference contains elements in set1 but not in set2)\n",
    "\n",
    "    ```python\n",
    "    set1 = {1, 2, 3}\n",
    "    set2 = {3, 4, 5}\n",
    "    result = set1 - set2 = {1, 2}\n",
    "    ```\n",
    "\n",
    "\n",
    "\n",
    "\n"
   ]
  },
  {
   "cell_type": "code",
   "execution_count": 27,
   "metadata": {},
   "outputs": [
    {
     "name": "stdout",
     "output_type": "stream",
     "text": [
      "{1, 2}\n"
     ]
    }
   ],
   "source": [
    "result = set1.difference(set2)\n",
    "print(result)  # Output: {1, 2}"
   ]
  },
  {
   "cell_type": "markdown",
   "metadata": {},
   "source": [
    "+ `Symmetric` Difference\n",
    "Returns elements that are in either set, but not in both.\n",
    "\n",
    "    ✅ Venn Diagram:\n",
    "    (Symmetric Difference contains non-overlapping elements)"
   ]
  },
  {
   "cell_type": "code",
   "execution_count": 26,
   "metadata": {},
   "outputs": [
    {
     "name": "stdout",
     "output_type": "stream",
     "text": [
      "{1, 2, 4, 5}\n"
     ]
    }
   ],
   "source": [
    "result = set1.symmetric_difference(set2)\n",
    "print(result)  # Output: {1, 2, 4, 5}"
   ]
  },
  {
   "cell_type": "markdown",
   "metadata": {},
   "source": [
    "#### 🌍6. Real-World Examples\n",
    "✅ Example 1: Removing Duplicates from a List"
   ]
  },
  {
   "cell_type": "code",
   "execution_count": 28,
   "metadata": {},
   "outputs": [
    {
     "name": "stdout",
     "output_type": "stream",
     "text": [
      "{'c@gmail.com', 'a@gmail.com', 'b@gmail.com'}\n"
     ]
    }
   ],
   "source": [
    "emails = [\"a@gmail.com\", \"b@gmail.com\", \"a@gmail.com\", \"c@gmail.com\"]\n",
    "unique_emails = set(emails)\n",
    "print(unique_emails)"
   ]
  },
  {
   "cell_type": "markdown",
   "metadata": {},
   "source": [
    "✅ Example 2: Common Skills Between Two Job Applicants\n",
    "\n"
   ]
  },
  {
   "cell_type": "code",
   "execution_count": 29,
   "metadata": {},
   "outputs": [
    {
     "name": "stdout",
     "output_type": "stream",
     "text": [
      "{'SQL', 'Machine Learning'}\n"
     ]
    }
   ],
   "source": [
    "applicant1 = {\"Python\", \"SQL\", \"Machine Learning\"}\n",
    "applicant2 = {\"SQL\", \"Java\", \"Machine Learning\"}\n",
    "\n",
    "common_skills = applicant1.intersection(applicant2)\n",
    "print(common_skills)  # Output: {'SQL', 'Machine Learning'}\n"
   ]
  },
  {
   "cell_type": "markdown",
   "metadata": {},
   "source": [
    "#### 🏋️‍♂️7. Exercises  \n",
    "\n",
    "1. **Create a set** with elements `{10, 20, 30, 40}`. Add the number `50` to it.  \n",
    "2. **Create two sets** with overlapping elements. Find their union, intersection, and symmetric difference.\n",
    "3.  **Try** using `pop()` on a set and observe the removed element.\n",
    "4. **Check** if the value `30` exists in the set.  \n",
    "5. **Remove** the number `20` from the set and ensure no error occurs if it’s missing. \n",
    "6. **Remove** an element from a set using `discard()` and `remove()`. What happens if the element does not exist?\n",
    "4. **Combine two sets** using the `union` method:  \n",
    "\n",
    "    ```python\n",
    "    set_a = {1, 2, 3}\n",
    "    set_b = {3, 4, 5}\n",
    "    ```\n",
    "    \n",
    "\n",
    "\n",
    "\n"
   ]
  },
  {
   "cell_type": "code",
   "execution_count": null,
   "metadata": {},
   "outputs": [],
   "source": [
    "# 1. Create a set with elements {10, 20, 30, 40}. Add the number 50 to it.\n",
    "# ✅ Solution:\n",
    "my_set = {10, 20, 30, 40}\n",
    "my_set.add(50)\n",
    "print(my_set)\n",
    "\n",
    "# 2. Create two sets with overlapping elements. Find their union, intersection, and symmetric difference.\n",
    "# ✅ Solution:\n",
    "set1 = {1, 2, 3, 4}\n",
    "set2 = {3, 4, 5, 6}\n",
    "\n",
    "# Union\n",
    "print(\"Union:\", set1.union(set2))\n",
    "\n",
    "# Intersection\n",
    "print(\"Intersection:\", set1.intersection(set2))\n",
    "\n",
    "# Symmetric Difference\n",
    "print(\"Symmetric Difference:\", set1.symmetric_difference(set2))\n",
    "\n",
    "# 3. Try using pop() on a set and observe the removed element.\n",
    "# ✅ Solution:\n",
    "\n",
    "my_set = {10, 20, 30, 40, 50}\n",
    "removed_element = my_set.pop()\n",
    "print(\"Removed element:\", removed_element)\n",
    "print(\"Remaining set:\", my_set)\n",
    "\n",
    "# 4. Check if the value 30 exists in the set.\n",
    "# ✅ Solution:\n",
    "\n",
    "my_set = {10, 20, 30, 40, 50}\n",
    "print(30 in my_set)  # Output: True\n",
    "print(100 in my_set) # Output: False\n",
    "\n",
    "# 5. Remove the number 20 from the set and ensure no error occurs if it’s missing.\n",
    "# ✅ Solution:\n",
    "my_set = {10, 20, 30, 40, 50}\n",
    "# Remove using discard (no error if not present)\n",
    "my_set.discard(20)\n",
    "print(my_set)\n",
    "\n",
    "# Attempt to remove an absent element using discard (no error)\n",
    "my_set.discard(100)\n",
    "print(my_set)\n",
    "\n",
    "# 6. Remove an element from a set using discard() and remove(). What happens if the element does not exist?\n",
    "# ✅ Solution:\n",
    "\n",
    "my_set = {10, 20, 30, 40, 50}\n",
    "# Remove using remove (raises error if not present)\n",
    "my_set.remove(20)\n",
    "print(my_set)\n",
    "\n",
    "# Attempting to remove an absent element using remove (raises KeyError)\n",
    "# my_set.remove(100) # Uncomment to see the error\n",
    "\n",
    "# Using discard (no error if element is absent)\n",
    "my_set.discard(100)\n",
    "print(my_set)\n",
    "\n",
    "# ✅ Expected Output:\n",
    "# remove() raises KeyError if the element is not present.\n",
    "# discard() does nothing if the element is not present.\n",
    "\n",
    "\n",
    "\n",
    "# 7. Combine two sets using the union method:\n",
    "set_a = {1, 2, 3}\n",
    "set_b = {3, 4, 5}\n",
    "combined_set = set_a.union(set_b)\n",
    "print(combined_set)\n",
    "\n"
   ]
  },
  {
   "cell_type": "markdown",
   "metadata": {},
   "source": [
    "#### 💡8. Are Sets Mutable ?\n",
    "\n",
    "No, sets are NOT immutable, but they contain only immutable elements.\n",
    "##### ✅ Mutability Status of Sets  \n",
    "\n",
    "| **Data Type**   | **Mutable**                                               | **Immutable**                                           |\n",
    "|-----------------|------------------------------------------------------------|----------------------------------------------------------|\n",
    "| **Set**          | ✅ Mutable (can add or remove elements)                    | ❌ Elements inside must be immutable                      |\n",
    "| **Tuple**         | ❌ Immutable                                               | ✅ Elements cannot be changed after creation              |\n",
    "| **String**        | ❌ Immutable                                               | ✅ Cannot modify characters directly                      |\n",
    "| **List**          | ✅ Mutable (can change, add, or remove elements)           | ❌ Elements can be changed, added, or removed             |\n",
    "| **Dictionary**     | ✅ Mutable (can change, add, or remove key-value pairs)     | ❌ Keys must be immutable                                  |\n",
    "| **Frozen Set**      | ❌ Immutable                                               | ✅ Elements cannot be modified once created               |\n",
    "\n",
    "\n",
    "🔎 Why Sets Require Immutable Elements\n",
    "+ Since sets are implemented using hashing (like dictionary keys), elements inside a set need to be hashable.\n",
    "+ Lists and dictionaries are not hashable because they are mutable — their content can change, which would break the hashing mechanism.\n",
    "\n",
    "🔥 Example:\n",
    "✅ A set can contain immutable types like strings, tuples, and numbers:\n",
    "```python\n",
    "my_set = {1, 2, 3, (4, 5), \"hello\"}\n",
    "print(my_set)  # Output: {1, 2, 3, (4, 5), 'hell\n",
    "```\n",
    "\n",
    "❌ A set cannot contain lists or other sets because they are mutable:\n",
    "```python \n",
    "my_set = {1, 2, [3, 4]}  # TypeError: unhashable type: 'list' \n",
    "```\n",
    "❌Invalid set with a dictionary\n",
    "```python\n",
    "try:\n",
    "    invalid_set = {1, 2, {\"key\": \"value\"}, \"text\"}\n",
    "except TypeError as e:\n",
    "    print(f\"Error: {e}\")  # Output: Error: unhashable type: 'dict'\n",
    "```\n",
    "\n",
    "\n",
    "✅ You can modify the set itself by adding or removing elements:\n",
    "```python\n",
    "my_set = {1, 2, 3}\n",
    "my_set.add(4)  # ✅ Allowed\n",
    "my_set.remove(2)  # ✅ Allowed\n",
    "print(my_set)  # Output: {1, 3, 4} \n",
    "```\n",
    "❌ But you cannot modify a tuple directly:\n",
    "```python my_tuple = (1, 2, 3)\n",
    "my_tuple[0] = 10  # TypeError: 'tuple' object does not support item assignment\n",
    "```\n",
    "\n",
    "\n",
    "\n",
    "----\n"
   ]
  },
  {
   "cell_type": "markdown",
   "metadata": {},
   "source": [
    "#### 💡9. Is there any way i can access elements if Sets?\n",
    "   You cannot access elements of a set directly by index because sets in Python are unordered collections. Since they have no fixed order, indexing like this will fail:\n",
    "\n",
    "```python\n",
    "my_set = {1, 2, 3, 4, 5}\n",
    "print(my_set[0])  # ❌ TypeError: 'set' object is not subscriptable\n",
    "```\n",
    "\n",
    "\n",
    "✅ How to Access Elements in a Set (**Workarounds**):\n",
    "\n",
    "+ Convert the set to a list to enable indexing:\n",
    "\n",
    "        my_set = {1, 2, 3, 4, 5}\n",
    "\n",
    "        my_list = list(my_set)\n",
    "        \n",
    "        print(my_list[0])  # ✅ Output depends on the internal ordering\n",
    "\n",
    "\n",
    "+ Use a loop to access elements:\n",
    "\n",
    "        for element in my_set:\n",
    "            print(element)  # ✅ Output order is arbitrary\n",
    "\n",
    "+ Unpack elements if you know the number of elements:\n",
    "\n",
    "        my_set = {1, 2, 3}\n",
    "        a, b, c = my_set\n",
    "        print(a, b, c)  # ✅ Output order is arbitrary\n",
    "\n",
    "🚨 Why Direct Indexing Isn’t Allowed:\n",
    "- Sets are implemented using a hash table (like dictionaries), which optimizes for fast lookups and uniqueness — not order.\n",
    "- That's why you can’t rely on the position of elements like you would with a list or tuple.\n",
    "\n",
    "---"
   ]
  },
  {
   "cell_type": "markdown",
   "metadata": {},
   "source": [
    "#### 🚀10. Best Practices & Performance\n",
    "##### ✅ When to Use Sets:\n",
    "+ When you need unique elements.\n",
    "+ When you need to check membership efficiently (O(1) time complexity).\n",
    "+ When order doesn't matter.\n",
    "\n",
    "##### 🚫 When NOT to Use Sets:\n",
    "+ When you need to keep the order of elements.\n",
    "+ When you need to allow duplicate elements.\n",
    "\n",
    "----\n"
   ]
  },
  {
   "cell_type": "markdown",
   "metadata": {},
   "source": [
    "#### 🧊 11. `frozenset()`\n",
    "\n",
    "**Syntax**:\n",
    "\n",
    "The `frozenset()` function is used to create an immutable set.\n",
    "\n",
    "frozenset([iterable])\n",
    "+ **iterable (optional)**: Any iterable (like list, tuple, set, string, dictionary keys, etc.).\n",
    "+ **Returns**: An immutable frozenset object.\n"
   ]
  },
  {
   "cell_type": "code",
   "execution_count": 14,
   "metadata": {},
   "outputs": [
    {
     "name": "stdout",
     "output_type": "stream",
     "text": [
      "frozenset({1, 2, 3, 4, 5})\n",
      "frozenset({10, 20, 30})\n",
      "frozenset({'o', 'h', 'e', 'l'})\n",
      "frozenset({1, 2, 3})\n"
     ]
    }
   ],
   "source": [
    "# Examples\n",
    "\n",
    "# 1. Creating a frozenset from a list\n",
    "numbers = [1, 2, 3, 4, 5,5,5,5]\n",
    "frozen_numbers = frozenset(numbers)\n",
    "print(frozen_numbers)  # Output: frozenset({1, 2, 3, 4, 5})\n",
    "\n",
    "# 2. Creating a frozenset from a set\n",
    "normal_set = {10, 20, 30}\n",
    "immutable_set = frozenset(normal_set)\n",
    "print(immutable_set)  # Output: frozenset({10, 20, 30})\n",
    "\n",
    "# 3. Creating a frozenset from a string\n",
    "text = \"hello\"\n",
    "frozen_text = frozenset(text)\n",
    "print(frozen_text)  # Output: frozenset({'o', 'h', 'e', 'l'})\n",
    "\n",
    "# 4. Creating a frozenset from a dictionary (uses keys)\n",
    "my_dict = {1: \"one\", 2: \"two\", 3: \"three\"}\n",
    "frozen_keys = frozenset(my_dict)\n",
    "print(frozen_keys)  # Output: frozenset({1, 2, 3})"
   ]
  },
  {
   "cell_type": "markdown",
   "metadata": {},
   "source": [
    "#### 🔎12. Difference between set and frozenset with example\n",
    "\n",
    "\n",
    "| **Feature**           | **Set**                                          | **Frozenset**                                    |\n",
    "|----------------------|--------------------------------------------------|--------------------------------------------------|\n",
    "| **Mutability**        | ✅ Mutable (can be modified)                     | ❌ Immutable (cannot be modified)                 |\n",
    "| **Indexing**          | ❌ Not allowed                                    | ❌ Not allowed                                    |\n",
    "| **Operations**        | Can add/remove elements                           | Cannot add/remove elements                       |\n",
    "| **Hashable**           | ❌ Not hashable (cannot be used as a dict key)     | ✅ Hashable (can be used as a dict key)            |\n",
    "\n",
    "\n"
   ]
  },
  {
   "cell_type": "code",
   "execution_count": null,
   "metadata": {},
   "outputs": [],
   "source": [
    "# Example 1: set (Mutable)\n",
    "\n",
    "my_set = {1, 2, 3}\n",
    "my_set.add(4)  # ✅ Allowed\n",
    "my_set.remove(2)  # ✅ Allowed\n",
    "print(my_set)  # Output: {1, 3, 4}\n",
    "\n",
    "# Example 2: frozenset (Immutable)\n",
    "\n",
    "my_fset = frozenset({1, 2, 3})\n",
    "# my_fset.add(4)  # ❌ AttributeError: 'frozenset' object has no attribute 'add'\n",
    "# my_fset.remove(2)  # ❌ AttributeError: 'frozenset' object has no attribute 'remove'\n",
    "print(my_fset)  # Output: frozenset({1, 2, 3})\n",
    "\n",
    "'''Key Takeaways\n",
    "Use set when you need to modify elements (e.g., adding/removing items dynamically).\n",
    "Use frozenset when you need immutability (e.g., using as a dictionary key).'''"
   ]
  },
  {
   "cell_type": "markdown",
   "metadata": {},
   "source": [
    "✅ Practical Use Case of `frozenset`\n",
    "\n",
    "One useful scenario for frozenset is when you need to use a set as a dictionary key or store sets in another set, which is not possible with a normal set (since it's mutable and unhashable).\n",
    "\n",
    "+ Example: **Using frozenset as a Dictionary Key**"
   ]
  },
  {
   "cell_type": "code",
   "execution_count": null,
   "metadata": {},
   "outputs": [],
   "source": [
    "# Create a dictionary where keys are sets of student subjects\n",
    "students = {\n",
    "    frozenset([\"Math\", \"Science\"]): \"Alice\",\n",
    "    frozenset([\"English\", \"History\"]): \"Bob\",\n",
    "    frozenset([\"Math\", \"English\"]): \"Charlie\",\n",
    "}\n",
    "\n",
    "# Look up a student by their subjects\n",
    "key = frozenset([\"Math\", \"Science\"])\n",
    "print(students[key])  # Output: Alice\n",
    "\n",
    "'''👉 Why?\n",
    "\n",
    "A normal set cannot be used as a key because it's mutable.\n",
    "A frozenset is immutable and hashable, making it a valid dictionary key.'''\n"
   ]
  },
  {
   "cell_type": "markdown",
   "metadata": {},
   "source": [
    "+ Example: **Storing Sets in Another Set**\n",
    "\n"
   ]
  },
  {
   "cell_type": "code",
   "execution_count": 10,
   "metadata": {},
   "outputs": [
    {
     "name": "stdout",
     "output_type": "stream",
     "text": [
      "{frozenset({1, 2, 3}), frozenset({4, 5, 6})}\n"
     ]
    }
   ],
   "source": [
    "# Normal sets cannot be stored in another set\n",
    "set_of_sets = set()\n",
    "\n",
    "# Trying to add a normal set (will cause an error)\n",
    "# set_of_sets.add({1, 2, 3})  # ❌ TypeError: unhashable type: 'set'\n",
    "\n",
    "# Using frozenset instead\n",
    "set_of_sets.add(frozenset({1, 2, 3}))\n",
    "set_of_sets.add(frozenset({4, 5, 6}))\n",
    "\n",
    "print(set_of_sets)  # Output: {frozenset({1, 2, 3}), frozenset({4, 5, 6})}\n",
    "\n",
    "# 👉 Why?\n",
    "\n",
    "# A normal set cannot be added to another set because it's unhashable.\n",
    "# A frozenset is immutable and can be stored inside a set."
   ]
  },
  {
   "cell_type": "markdown",
   "metadata": {},
   "source": [
    "\n",
    "#### 🔥13. Summary / Key Takeaways\n",
    "✔️ Sets store unique, unordered elements.\n",
    "\n",
    "✔️ Sets support fast membership testing.\n",
    "\n",
    "✔️ Common methods: `add()`, `remove()`, `discard()`, `pop()`, `clear()`.\n",
    "\n",
    "✔️ Operations: union, intersection, difference, symmetric difference.\n",
    "\n",
    "✔️ Sets are highly optimized for membership testing and removing duplicates."
   ]
  },
  {
   "cell_type": "code",
   "execution_count": null,
   "metadata": {},
   "outputs": [],
   "source": []
  }
 ],
 "metadata": {
  "kernelspec": {
   "display_name": "Python 3",
   "language": "python",
   "name": "python3"
  },
  "language_info": {
   "codemirror_mode": {
    "name": "ipython",
    "version": 3
   },
   "file_extension": ".py",
   "mimetype": "text/x-python",
   "name": "python",
   "nbconvert_exporter": "python",
   "pygments_lexer": "ipython3",
   "version": "3.11.7"
  }
 },
 "nbformat": 4,
 "nbformat_minor": 2
}
