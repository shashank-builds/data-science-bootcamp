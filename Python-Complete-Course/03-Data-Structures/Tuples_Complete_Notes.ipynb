{
 "cells": [
  {
   "cell_type": "markdown",
   "metadata": {},
   "source": [
    "#### **Status**: Completed\n",
    "- _All Tuple topics covered  (Last updated: March 18, 2025)_\n",
    "\n",
    "---"
   ]
  },
  {
   "cell_type": "markdown",
   "metadata": {},
   "source": [
    "## Tuples in Python\n",
    "\n",
    "#### Learning Objectives\n",
    "By the end of this lesson, you will be able to:  \n",
    "✅ **Understand** what tuples are and how they differ from lists.  \n",
    "✅ **Create** and access tuple elements using indexing and slicing.  \n",
    "✅ **Perform** common tuple operations such as counting and finding indices.  \n",
    "✅ **Nest** tuples and unpack their values into variables.  \n",
    "✅ **Convert** between tuples and other data types using type casting.  \n",
    "\n",
    "---"
   ]
  },
  {
   "cell_type": "markdown",
   "metadata": {},
   "source": [
    "#### 1. What are Tuples?  \n",
    "A **tuple** is a collection of ordered elements, similar to a list, but with one major difference:  \n",
    "\n",
    "- ✅ **Tuples are immutable** — once you create a tuple, you cannot modify its contents.  \n",
    "- ✅ **Tuples are defined using parentheses** `()` instead of square brackets `[]`.  \n",
    "- ✅ **Tuples are faster** and take up less memory compared to lists.  \n",
    "- ✅ **Tuples can store different types** of objects — integers, floats, strings, lists, dictionaries, and even other tuples.  \n"
   ]
  },
  {
   "cell_type": "code",
   "execution_count": null,
   "metadata": {},
   "outputs": [],
   "source": [
    "# Example: Creating a Tuple\n",
    "\n",
    "# Creating a simple tuple\n",
    "my_tuple = (1, 2, 3, 4)\n",
    "print(my_tuple)\n",
    "\n",
    "# Creating a tuple without parentheses\n",
    "my_tuple_2 = 5, 6, 7\n",
    "print(my_tuple_2)\n",
    "\n",
    "# Creating a tuple with mixed data types\n",
    "mixed_tuple = (1, 3.14, 'apple', [5, 6], {'key': 'value'})\n",
    "print(mixed_tuple)\n"
   ]
  },
  {
   "cell_type": "markdown",
   "metadata": {},
   "source": [
    "#### 2. Indexing and Slicing in Tuples\n",
    "\n",
    "Tuples, like strings and lists, support **indexing** and **slicing**.\n",
    "\n",
    "✅ **Indexing** starts at `0`.  \n",
    "✅ **Negative indexing** starts from the end with `-1`.  \n",
    "✅ **Slicing** allows you to extract a portion of the tuple using the format:\n",
    "\n",
    "```python\n",
    "tuple[start:stop:step]\n",
    "```\n"
   ]
  },
  {
   "cell_type": "code",
   "execution_count": null,
   "metadata": {},
   "outputs": [],
   "source": [
    "# Example: Indexing\n",
    "my_tuple = (1, 2, 3, 4, 5)\n",
    "\n",
    "# Accessing elements using positive index\n",
    "print(my_tuple[0])  # Output: 1\n",
    "print(my_tuple[2])  # Output: 3\n",
    "\n",
    "# Accessing elements using negative index\n",
    "print(my_tuple[-1])  # Output: 5\n",
    "print(my_tuple[-2])  # Output: 4\n",
    "\n"
   ]
  },
  {
   "cell_type": "code",
   "execution_count": null,
   "metadata": {},
   "outputs": [],
   "source": [
    "# Example: Slicing\n",
    "\n",
    "# Slicing from index 1 to 3 (excluding index 3)\n",
    "print(my_tuple[1:3])  # Output: (2, 3)\n",
    "\n",
    "# Slicing from index 0 to end\n",
    "print(my_tuple[0:])  # Output: (1, 2, 3, 4, 5)\n",
    "\n",
    "# Slicing with a step of 2\n",
    "print(my_tuple[::2])  # Output: (1, 3, 5)\n",
    "\n",
    "# Reverse a tuple using slicing\n",
    "print(my_tuple[::-1])  # Output: (5, 4, 3, 2, 1)\n",
    "\n"
   ]
  },
  {
   "cell_type": "markdown",
   "metadata": {},
   "source": [
    "#### 3. Immutability in Tuples\n",
    "Tuples are immutable — you cannot modify the elements after creation."
   ]
  },
  {
   "cell_type": "code",
   "execution_count": null,
   "metadata": {},
   "outputs": [],
   "source": [
    "# Example: Attempting to Modify a Tuple\n",
    "\n",
    "my_tuple = (1, 2, 3)\n",
    "\n",
    "# Trying to modify element at index 0\n",
    "my_tuple[0] = 5  # TypeError: 'tuple' object does not support item assignment\n",
    "\n"
   ]
  },
  {
   "cell_type": "markdown",
   "metadata": {},
   "source": [
    "✅ If you need to modify a tuple, you can convert it to a list first.\n",
    "\n"
   ]
  },
  {
   "cell_type": "code",
   "execution_count": null,
   "metadata": {},
   "outputs": [],
   "source": [
    "# Example: Converting a Tuple to a List\n",
    "\n",
    "my_tuple = (1, 2, 3)\n",
    "my_list = list(my_tuple)\n",
    "my_list[0] = 5\n",
    "my_tuple = tuple(my_list)\n",
    "print(my_tuple)  # Output: (5, 2, 3)\n",
    "\n"
   ]
  },
  {
   "cell_type": "markdown",
   "metadata": {},
   "source": [
    "#### 4. Nesting Tuples\n",
    "You can have tuples inside tuples (nested tuples).\n",
    "\n"
   ]
  },
  {
   "cell_type": "code",
   "execution_count": null,
   "metadata": {},
   "outputs": [],
   "source": [
    "# Example: Nesting Tuples\n",
    "\n",
    "nested_tuple = (1, (10, 20), 3)\n",
    "\n",
    "# Accessing nested elements\n",
    "print(nested_tuple[1])    # Output: (10, 20)\n",
    "print(nested_tuple[1][0]) # Output: 10\n"
   ]
  },
  {
   "cell_type": "markdown",
   "metadata": {},
   "source": [
    "#### 5. Tuple Packing and Unpacking\n",
    "   You can assign multiple values from a tuple into separate variables.\n",
    "\n",
    "\n"
   ]
  },
  {
   "cell_type": "code",
   "execution_count": null,
   "metadata": {},
   "outputs": [],
   "source": [
    "# Example: Unpacking Tuples\n",
    "\n",
    "my_tuple = (1, 2, 3)\n",
    "x, y, z = my_tuple\n",
    "print(x)  # Output: 1\n",
    "print(y)  # Output: 2\n",
    "print(z)  # Output: 3\n",
    "\n",
    "\n",
    "# Example: Unpacking with Mismatch\n",
    "''' If the number of elements doesn’t match the number of variables, it raises a ValueError ! '''\n",
    "x, y = my_tuple  # ValueError: too many values to unpack\n",
    "\n",
    "\n"
   ]
  },
  {
   "cell_type": "markdown",
   "metadata": {},
   "source": [
    "#### 6. Tuple Methods\n",
    "\n",
    "Tuples have only two built-in methods:\n",
    "\n",
    "| Method | Description | Example |\n",
    "|--------|-------------|---------|\n",
    "| `count()` | Returns the number of times a value appears in the tuple | `my_tuple.count(1)` |\n",
    "| `index()` | Returns the index of the first occurrence of a value | `my_tuple.index(2)` |\n"
   ]
  },
  {
   "cell_type": "code",
   "execution_count": null,
   "metadata": {},
   "outputs": [],
   "source": [
    "# Example: Counting and Finding Index\n",
    "\n",
    "my_tuple = (1, 2, 3, 1, 2, 1)\n",
    "\n",
    "# Counting occurrences of 1\n",
    "print(my_tuple.count(1))  # Output: 3\n",
    "\n",
    "# Finding the index of 2\n",
    "print(my_tuple.index(2))  # Output: 1\n"
   ]
  },
  {
   "cell_type": "markdown",
   "metadata": {},
   "source": [
    "#### 7. Type Conversion (Casting)\n",
    "You can convert between lists and tuples using tuple() and list() functions.\n",
    "\n",
    "\n",
    "\n",
    "\n"
   ]
  },
  {
   "cell_type": "code",
   "execution_count": 9,
   "metadata": {},
   "outputs": [
    {
     "name": "stdout",
     "output_type": "stream",
     "text": [
      "(1, 2, 3)\n",
      "[1, 2, 3]\n"
     ]
    }
   ],
   "source": [
    "# Example: Converting List to Tuple\n",
    "\n",
    "my_list = [1, 2, 3]\n",
    "my_tuple = tuple(my_list)\n",
    "print(my_tuple)  # Output: (1, 2, 3)\n",
    "\n",
    "\n",
    "# Example: Converting Tuple to List\n",
    "my_tuple = (1, 2, 3)\n",
    "my_list = list(my_tuple)\n",
    "print(my_list)  # Output: [1, 2, 3]\n",
    "\n",
    "\n"
   ]
  },
  {
   "cell_type": "markdown",
   "metadata": {},
   "source": [
    "\n",
    "#### 🧪 Exercises\n",
    "\n",
    "1. Create a tuple containing the names of 5 cities.\n",
    "\n",
    "2. Try to modify the second city and observe the result.\n",
    "3. Create a tuple of numbers. Find the sum of the first and last elements using indexing.\n",
    "4. Write a function that takes a tuple as input and returns a new tuple containing only even numbers.\n",
    "    ```python\n",
    "    # Solution\n",
    "    def extract_even_numbers(input_tuple):\n",
    "        # Use a generator expression to filter even numbers\n",
    "        even_numbers = tuple(num for num in input_tuple if num % 2 == 0)\n",
    "        return even_numbers\n",
    "\n",
    "    # Example usage\n",
    "    input_tuple = (1, 2, 3, 4, 5, 6, 7, 8)\n",
    "    result = extract_even_numbers(input_tuple)\n",
    "    print(result)\n",
    "    ```\n",
    "5. Convert the following tuple into a list, modify the second element, and convert it back to a tuple: (10, 20, 30, 40).\n",
    "6. Use a tuple method to count the number of times the value 2 appears in the following tuple, and display the result (integer) on the screen: my_tuple = (1, 2, 3, 2, 3, 1, 3, 2, 3, 3, 3, 1, 3, 2, 2, 1, 3, 2)\n",
    "7. Extract the elements of the following tuple - ``` my_tuple = (1, 2, 3, 4) ``` into four variables: `a`, `b`, `c`, `d`\n",
    "    \n",
    "----"
   ]
  },
  {
   "cell_type": "markdown",
   "metadata": {},
   "source": [
    "#### 🚀 Why Use Tuples Instead of Lists?\n",
    "\n",
    "| **Feature** | **Reason** | **Example** |\n",
    "|------------|------------|------------|\n",
    "| **Immutability** | Tuples cannot be changed, making them useful for storing fixed data structures. | ```#Example: RGB values for colors are fixed and should not be modified color = (255, 0, 0)  # Red color color[0] = 128  # TypeError: 'tuple' object does not support item assignment ```  |\n",
    "| **Performance** | Tuples take up less memory and are faster to process than lists. | ```#Example import sys list_data = [1, 2, 3, 4, 5] tuple_data = (1, 2, 3, 4, 5) # Memory occupied by the list and tuple objects themselves print(\"List size:\", sys.getsizeof(list_data))   # Size of the list object print(\"Tuple size:\", sys.getsizeof(tuple_data))  # Size of the tuple object # Size of individual elements list_element_size = sum(sys.getsizeof(item) for item in list_data) tuple_element_size = sum(sys.getsizeof(item) for item in tuple_data) print(\"Total size of list elements:\", list_element_size) print(\"Total size of tuple elements:\", tuple_element_size) # Example Output: # List size: 104 bytes vs Tuple size: 80 bytes # Total size of list elements: 140 bytes (5 elements * 28 bytes each) # Total size of tuple elements: 140 bytes (5 elements * 28 bytes each) # ✅ Why the difference? # - The list object is larger because it reserves extra memory for resizing. # - The tuple object is smaller because it's fixed-size and only stores references. ```   ➡️ **Read More:** [Memory Management in Lists and Tuples using Python](https://www.geeksforgeeks.org/memory-management-in-lists-and-tuples-using-python/)  |\n",
    "| **Data Integrity** | Since tuples are immutable, they protect data from accidental modification. | ```python months = ('Jan', 'Feb', 'Mar') months[0] = 'December'  # TypeError: 'tuple' object does not support item assignment``` |\n",
    "| **Use Case** | Tuples are useful for fixed data (protection from modification), while lists are better for dynamic data (frequent updates). | ```python # Fixed data example (use tuple) coordinates = (12.34, 56.78)  # Geographic coordinates can't change # Dynamic data example (use list) user_scores = [100, 200, 300] user_scores.append(400)  # Scores are updated frequently ``` |\n",
    "\n"
   ]
  },
  {
   "cell_type": "code",
   "execution_count": 17,
   "metadata": {},
   "outputs": [
    {
     "name": "stdout",
     "output_type": "stream",
     "text": [
      "Size of tuple container object: 80\n",
      "Size of list container object: 104\n",
      "Adding up size of each element in tuple:- 140\n",
      "Adding up size of each element in list:- 140\n",
      "28\n",
      "28\n",
      "28\n",
      "28\n",
      "28\n"
     ]
    }
   ],
   "source": [
    "import sys\n",
    "list_data = [1, 2, 3, 4, 5] \n",
    "tuple_data = (1, 2, 3, 4, 5) \n",
    "# print(sys.getsizeof(list_data))\n",
    "\n",
    "print(\"Size of tuple container object:\",sys.getsizeof(tuple_data))\n",
    "print(\"Size of list container object:\",sys.getsizeof(list_data))\n",
    "\n",
    "\n",
    "print(\"Adding up size of each element in tuple:-\",sum(sys.getsizeof(item) for item in tuple_data))\n",
    "print(\"Adding up size of each element in list:-\",sum(sys.getsizeof(item) for item in list_data))\n",
    "\n",
    "for item in tuple_data:\n",
    "    print(sys.getsizeof(item))"
   ]
  },
  {
   "cell_type": "markdown",
   "metadata": {},
   "source": [
    "#### 🚀 Summary and Key Takeaways\n",
    "\n",
    "✅ Tuples are ordered collections, similar to lists but immutable.\n",
    "\n",
    "✅ Tuples are created using parentheses () or commas.\n",
    "\n",
    "✅ You can access tuple elements using indexing and slicing.\n",
    "\n",
    "✅ Tuples can be nested and unpacked into individual variables. Eg: Use unpacking when returning multiple values from a function\n",
    "\n",
    "✅ Tuples support only two methods: count and index.\n",
    "\n",
    "✅ You can cast between tuples and lists using tuple() and list().\n",
    "\n",
    "✅ Use tuples when:\n",
    "\n",
    "+   Data should not change (e.g., coordinates, RGB values).\n",
    "+  Data integrity is important.\n",
    "+   Memory efficiency and speed matter.\n",
    "\n",
    "✅ Use lists when:\n",
    "\n",
    "+ Data may change over time.\n",
    "+ You need to add/remove elements frequently"
   ]
  },
  {
   "cell_type": "code",
   "execution_count": null,
   "metadata": {},
   "outputs": [],
   "source": []
  }
 ],
 "metadata": {
  "kernelspec": {
   "display_name": "base",
   "language": "python",
   "name": "python3"
  },
  "language_info": {
   "codemirror_mode": {
    "name": "ipython",
    "version": 3
   },
   "file_extension": ".py",
   "mimetype": "text/x-python",
   "name": "python",
   "nbconvert_exporter": "python",
   "pygments_lexer": "ipython3",
   "version": "3.11.7"
  }
 },
 "nbformat": 4,
 "nbformat_minor": 2
}
