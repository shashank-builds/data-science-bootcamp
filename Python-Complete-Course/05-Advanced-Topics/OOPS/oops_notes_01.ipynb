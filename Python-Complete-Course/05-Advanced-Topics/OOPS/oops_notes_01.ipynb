{
 "cells": [
  {
   "cell_type": "markdown",
   "id": "6e9248fc",
   "metadata": {},
   "source": [
    "## -----------------  **Introduction to OOP** --------------------------\n",
    "\n",
    "- **Object-Oriented Programming (OOP)** is a programming paradigm that organizes code in a way that mirrors real-world objects and their interactions. \n",
    "\n",
    "- Instead of just writing functions, OOP allows us to define digital objects with **attributes (characteristics)** and **methods (functionalities)**.\n",
    "\n"
   ]
  },
  {
   "cell_type": "markdown",
   "id": "0fce0ec6",
   "metadata": {},
   "source": []
  },
  {
   "cell_type": "markdown",
   "id": "d1960d72",
   "metadata": {},
   "source": [
    "#### **Key OOP Concepts**\n",
    "\n",
    "**Classes** – A blueprint for creating objects. It defines attributes (data) and methods (functions).\n",
    "\n",
    "**Objects** – Instances of a class with unique values for the attributes.\n",
    "\n",
    "**Attributes** – Characteristics of an object, like color, size, or age.\n",
    "\n",
    "**Methods** – Functions that define what an object can do, like move, speak, or calculate.\n",
    "\n",
    "For example, if we create a class for a bird:\n",
    "\n",
    "- **Attributes**: Color, habitat, age, size\n",
    "\n",
    "- **Methods**: Fly, eat, chirp\n",
    "\n",
    "If we create a specific bird from this class, such as \"Twitty\" (a sparrow) or \"Pepe\" (a parrot), these are **objects** or **instances** of the class."
   ]
  },
  {
   "cell_type": "markdown",
   "id": "843847e9",
   "metadata": {},
   "source": []
  },
  {
   "cell_type": "markdown",
   "id": "b87c82c7",
   "metadata": {},
   "source": [
    "#### **Why OOP?**\n",
    "\n",
    "Before OOP, functions were the primary way to write code. Functions allow us to reuse code but don't maintain a persistent state unless we store data in variables.\n",
    "\n",
    "Consider a zombie game:\n",
    "\n",
    "- Each zombie has attributes like position, speed, health, and damage.\n",
    "\n",
    "- Without OOP, we would need separate variables for every zombie.\n",
    "\n",
    "- With OOP, we can create a `Zombie` class and easily manage multiple zombies as objects.\n",
    "\n"
   ]
  },
  {
   "cell_type": "markdown",
   "id": "06e5952b",
   "metadata": {},
   "source": []
  },
  {
   "cell_type": "markdown",
   "id": "2de50e77",
   "metadata": {},
   "source": [
    "#### **The Six Pillars of OOP**\n",
    "\n",
    "1. **Encapsulation** – Hiding the internal state of an object and only exposing necessary details.\n",
    "\n",
    "2. **Abstraction** – Simplifying complex systems by exposing only relevant parts.\n",
    "\n",
    "3. **Inheritance** – Allowing new classes to reuse attributes and methods from an existing class.\n",
    "\n",
    "4. **Polymorphism** – Allowing different objects to be treated as instances of the same class through a shared interface.\n",
    "\n",
    "5. **Cohesion** – Keeping related functionalities together within a class.\n",
    "\n",
    "6. **Coupling** – Reducing dependencies between different classes to improve modularity."
   ]
  },
  {
   "cell_type": "markdown",
   "id": "dca89c7d",
   "metadata": {},
   "source": []
  },
  {
   "cell_type": "markdown",
   "id": "40611d54",
   "metadata": {},
   "source": [
    "#### **Comparison: Functional Programming vs Object-Oriented Programming**\n",
    "\n",
    "| **Functional Programming**                         | **Object-Oriented Programming (OOP)**                      |\n",
    "|----------------------------------------------------|------------------------------------------------------------|\n",
    "| Uses functions to process data                     | Uses objects to store and manipulate data                  |\n",
    "| No persistent state between function calls         | Objects maintain state across multiple method calls        |\n",
    "| Code is modular but can become chaotic with too many variables | Code is structured and easier to manage            |\n"
   ]
  }
 ],
 "metadata": {
  "language_info": {
   "name": "python"
  }
 },
 "nbformat": 4,
 "nbformat_minor": 5
}
