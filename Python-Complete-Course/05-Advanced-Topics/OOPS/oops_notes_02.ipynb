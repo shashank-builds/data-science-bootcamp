{
 "cells": [
  {
   "cell_type": "markdown",
   "id": "bfc9f7df",
   "metadata": {},
   "source": [
    "## **Creating Your First Class and Object (Bird Example) **\n",
    "\n",
    "**📌 Recap: What We Know So Far**\n",
    "\n",
    "- We understand the concept of Object-Oriented Programming (OOP).\n",
    "\n",
    "- We’ve discussed classes, objects, attributes, and methods.\n",
    "\n",
    "- Now, we move from theory to implementation in Python."
   ]
  },
  {
   "cell_type": "markdown",
   "id": "d6acb4de",
   "metadata": {},
   "source": []
  },
  {
   "cell_type": "markdown",
   "id": "4d4e2f97",
   "metadata": {},
   "source": [
    "#### **How to Define a Class in Python**\n",
    "\n",
    "Syntax\n",
    "\n",
    "```python\n",
    "class ClassName:\n",
    "    pass\n",
    "```\n",
    "+ `class` is a Python keyword used to define a class.\n",
    "\n",
    "+ Class names should begin with an **uppercase letter** by convention.\n",
    "\n",
    "+ If the class name has multiple words (e.g., *Element Bird*), use **CamelCase**: `ElementBird`.\n",
    "\n",
    "+ `pass` is used as a placeholder to avoid syntax errors when the class is empty."
   ]
  },
  {
   "cell_type": "code",
   "execution_count": 3,
   "id": "30146086",
   "metadata": {},
   "outputs": [
    {
     "data": {
      "text/plain": [
       "'\\nThis is the simplest form of a class — an empty class.\\n\\nThough it has no functionality, it’s now valid Python code.\\n'"
      ]
     },
     "execution_count": 3,
     "metadata": {},
     "output_type": "execute_result"
    }
   ],
   "source": [
    "# Example: Creating a Basic Bird Class\n",
    "\n",
    "class Bird:\n",
    "    pass\n",
    "\n",
    "'''\n",
    "This is the simplest form of a class — an empty class.\n",
    "\n",
    "Though it has no functionality, it’s now valid Python code.\n",
    "'''"
   ]
  },
  {
   "cell_type": "markdown",
   "id": "abc0bb01",
   "metadata": {},
   "source": [
    "#### **Creating Objects from a Class (Instantiating)**\n",
    "\n",
    "🔸 Syntax\n",
    "```python\n",
    "object_name = ClassName()\n",
    "```\n",
    "\n",
    "+ This creates an **instance (object)** of the class.\n",
    "\n",
    "+ Parentheses `()` are used for initialization, even if the class takes no arguments yet"
   ]
  },
  {
   "cell_type": "code",
   "execution_count": 4,
   "id": "980ee49c",
   "metadata": {},
   "outputs": [
    {
     "data": {
      "text/plain": [
       "'\\nmy_bird is an object (instance) of the Bird class.\\n\\nThis object exists in memory and belongs to a custom data type: Bird.\\n'"
      ]
     },
     "execution_count": 4,
     "metadata": {},
     "output_type": "execute_result"
    }
   ],
   "source": [
    "# Example\n",
    "\n",
    "my_bird = Bird()\n",
    "\n",
    "'''\n",
    "my_bird is an object (instance) of the Bird class.\n",
    "\n",
    "This object exists in memory and belongs to a custom data type: Bird.\n",
    "'''"
   ]
  },
  {
   "cell_type": "markdown",
   "id": "aa3edcba",
   "metadata": {},
   "source": [
    "#### **Concept Check: Built-in vs Custom Objects**\n",
    "\n",
    "+ So far, we used variables to store built-in data types: `int`, `str`, `list`, etc.\n",
    "\n",
    "+ Now, we're creating a **custom object (Bird)** that is a **new data type** we defined ourselves.\n",
    "\n",
    "+ When you run -- print(type(my_bird))\n",
    "\n",
    "\n",
    "+ You’ll get something like:\n",
    "\n",
    "```python\n",
    "<class '__main__.Bird'>\n",
    "```\n",
    "\n",
    "This means:\n",
    "\n",
    "+ `my_bird` is an instance of `Bird`.\n",
    "\n",
    "+ It was defined in the `__main__` module (i.e., your main Python script)."
   ]
  },
  {
   "cell_type": "code",
   "execution_count": null,
   "id": "c0c9f7ef",
   "metadata": {},
   "outputs": [
    {
     "name": "stdout",
     "output_type": "stream",
     "text": [
      "<class '__main__.Bird'>\n"
     ]
    }
   ],
   "source": [
    "print(type(my_bird))\n",
    "\n",
    "'''\n",
    "This shows the object’s memory address, indicating it exists in the program.\n",
    "'''\n"
   ]
  },
  {
   "cell_type": "markdown",
   "id": "42368944",
   "metadata": {},
   "source": [
    "#### **Creating Multiple Objects**\n",
    "\n",
    "You can create as many birds (objects) as you like:\n",
    "\n",
    "```python\n",
    "another_bird = Bird()\n",
    "print(another_bird)\n",
    "```\n",
    "\n",
    "+ These are two **distinct objects**, even though they are from the same class.\n",
    "\n",
    "\n"
   ]
  },
  {
   "cell_type": "code",
   "execution_count": 7,
   "id": "6eb90721",
   "metadata": {},
   "outputs": [
    {
     "data": {
      "text/plain": [
       "'\\nEach is a unique object, even though they are all instances of Bird.\\n'"
      ]
     },
     "execution_count": 7,
     "metadata": {},
     "output_type": "execute_result"
    }
   ],
   "source": [
    "# You can now create:\n",
    "\n",
    "\n",
    "tweety = Bird()\n",
    "donald_duck = Bird()\n",
    "penguin = Bird()\n",
    "\n",
    "'''\n",
    "Each is a unique object, even though they are all instances of Bird.\n",
    "'''"
   ]
  },
  {
   "cell_type": "markdown",
   "id": "48a5844b",
   "metadata": {},
   "source": []
  },
  {
   "cell_type": "markdown",
   "id": "793ce3a5",
   "metadata": {},
   "source": [
    "#### 📌 **Summary**\n",
    "\n",
    "| **Term**      | **Description**                                         |\n",
    "|---------------|---------------------------------------------------------|\n",
    "| `class`       | Blueprint for creating objects                          |\n",
    "| `Bird`        | Example of a class (custom data type)                   |\n",
    "| `my_bird`     | An instance/object of the `Bird` class                  |\n",
    "| `pass`        | Placeholder for empty class body                        |\n",
    "| `type()`      | Built-in function to check the type of a variable/object|\n",
    "| `__main__`    | Indicates the class was created in the main script      |\n"
   ]
  },
  {
   "cell_type": "markdown",
   "id": "6b719465",
   "metadata": {},
   "source": []
  },
  {
   "cell_type": "markdown",
   "id": "e252e2d4",
   "metadata": {},
   "source": [
    "📅 What’s Next?\n",
    "In the upcoming lecture, we’ll:\n",
    "\n",
    "+ Add attributes to the `Bird` class (like color, age, etc.)\n",
    "\n",
    "+ Give each bird more life-like characteristics\n",
    "\n",
    "+ Learn how to define a constructor using `__init__()`"
   ]
  },
  {
   "cell_type": "markdown",
   "id": "08c8ca8d",
   "metadata": {},
   "source": []
  },
  {
   "cell_type": "markdown",
   "id": "5fb77008",
   "metadata": {},
   "source": [
    "#### **Exercise**"
   ]
  },
  {
   "cell_type": "code",
   "execution_count": null,
   "id": "9914024e",
   "metadata": {},
   "outputs": [],
   "source": [
    "'''\n",
    "Classes Practice #1\n",
    "Create a class called Character and then create an object from it, for example: harry_potter\n",
    "'''\n",
    "\n",
    "# Defining the class\n",
    "class Character:\n",
    "    pass\n",
    "\n",
    "# Creating an object from the class\n",
    "harry_potter = Character()\n",
    "\n",
    "# Optional: Print the object and its type to confirm\n",
    "print(harry_potter)\n",
    "print(type(harry_potter))\n",
    "\n",
    "# You've successfully created your first custom object.\n",
    "\n"
   ]
  },
  {
   "cell_type": "code",
   "execution_count": null,
   "id": "78c93740",
   "metadata": {},
   "outputs": [],
   "source": [
    "'''\n",
    "Classes Practice #2\n",
    "Create a class called Dinosaur, and three instances of it: velociraptor, tyrannosaurus_rex, and brachiosaurus.\n",
    "'''\n",
    "\n",
    "# Define the class\n",
    "class Dinosaur:\n",
    "    pass\n",
    "\n",
    "# Create three instances of the class\n",
    "velociraptor = Dinosaur()\n",
    "tyrannosaurus_rex = Dinosaur()\n",
    "brachiosaurus = Dinosaur()\n",
    "\n",
    "# Optional: Print them to verify\n",
    "print(velociraptor)\n",
    "print(tyrannosaurus_rex)\n",
    "print(brachiosaurus)\n",
    "\n",
    "\n",
    "# All three variables (velociraptor, tyrannosaurus_rex, brachiosaurus) are different instances of the same class Dinosaur."
   ]
  },
  {
   "cell_type": "code",
   "execution_count": null,
   "id": "99ec05e8",
   "metadata": {},
   "outputs": [],
   "source": [
    "'''\n",
    "Classes Practice #3\n",
    "Create a class called StreamingPlatform and create the following objects from it: netflix, hbo_max, amazon_prime_video\n",
    "'''\n",
    "\n",
    "# Define the class\n",
    "class StreamingPlatform:\n",
    "    pass\n",
    "\n",
    "# Create instances of the class\n",
    "netflix = StreamingPlatform()\n",
    "hbo_max = StreamingPlatform()\n",
    "amazon_prime_video = StreamingPlatform()\n",
    "\n",
    "# Optional: Print them to verify\n",
    "print(netflix)\n",
    "print(hbo_max)\n",
    "print(amazon_prime_video)\n",
    "\n",
    "# Each of the objects (netflix, hbo_max, amazon_prime_video) is a unique instance of the StreamingPlatform class."
   ]
  }
 ],
 "metadata": {
  "kernelspec": {
   "display_name": "Python 3",
   "language": "python",
   "name": "python3"
  },
  "language_info": {
   "codemirror_mode": {
    "name": "ipython",
    "version": 3
   },
   "file_extension": ".py",
   "mimetype": "text/x-python",
   "name": "python",
   "nbconvert_exporter": "python",
   "pygments_lexer": "ipython3",
   "version": "3.11.7"
  }
 },
 "nbformat": 4,
 "nbformat_minor": 5
}
