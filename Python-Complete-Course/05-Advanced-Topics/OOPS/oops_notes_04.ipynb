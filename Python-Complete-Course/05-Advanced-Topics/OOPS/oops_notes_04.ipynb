{
 "cells": [
  {
   "cell_type": "markdown",
   "id": "b0bc5269",
   "metadata": {},
   "source": [
    "#### **Creating Methods in Classes (OOP)**\n",
    "\n",
    "You already know:\n",
    "\n",
    "+ What Object-Oriented Programming is.\n",
    "\n",
    "+ How to create a class.\n",
    "\n",
    "+ How to assign **class attributes** and **instance attributes**.\n",
    "\n",
    "Now, it's time to learn how to create methods for a class."
   ]
  },
  {
   "cell_type": "markdown",
   "id": "31ae6427",
   "metadata": {},
   "source": [
    "#### ** What is a Method?**\n",
    "\n",
    "A method is a function that is defined inside a class and gives functionality or behavior to its objects.\n",
    "\n",
    "**📌 Reminder:**\n",
    "\n",
    "The `__init__()` method we’ve already been using is technically a **special method** (also called a *dunder method*) built into all classes — but it's still a method!"
   ]
  },
  {
   "cell_type": "markdown",
   "id": "bf909c7c",
   "metadata": {},
   "source": []
  },
  {
   "cell_type": "markdown",
   "id": "4cea9d93",
   "metadata": {},
   "source": [
    "#### **How to Create a Method**\n",
    "\n",
    "Syntax is very similar to defining a regular function, with a few differences:\n",
    "\n",
    "```python\n",
    "class Bird:\n",
    "    def chirp(self):  # method\n",
    "        print(\"Peep\")\n",
    "```\n",
    "\n",
    "\n",
    "**Key Points:**\n",
    "\n",
    "+ We define a method using the `def` keyword inside the class.\n",
    "\n",
    "+ The first parameter must always be `self`, which refers to the instance calling the method.\n",
    "\n",
    "+ Methods can take additional parameters beyond `self` if needed.\n",
    "\n"
   ]
  },
  {
   "cell_type": "code",
   "execution_count": 1,
   "id": "6083f319",
   "metadata": {},
   "outputs": [],
   "source": [
    "# Example: Bird Class with Methods\n",
    "\n",
    "class Bird:\n",
    "    def __init__(self, color, species):\n",
    "        self.color = color\n",
    "        self.species = species\n",
    "\n",
    "    def chirp(self):\n",
    "        print(\"Tweet\")\n",
    "\n",
    "    def fly(self, feet):\n",
    "        print(f\"The bird flies {feet} feet high.\")\n",
    "\n"
   ]
  },
  {
   "cell_type": "code",
   "execution_count": 2,
   "id": "134c32e3",
   "metadata": {},
   "outputs": [
    {
     "name": "stdout",
     "output_type": "stream",
     "text": [
      "Tweet\n",
      "The bird flies 164 feet high.\n"
     ]
    }
   ],
   "source": [
    "# Creating an Object and Using Methods\n",
    "\n",
    "tweety = Bird(\"yellow\", \"canary\")  # Creating an instance of Bird\n",
    "\n",
    "tweety.chirp()      # Output: Tweet\n",
    "tweety.fly(164)     # Output: The bird flies 164 feet high.\n"
   ]
  },
  {
   "cell_type": "markdown",
   "id": "15fa3f30",
   "metadata": {},
   "source": [
    "#### **Accessing Attributes Inside Methods**\n",
    "\n",
    "We can also access instance attributes inside methods using `self`."
   ]
  },
  {
   "cell_type": "code",
   "execution_count": null,
   "id": "248e7ffe",
   "metadata": {},
   "outputs": [],
   "source": [
    "def chirp(self):\n",
    "    print(f\"Tweet, I am {self.color}\")\n"
   ]
  },
  {
   "cell_type": "markdown",
   "id": "3932e4f3",
   "metadata": {},
   "source": [
    "#### Why Use `self.color` and Not Just `color?`\n",
    "\n",
    "Because:\n",
    "\n",
    "+ `color` alone refers to a local variable that doesn't exist in the method.\n",
    "\n",
    "+ `self.color` refers to the **object's attribute**, passed from the instance."
   ]
  },
  {
   "cell_type": "code",
   "execution_count": null,
   "id": "31b51b4b",
   "metadata": {},
   "outputs": [],
   "source": [
    "# 🚫 Common Mistake\n",
    "\n",
    "\n",
    "# Incorrect\n",
    "print(f\"I am {color}\")   # Raises NameError\n",
    "\n",
    "# Correct\n",
    "print(f\"I am {self.color}\")\n",
    "\n",
    "''' You always need to use self.attribute_name to refer to instance attributes inside methods. '''"
   ]
  },
  {
   "cell_type": "markdown",
   "id": "fe926729",
   "metadata": {},
   "source": [
    "#### 📌 **Real-World Analogy**\n",
    "\n",
    "Think of a class as a blueprint for a robot.\n",
    "\n",
    "+ Attributes define what the robot is (color, type, etc.)\n",
    "\n",
    "+ Methods define what the robot can do (walk, talk, fly).\n",
    "\n",
    "\n",
    "🧠 **Practice Reminder**\n",
    "\n",
    "Try adding more methods to your own classes.\n",
    "Example: A `Car` class with methods like `start()`, `drive(speed)`, `brake()`.\n",
    "\n"
   ]
  },
  {
   "cell_type": "markdown",
   "id": "ac0d4055",
   "metadata": {},
   "source": []
  },
  {
   "cell_type": "markdown",
   "id": "00bd2a7a",
   "metadata": {},
   "source": [
    "#### 💡 **Summary**\n",
    "\n",
    "| **Concept**         | **Explanation**                                                |\n",
    "|---------------------|----------------------------------------------------------------|\n",
    "| `Method`            | A function defined inside a class                              |\n",
    "| `self`              | Refers to the instance calling the method                      |\n",
    "| Access attributes   | Use `self.attribute`                                           |\n",
    "| Parameters          | Methods can take more arguments after `self`                   |\n",
    "| Purpose of methods  | Give behavior to your objects (like actions)                   |\n",
    "\n",
    "### 🧪 Example Code:\n",
    "\n",
    "```python\n",
    "class Calculator:\n",
    "    def __init__(self, number):\n",
    "        self.number = number  # instance attribute\n",
    "\n",
    "    def square(self):         # method\n",
    "        return self.number ** 2\n",
    "\n",
    "    def add(self, value):     # method with extra parameter\n",
    "        return self.number + value\n",
    "\n",
    "calc = Calculator(5)\n",
    "print(calc.square())  # Output: 25\n",
    "print(calc.add(3))    # Output: 8\n"
   ]
  },
  {
   "cell_type": "markdown",
   "id": "c6ccea62",
   "metadata": {},
   "source": [
    "#### **Exercise**"
   ]
  },
  {
   "cell_type": "code",
   "execution_count": null,
   "id": "5ca48567",
   "metadata": {},
   "outputs": [
    {
     "data": {
      "text/plain": [
       "'\\nMethods Practice #1\\nCreate a\\xa0Dog\\xa0class. Said dog must be able to\\xa0bark.\\n\\nCreate the\\xa0bark()\\xa0method and call it on an instance of\\xa0Dog. Every time he\\xa0barks, \"Woof!\" should be displayed on the screen\\n'"
      ]
     },
     "execution_count": 3,
     "metadata": {},
     "output_type": "execute_result"
    }
   ],
   "source": [
    "'''\n",
    "Methods Practice #1\n",
    "Create a Dog class. Said dog must be able to bark.\n",
    "\n",
    "Create the bark() method and call it on an instance of Dog. Every time he barks, \"Woof!\" should be displayed on the screen\n",
    "'''\n",
    "\n",
    "class Dog:\n",
    "    def __init__(self, name):\n",
    "        self.name = name\n",
    "\n",
    "    def bark(self):\n",
    "        print(\"Woof!\")\n",
    "\n",
    "# Create an instance of the Dog class\n",
    "my_dog = Dog(\"Buddy\")\n",
    "\n",
    "# Call the bark() method on the my_dog object\n",
    "my_dog.bark()\n",
    "\n",
    "'''\n",
    "Explanation:\n",
    "\n",
    "class Dog:: This line defines a class named Dog.\n",
    "def __init__(self, name):: This is the constructor method. It takes self and name as parameters. It initializes the name attribute of the Dog object. While the name attribute isn't directly used in the bark() method in this simple example, it's good practice to include a constructor to set up the initial state of the object.\n",
    "def bark(self):: This defines a method named bark within the Dog class. It takes self as the only parameter (as it doesn't need any external information to perform its action).\n",
    "print(\"Woof!\"): Inside the bark() method, this line prints the string \"Woof!\" to the console whenever the method is called.\n",
    "my_dog = Dog(\"Buddy\"): This line creates an instance (object) of the Dog class named my_dog. We pass the string \"Buddy\" as the argument for the name parameter in the __init__ method.\n",
    "my_dog.bark(): This line calls the bark() method on the my_dog object. When this line is executed, the bark() method's code (the print(\"Woof!\") statement) will be executed, resulting in \"Woof!\" being printed to the screen.\n",
    "\n",
    "'''"
   ]
  },
  {
   "cell_type": "code",
   "execution_count": null,
   "id": "58ee74a5",
   "metadata": {},
   "outputs": [],
   "source": [
    "'''\n",
    "Methods Practice #2\n",
    "Create a class called Wizard, and create a method called cast_spell() (it should print \"Abracadabra!\").\n",
    "\n",
    "Create an instance of Wizard on the merlin object, and have it cast a spell.\n",
    "'''\n",
    "\n",
    "class Wizard:\n",
    "    def __init__(self, name):\n",
    "        self.name = name\n",
    "\n",
    "    def cast_spell(self):\n",
    "        print(\"Abracadabra!\")\n",
    "\n",
    "# Create an instance of the Wizard class called merlin\n",
    "merlin = Wizard(\"Merlin\")\n",
    "\n",
    "# Have merlin cast a spell by calling the cast_spell() method\n",
    "merlin.cast_spell()\n",
    "\n",
    "'''\n",
    "Explanation:\n",
    "\n",
    "class Wizard:: Defines a class named Wizard.\n",
    "def __init__(self, name):: This is the constructor method. It takes self and name as parameters and initializes the name attribute of the Wizard object. Although not directly used in cast_spell(), it's good practice to have a constructor.\n",
    "def cast_spell(self):: This defines a method named cast_spell within the Wizard class. It takes self as the only parameter.\n",
    "print(\"Abracadabra!\"): Inside the cast_spell() method, this line prints the string \"Abracadabra!\" to the console when the method is called.\n",
    "merlin = Wizard(\"Merlin\"): This line creates an instance (object) of the Wizard class named merlin. We pass the string \"Merlin\" as the argument for the name parameter in the __init__ method.\n",
    "merlin.cast_spell(): This line calls the cast_spell() method on the merlin object. When executed, it will print \"Abracadabra!\" to the screen.\n",
    "'''"
   ]
  },
  {
   "cell_type": "code",
   "execution_count": null,
   "id": "b26ea3c2",
   "metadata": {},
   "outputs": [],
   "source": [
    "'''\n",
    "Methods Practice #3\n",
    "Create an instance of the Alarm class, which has a method called snooze(minutes). The method should print the following message to the screen:\n",
    "\n",
    "\"The alarm has been postponed {amount_minutes} minutes\"\n",
    "'''\n",
    "\n",
    "class Alarm:\n",
    "    def snooze(self, minutes):\n",
    "        print(f\"The alarm has been postponed {minutes} minutes\")\n",
    "\n",
    "# Create an instance of the Alarm class\n",
    "my_alarm = Alarm()\n",
    "\n",
    "# Call the snooze() method on the my_alarm object, postponing for 10 minutes\n",
    "my_alarm.snooze(10)\n",
    "\n",
    "# You can call it again with a different number of minutes\n",
    "my_alarm.snooze(5)\n",
    "\n",
    "'''\n",
    "Explanation:\n",
    "\n",
    "class Alarm:: Defines a class named Alarm.\n",
    "def snooze(self, minutes):: This defines a method named snooze within the Alarm class. It takes two parameters:\n",
    "self: A reference to the instance of the Alarm object.\n",
    "minutes: An integer representing the number of minutes to postpone the alarm.\n",
    "print(f\"The alarm has been postponed {minutes} minutes\"): Inside the snooze() method, this line uses an f-string to create and print the specified message. The value of the minutes parameter passed when calling the method is inserted into the string.\n",
    "my_alarm = Alarm(): This line creates an instance (object) of the Alarm class named my_alarm. Since the Alarm class doesn't have an __init__ method defined, a default constructor is used, and the my_alarm object is created without any initial instance attributes.\n",
    "my_alarm.snooze(10): This line calls the snooze() method on the my_alarm object and passes the integer 10 as the argument for the minutes parameter. This will print: \"The alarm has been postponed 10 minutes\".\n",
    "my_alarm.snooze(5): This line calls the snooze() method again on the same my_alarm object, this time passing 5 as the minutes argument. This will print: \"The alarm has been postponed 5 minutes\".\n",
    "\n",
    "'''"
   ]
  }
 ],
 "metadata": {
  "kernelspec": {
   "display_name": "Python 3",
   "language": "python",
   "name": "python3"
  },
  "language_info": {
   "codemirror_mode": {
    "name": "ipython",
    "version": 3
   },
   "file_extension": ".py",
   "mimetype": "text/x-python",
   "name": "python",
   "nbconvert_exporter": "python",
   "pygments_lexer": "ipython3",
   "version": "3.11.7"
  }
 },
 "nbformat": 4,
 "nbformat_minor": 5
}
