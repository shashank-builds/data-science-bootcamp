{
 "cells": [
  {
   "cell_type": "markdown",
   "id": "8c03d38b",
   "metadata": {},
   "source": [
    "## **Object-Oriented Programming: Inheritance - Sharing Attributes and Methods**\n",
    "\n",
    "This explanation introduces the fundamental concept of inheritance in object-oriented programming (OOP). Inheritance allows a new class (child class or subclass) to inherit properties (attributes and methods) from an existing class (parent class or superclass).\n",
    "\n",
    "1. **The Concept of Inheritance:**\n",
    "\n",
    "+ Inheritance is a mechanism that enables code reuse and the creation of hierarchical relationships between classes.\n",
    "+ A child class inherits the characteristics of its parent class, meaning it automatically gains access to the parent's attributes and methods.\n",
    "+ This promotes the \"Don't Repeat Yourself\" (DRY) principle by allowing you to define common functionalities in a parent class and reuse them in multiple related child classes.\n",
    "+ Child classes can also extend or modify the inherited behavior, adding their own unique attributes and methods or overriding existing ones."
   ]
  },
  {
   "cell_type": "markdown",
   "id": "fd21d4dc",
   "metadata": {},
   "source": [
    "2. **Syntax for Inheritance in Python:**\n",
    "\n",
    "+ To make a class inherit from another class, you specify the parent class name within the parentheses of the child class's definition."
   ]
  },
  {
   "cell_type": "code",
   "execution_count": null,
   "id": "c921fb0d",
   "metadata": {},
   "outputs": [],
   "source": [
    "class ParentClass:\n",
    "    # Attributes and methods of the parent class\n",
    "    pass\n",
    "\n",
    "class ChildClass(ParentClass):\n",
    "    # Attributes and methods of the child class\n",
    "    # Inherits from ParentClass\n",
    "    pass"
   ]
  },
  {
   "cell_type": "code",
   "execution_count": null,
   "id": "642c2846",
   "metadata": {},
   "outputs": [],
   "source": [
    "# Example: Animal and Bird Classes\n",
    "\n",
    "class Animal:\n",
    "    def born(self):\n",
    "        print(\"This animal has been born.\")\n",
    "\n",
    "class Bird(Animal):  # Bird inherits from Animal\n",
    "    pass\n",
    "\n",
    "tweety = Bird()\n",
    "tweety.born()  # Output: This animal has been born. (Method inherited from Animal)"
   ]
  },
  {
   "cell_type": "markdown",
   "id": "665d23d3",
   "metadata": {},
   "source": [
    "3. **Verifying Inheritance:**\n",
    "\n",
    "+ `__bases__` attribute: You can use the `__bases__` attribute of a class to see its parent class(es).\n",
    "\n"
   ]
  },
  {
   "cell_type": "code",
   "execution_count": null,
   "id": "b22ec88c",
   "metadata": {},
   "outputs": [],
   "source": [
    "print(Bird.__bases__)  # Output: (<class '__main__.Animal'>,)"
   ]
  },
  {
   "cell_type": "markdown",
   "id": "e5863cef",
   "metadata": {},
   "source": [
    "+ `__subclasses__()` method: You can use the `__subclasses__()` method of a parent class to see a list of its direct child classes."
   ]
  },
  {
   "cell_type": "code",
   "execution_count": 1,
   "id": "15c39153",
   "metadata": {},
   "outputs": [
    {
     "ename": "NameError",
     "evalue": "name 'Animal' is not defined",
     "output_type": "error",
     "traceback": [
      "\u001b[1;31m---------------------------------------------------------------------------\u001b[0m",
      "\u001b[1;31mNameError\u001b[0m                                 Traceback (most recent call last)",
      "Cell \u001b[1;32mIn[1], line 1\u001b[0m\n\u001b[1;32m----> 1\u001b[0m \u001b[38;5;28mprint\u001b[39m(Animal\u001b[38;5;241m.\u001b[39m__subclasses__())\n",
      "\u001b[1;31mNameError\u001b[0m: name 'Animal' is not defined"
     ]
    }
   ],
   "source": [
    "print(Animal.__subclasses__())  # Output: [<class '__main__.Bird'>]"
   ]
  },
  {
   "cell_type": "markdown",
   "id": "a3e48ef3",
   "metadata": {},
   "source": [
    "4. **Benefits of Inheritance:**\n",
    "\n",
    "+ Code Reusability: Common attributes and methods defined in the parent class don't need to be redefined in each child class.\n",
    "+ Maintainability: Changes made to the parent class are automatically reflected in its child classes (unless overridden).\n",
    "+ Extensibility: Child classes can add new attributes and methods specific to their type.\n",
    "+ Organization: Inheritance helps create a clear hierarchy of classes, representing \"is-a\" relationships (e.g., a Bird \"is-a\" Animal).\n",
    "\n",
    "---\n",
    "\n",
    "\n",
    "5. **Inheritance and the Constructor (`__init__`):**\n",
    "\n",
    "+ When a child class inherits from a parent class that has an `__init__` method, the child class also inherits this constructor.\n",
    "+ If the parent's `__init__` method requires parameters (other than `self`), you need to provide those parameters when creating an instance of the child class."
   ]
  },
  {
   "cell_type": "code",
   "execution_count": null,
   "id": "d076ed24",
   "metadata": {},
   "outputs": [],
   "source": [
    "# Example: Animal with __init__ and Bird Inheriting\n",
    "\n",
    "class Animal:\n",
    "    def __init__(self, age, color):\n",
    "        self.age = age\n",
    "        self.color = color\n",
    "\n",
    "    def born(self):\n",
    "        print(\"This animal has been born.\")\n",
    "\n",
    "class Bird(Animal):\n",
    "    pass\n",
    "\n",
    "tweety = Bird(2, \"yellow\")  # Providing arguments for the Animal's __init__\n",
    "print(tweety.color)       # Output: yellow (Attribute inherited from Animal)\n",
    "\n"
   ]
  },
  {
   "cell_type": "markdown",
   "id": "ba409b9f",
   "metadata": {},
   "source": [
    "+ In this case, the Bird class doesn't have its own __init__ method, so it implicitly uses the __init__ method of the Animal class. Therefore, when creating a Bird object, you must provide the age and color arguments that the Animal constructor expects."
   ]
  },
  {
   "cell_type": "markdown",
   "id": "d23673ee",
   "metadata": {},
   "source": [
    "#### **✅ Summary**\n",
    "\n",
    "+ Inheritance allows code reuse by letting child classes access parent methods and attributes.\n",
    "\n",
    "+ Child classes can:\n",
    "\n",
    "    + Use inherited methods and attributes.\n",
    "\n",
    "    + Override them (explained in future lessons).\n",
    "\n",
    "    + Add new, specific methods/attributes.\n",
    "\n",
    "🧭 Benefits:\n",
    "+ Encourages modular and scalable design.\n",
    "\n",
    "+ Promotes code organization and reusability.\n",
    "\n",
    "+ Aligns with real-world modeling using classes."
   ]
  }
 ],
 "metadata": {
  "kernelspec": {
   "display_name": "Python 3",
   "language": "python",
   "name": "python3"
  },
  "language_info": {
   "codemirror_mode": {
    "name": "ipython",
    "version": 3
   },
   "file_extension": ".py",
   "mimetype": "text/x-python",
   "name": "python",
   "nbconvert_exporter": "python",
   "pygments_lexer": "ipython3",
   "version": "3.11.7"
  }
 },
 "nbformat": 4,
 "nbformat_minor": 5
}
