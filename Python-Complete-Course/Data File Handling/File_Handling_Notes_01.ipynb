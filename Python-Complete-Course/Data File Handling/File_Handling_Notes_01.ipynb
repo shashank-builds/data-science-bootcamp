{
 "cells": [
  {
   "cell_type": "markdown",
   "metadata": {},
   "source": [
    "## **Python File Handling (I/O) - Opening, Reading, and Closing Files**\n",
    "\n",
    "#### **Objective**\n",
    "\n",
    "In this lesson, we will explore how to handle files and folders in Python. This includes performing basic file operations such as opening, reading, writing, and closing text files. These concepts fall under **I/O (Input and Output) operations**.\n",
    "\n",
    "By the end of this lesson, you will be able to:\n",
    "\n",
    "✔ Open a text file in Python\n",
    "\n",
    "✔ Read its contents using different methods\n",
    "\n",
    "✔ Manipulate text data and display it\n",
    "\n",
    "✔ Close files properly after use"
   ]
  },
  {
   "cell_type": "markdown",
   "metadata": {},
   "source": []
  },
  {
   "cell_type": "markdown",
   "metadata": {},
   "source": []
  },
  {
   "cell_type": "markdown",
   "metadata": {},
   "source": [
    "#### **Introduction to File Handling in Python**\n",
    "\n",
    "File handling in Python allows us to interact with files stored on our system. The IO (Input/Output) operations involve:\n",
    "\n",
    "✅ Opening files\n",
    "\n",
    "✅ Reading and writing data\n",
    "\n",
    "✅ Closing files to save progress\n",
    "\n",
    "**Key Methods for File Handling**\n",
    "+ `open()`: Opens a file\n",
    "+ `read()`: Reads the content of a file\n",
    "+ `readline()`: Reads a single line from a file \n",
    "+ `readlines()`: Reads all lines as a list\n",
    "+ `close()`: Closes the file to free up system resources"
   ]
  },
  {
   "cell_type": "markdown",
   "metadata": {},
   "source": []
  },
  {
   "cell_type": "markdown",
   "metadata": {},
   "source": [
    "#### **Opening a File in Python**\n",
    "To open a file, we use the `open()` function and store the result in a variable.\n",
    "\n"
   ]
  },
  {
   "cell_type": "code",
   "execution_count": 2,
   "metadata": {},
   "outputs": [],
   "source": [
    "my_file = open(\"test.txt\")  # Opens the file named 'test.txt'\n",
    "\n",
    "# Since test.txt is in the same directory as the Python script, we don't need to specify a file path.\n",
    "\n"
   ]
  },
  {
   "cell_type": "markdown",
   "metadata": {},
   "source": [
    "**What Happens When We Print the File Variable?**"
   ]
  },
  {
   "cell_type": "code",
   "execution_count": 4,
   "metadata": {},
   "outputs": [
    {
     "name": "stdout",
     "output_type": "stream",
     "text": [
      "<_io.TextIOWrapper name='test.txt' mode='r' encoding='cp1252'>\n"
     ]
    },
    {
     "data": {
      "text/plain": [
       "'\\nThis does not show the file contents. Instead, it displays metadata, such as:\\n✔ File name (test.txt)\\n✔ Mode (r → read mode)\\n✔ Encoding (utf-8)\\n\\n'"
      ]
     },
     "execution_count": 4,
     "metadata": {},
     "output_type": "execute_result"
    }
   ],
   "source": [
    "print(my_file)\n",
    "\n",
    "'''\n",
    "This does not show the file contents. Instead, it displays metadata, such as:\n",
    "✔ File name (test.txt)\n",
    "✔ Mode (r → read mode)\n",
    "✔ Encoding (utf-8)\n",
    "\n",
    "'''"
   ]
  },
  {
   "cell_type": "markdown",
   "metadata": {},
   "source": [
    "#### **Reading a File in Python**\n",
    "\n",
    "Method 1: Using `read()` to Read Entire File"
   ]
  },
  {
   "cell_type": "code",
   "execution_count": null,
   "metadata": {},
   "outputs": [],
   "source": [
    "# ✅ Reads and prints all text in the file\n",
    "\n",
    "my_file = open(\"test.txt\")\n",
    "content = my_file.read()  # Reads the entire content of the file\n",
    "print(content)  \n",
    "my_file.close()  # Always close the file after reading"
   ]
  },
  {
   "cell_type": "markdown",
   "metadata": {},
   "source": [
    "Method 2: Using `readline()` to Read One Line at a Time\n"
   ]
  },
  {
   "cell_type": "code",
   "execution_count": null,
   "metadata": {},
   "outputs": [
    {
     "name": "stdout",
     "output_type": "stream",
     "text": [
      "\n"
     ]
    }
   ],
   "source": [
    "# ✅ Reads and prints only the first line\n",
    "\n",
    "my_file = open(\"test.txt\")\n",
    "first_line = my_file.readline()  # Reads only the first line\n",
    "print(first_line)\n",
    "my_file.close()\n",
    "\n",
    "# How to Read Multiple Lines?\n",
    "# Each time readline() is called, it moves to the next line.\n",
    "\n",
    "my_file = open(\"test.txt\")\n",
    "print(my_file.readline())  # First line\n",
    "print(my_file.readline())  # Second line\n",
    "print(my_file.readline())  # Third line\n",
    "my_file.close()"
   ]
  },
  {
   "cell_type": "markdown",
   "metadata": {},
   "source": [
    "#### **Removing Unwanted Line Breaks (\\n)**\n",
    "Each line in a file ends with a newline character (`\\n`). If you want to remove it:"
   ]
  },
  {
   "cell_type": "code",
   "execution_count": null,
   "metadata": {},
   "outputs": [],
   "source": [
    "# ✅ .strip() removes leading/trailing whitespace or newline characters\n",
    "\n",
    "my_file = open(\"test.txt\")\n",
    "line = my_file.readline().strip()  # Removes extra line breaks\n",
    "print(line)\n",
    "my_file.close()"
   ]
  },
  {
   "cell_type": "markdown",
   "metadata": {},
   "source": [
    "#### **Reading All Lines as a List (readlines())**"
   ]
  },
  {
   "cell_type": "code",
   "execution_count": 7,
   "metadata": {},
   "outputs": [
    {
     "name": "stdout",
     "output_type": "stream",
     "text": [
      "['First line\\n', 'Second line\\n', 'Third line']\n",
      "First line\n",
      "\n",
      "Second line\n",
      "\n"
     ]
    }
   ],
   "source": [
    "# ✅ Each line is stored as an element in a list\n",
    "\n",
    "my_file = open(\"test.txt\")\n",
    "lines = my_file.readlines()  # Returns a list of all lines\n",
    "print(lines)  \n",
    "my_file.close()\n",
    "\n",
    "\n",
    "\n",
    "\n",
    "# Extracting Specific Lines from the List\n",
    "\n",
    "print(lines[0])  # First line\n",
    "print(lines[1])  # Second line\n"
   ]
  },
  {
   "cell_type": "markdown",
   "metadata": {},
   "source": [
    "####  **Iterating Over a File Using Loops**\n",
    "Another way to read a file is by iterating over its lines using a `for` loop."
   ]
  },
  {
   "cell_type": "code",
   "execution_count": 8,
   "metadata": {},
   "outputs": [
    {
     "name": "stdout",
     "output_type": "stream",
     "text": [
      "Here it says: First line\n",
      "Here it says: Second line\n",
      "Here it says: Third line\n"
     ]
    }
   ],
   "source": [
    "# ✅ Reads each line and prints it with custom formatting\n",
    "\n",
    "my_file = open(\"test.txt\")\n",
    "for line in my_file:\n",
    "    print(\"Here it says:\", line.strip())  # Removes extra newline\n",
    "my_file.close()"
   ]
  },
  {
   "cell_type": "markdown",
   "metadata": {},
   "source": [
    "#### **Using String Methods on File Data**\n",
    "Since text files contain strings, we can apply string methods.\n",
    "\n"
   ]
  },
  {
   "cell_type": "code",
   "execution_count": 9,
   "metadata": {},
   "outputs": [
    {
     "name": "stdout",
     "output_type": "stream",
     "text": [
      "FIRST LINE\n",
      "\n",
      "first line\n",
      "\n",
      "1st line\n",
      "\n"
     ]
    }
   ],
   "source": [
    "# ✅ .upper(), .lower(), .replace() modify text as needed\n",
    "\n",
    "\n",
    "my_file = open(\"test.txt\")\n",
    "first_line = my_file.readline()\n",
    "\n",
    "print(first_line.upper())  # Converts to uppercase\n",
    "print(first_line.lower())  # Converts to lowercase\n",
    "print(first_line.replace(\"First\", \"1st\"))  # Replaces text\n",
    "\n",
    "my_file.close()\n"
   ]
  },
  {
   "cell_type": "markdown",
   "metadata": {},
   "source": [
    "#### **Why Closing Files is Important?**\n",
    "After reading a file, it’s important to close it using close().\n",
    "\n",
    "```python\n",
    "my_file.close()\n",
    "```\n",
    "\n",
    "🚨 **Why?**\n",
    "\n",
    "- Prevents memory leaks\n",
    "\n",
    "- Ensures changes are saved\n",
    "\n",
    "- Avoids issues when accessing the file again\n"
   ]
  },
  {
   "cell_type": "markdown",
   "metadata": {},
   "source": []
  },
  {
   "cell_type": "markdown",
   "metadata": {},
   "source": [
    "#### **Using `with` Statement for Better File Handling:**\n",
    "Instead of manually opening and closing files, Python provides the with statement, which automatically closes the file once the block is executed"
   ]
  },
  {
   "cell_type": "code",
   "execution_count": null,
   "metadata": {},
   "outputs": [],
   "source": [
    "with open(\"test.txt\", \"r\") as file:\n",
    "    content = file.read()\n",
    "    print(content)  # No need to call file.close()\n",
    "\n",
    "'''\n",
    "This is safer because it prevents resource leaks.\n",
    "\n",
    "Ideal for large files to avoid memory issues.\n",
    "\n",
    "'''"
   ]
  },
  {
   "cell_type": "markdown",
   "metadata": {},
   "source": [
    "#### **Reading Files in Different Modes:**\n",
    "\n",
    "- `'r'` → Read mode (default).\n",
    "\n",
    "- `'w'` → Write mode (overwrites existing content).\n",
    "\n",
    "- `'a'` → Append mode (adds new content without overwriting).\n",
    "\n",
    "- `'rb'` → Read binary files (e.g., images, PDFs).\n",
    "\n",
    "- `'wb'` → Write binary files."
   ]
  },
  {
   "cell_type": "markdown",
   "metadata": {},
   "source": []
  },
  {
   "cell_type": "markdown",
   "metadata": {},
   "source": [
    "#### **Handling Large Files Efficiently:**\n",
    "\n",
    "Instead of `read()`, use iteration or `readline()` for large files to prevent excessive memory usage.\n",
    "\n",
    "*or* \n",
    "\n",
    "using `read()` can cause memory issues because it loads the **entire file into memory at once**. Instead, we can process the file **line by line** using iteration or readline(),\n",
    "\n",
    "Example:"
   ]
  },
  {
   "cell_type": "code",
   "execution_count": null,
   "metadata": {},
   "outputs": [],
   "source": [
    "# Problem with read() for Large Files\n",
    "# The read() method loads the whole file into memory at once:\n",
    "\n",
    "with open(\"large_file.txt\", \"r\") as file:\n",
    "    content = file.read()  # Loads the entire file into memory\n",
    "    print(content)\n",
    "\n",
    "'''\n",
    "🚨 Issue:\n",
    "\n",
    "If the file is too large (e.g., 1GB or more), the program may run out of memory and crash.\n",
    "\n",
    "'''"
   ]
  },
  {
   "cell_type": "code",
   "execution_count": null,
   "metadata": {},
   "outputs": [],
   "source": [
    "# Efficient Way: Reading Line by Line Using a Loop\n",
    "# Instead of reading the entire file at once, read it one line at a time:\n",
    "\n",
    "\n",
    "with open(\"large_file.txt\", \"r\") as file:\n",
    "    for line in file:\n",
    "        print(line.strip())  # Reads line by line\n",
    "\n",
    "'''\n",
    "✅ Why is this better?\n",
    "\n",
    "Efficient: Reads one line at a time, preventing memory overload.\n",
    "\n",
    "Scalable: Works for files of any size without consuming extra memory.\n",
    "\n",
    "'''"
   ]
  },
  {
   "cell_type": "code",
   "execution_count": 11,
   "metadata": {},
   "outputs": [
    {
     "name": "stdout",
     "output_type": "stream",
     "text": [
      "\n",
      "\n",
      "\n",
      "\n",
      "First line\n",
      "Second line\n",
      "Third line\n"
     ]
    },
    {
     "data": {
      "text/plain": [
       "\"\\n✅ Best When:\\n\\nYou need manual control over when to read the next line.'\\n\""
      ]
     },
     "execution_count": 11,
     "metadata": {},
     "output_type": "execute_result"
    }
   ],
   "source": [
    "# Using readline() to Read Line by Line (Alternative)\n",
    "# If you need more control, use readline(), which fetches only one line per call:\n",
    "\n",
    "with open(\"test.txt\", \"r\") as file:\n",
    "    line = file.readline()  # Reads the first line\n",
    "    while line:\n",
    "        print(line.strip())  \n",
    "        line = file.readline()  # Reads the next line\n",
    "\n",
    "'''\n",
    "✅ Best When:\n",
    "\n",
    "You need manual control over when to read the next line.'\n",
    "'''"
   ]
  },
  {
   "cell_type": "code",
   "execution_count": null,
   "metadata": {},
   "outputs": [],
   "source": [
    "# Using readlines() (Not Recommended for Large Files)\n",
    "\n",
    "with open(\"large_file.txt\", \"r\") as file:\n",
    "    lines = file.readlines()  # Loads all lines into a list\n",
    "    print(lines)\n",
    "\n",
    "'''\n",
    "🚨 Issue:\n",
    "\n",
    "Loads all lines into memory at once.\n",
    "\n",
    "Inefficient for large files (similar to read()).\n",
    "\n",
    "'''"
   ]
  },
  {
   "cell_type": "code",
   "execution_count": null,
   "metadata": {},
   "outputs": [],
   "source": [
    "# Processing in Chunks (for Very Large Files)\n",
    "# For extremely large files, read fixed-size chunks instead of lines:\n",
    "\n",
    "with open(\"large_file.txt\", \"r\") as file:\n",
    "    while chunk := file.read(1024):  # Reads 1024 bytes (1 KB) at a time\n",
    "        print(chunk)\n",
    "\n",
    "'''\n",
    "✅ Best When:\n",
    "\n",
    "File doesn't have clear line breaks.\n",
    "\n",
    "You need fine-grained control over how much is read.\n",
    "\n",
    "'''"
   ]
  },
  {
   "cell_type": "markdown",
   "metadata": {},
   "source": [
    "####  **Best Practices for Handling Large Files**\n",
    "\n",
    "| Method               | Best For                     | Memory Usage | Performance |\n",
    "|----------------------|----------------------------|--------------|-------------|\n",
    "| `read()`            | Small files                 | High ❌      | Fast ✅     |\n",
    "| `for line in file:` | Large text files           | Low ✅       | Best ✅     |\n",
    "| `readline()`        | Large files, manual control | Low ✅       | Good ✅     |\n",
    "| `readlines()`       | Small files                 | High ❌      | Fast ✅     |\n",
    "| `read(chunk_size)`  | Binary files (e.g., logs, CSVs) | Medium ✅  | Best for huge files ✅ |\n"
   ]
  },
  {
   "cell_type": "markdown",
   "metadata": {},
   "source": []
  },
  {
   "cell_type": "markdown",
   "metadata": {},
   "source": [
    "#### **File Existence Check Before Opening:**\n",
    "Use `os.path.exists()` to prevent errors if the file does not exist:\n",
    "\n"
   ]
  },
  {
   "cell_type": "code",
   "execution_count": null,
   "metadata": {},
   "outputs": [],
   "source": [
    "import os\n",
    "if os.path.exists(\"test.txt\"):\n",
    "    with open(\"test.txt\", \"r\") as file:\n",
    "        print(file.read())\n",
    "else:\n",
    "    print(\"File not found!\")"
   ]
  },
  {
   "cell_type": "markdown",
   "metadata": {},
   "source": [
    "#### **Error Handling with `try-except`:**\n",
    "\n",
    "Prevents program crashes due to missing files or permission errors."
   ]
  },
  {
   "cell_type": "code",
   "execution_count": null,
   "metadata": {},
   "outputs": [],
   "source": [
    "try:\n",
    "    with open(\"test.txt\", \"r\") as file:\n",
    "        print(file.read())\n",
    "except FileNotFoundError:\n",
    "    print(\"Error: The file does not exist!\")\n",
    "except IOError:\n",
    "    print(\"Error: Problem reading the file!\")"
   ]
  },
  {
   "cell_type": "markdown",
   "metadata": {},
   "source": [
    "#### **Practical Use Cases of File Handling in Real-World Applications:**\n",
    "\n",
    "- *Log Files*: Storing application logs (`log.txt`).\n",
    "\n",
    "- *Configuration Files*: Reading settings from `.ini` or `.json` files.\n",
    "\n",
    "- *Data Processing*: Reading large CSV files efficiently.\n",
    "\n",
    "- *Web Scraping*: Saving scraped data from websites."
   ]
  },
  {
   "cell_type": "markdown",
   "metadata": {},
   "source": []
  },
  {
   "cell_type": "markdown",
   "metadata": {},
   "source": [
    "#### **Summary of Key Takeaways**   \n",
    "\n",
    "✅ `open(\"filename\")` → Opens a file\n",
    "\n",
    "✅ `read()` → Reads the entire file\n",
    "\n",
    "✅ `readline()` → Reads one line at a time\n",
    "\n",
    "✅ `readlines()` → Reads all lines as a list\n",
    "\n",
    "✅ Using `.strip()` removes unwanted newline characters\n",
    "\n",
    "✅ Loops can iterate through a file line by line\n",
    "\n",
    "✅ Always close the file using `close()` or, better, use `with open(...)` to handle it automatically.\n",
    "\n",
    "✅ **Recommended Approach:**\n",
    "For large files, use a loop (`for line in file:`) or `readline()` to prevent memory issues."
   ]
  },
  {
   "cell_type": "markdown",
   "metadata": {},
   "source": []
  },
  {
   "cell_type": "markdown",
   "metadata": {},
   "source": [
    "#### **Exercise**\n",
    "\n",
    "Q1)\n",
    "\n",
    "Open the file **my_text.txt** and print its content.\n",
    "\n",
    "Note: assume that the file is saved in the same folder where your code is located\n",
    "\n",
    "---\n",
    "\n",
    "Q2)\n",
    "\n",
    "Print the first line of the **my_text.txt** file\n",
    "\n",
    "Don't forget to open the file and close it after reading it.\n",
    "\n",
    "Note: assume that the file is saved in the same folder where your code is located\n",
    "\n",
    "---\n",
    "\n",
    "Q3) Open the file my_text.txt and print only the second line.\n"
   ]
  },
  {
   "cell_type": "markdown",
   "metadata": {},
   "source": []
  },
  {
   "cell_type": "markdown",
   "metadata": {},
   "source": [
    "#### **Solutions**\n",
    "\n",
    "Soln 1) \n",
    "```python\n",
    "# Open the file in read mode\n",
    "my_file = open(\"my_text.txt\", \"r\")\n",
    "\n",
    "# Read the content of the file\n",
    "content = my_file.read()\n",
    "\n",
    "# Print the content\n",
    "print(content)\n",
    "\n",
    "# Close the file\n",
    "my_file.close()\n",
    "```\n",
    "\n",
    "**Explanation:**\n",
    "\n",
    "+ open(\"my_text.txt\", \"r\") → Opens the file in read (\"r\") mode.\n",
    "+ read() → Reads the entire content of the file.\n",
    "+ print(content) → Displays the content of the file.\n",
    "+ close() → Closes the file to free up system resources.\n",
    "\n",
    "**Best Practice:**\n",
    "Using the with statement ensures that the file closes automatically:\n",
    "\n",
    "```python\n",
    "with open(\"my_text.txt\", \"r\") as my_file:\n",
    "    content = my_file.read()\n",
    "    print(content)  # Print file content\n",
    "```\n",
    "\n",
    "---\n",
    "\n",
    "Soln 2)\n",
    "\n",
    "```python\n",
    "# Open the file in read mode\n",
    "my_file = open(\"my_text.txt\", \"r\")\n",
    "\n",
    "# Read the first line\n",
    "first_line = my_file.readline()\n",
    "\n",
    "# Print the first line\n",
    "print(first_line)\n",
    "\n",
    "# Close the file\n",
    "my_file.close()\n",
    "```\n",
    "**Explanation:**\n",
    "+ open(\"my_text.txt\", \"r\") → Opens the file in read (\"r\") mode.\n",
    "+ readline() → Reads only the first line of the file.\n",
    "+ print(first_line) → Displays the first line.\n",
    "+ close() → Closes the file to free up system resources.\n",
    "\n",
    "**Best Practice (Using with Statement):**\n",
    "```python\n",
    "with open(\"my_text.txt\", \"r\") as my_file:\n",
    "    first_line = my_file.readline()\n",
    "    print(first_line)  # Print first line\n",
    "```\n",
    "\n",
    "--- \n",
    "\n",
    "Soln 3) \n",
    "```python\n",
    "# Open the file in read mode\n",
    "my_file = open(\"my_text.txt\", \"r\")\n",
    "\n",
    "# Read the first line (skip it)\n",
    "my_file.readline()\n",
    "\n",
    "# Read the second line\n",
    "second_line = my_file.readline()\n",
    "\n",
    "# Print the second line\n",
    "print(second_line)\n",
    "\n",
    "# Close the file\n",
    "my_file.close()\n",
    "```\n",
    "**Explanation:**\n",
    "+ open(\"my_text.txt\", \"r\") → Opens the file in read (\"r\") mode.\n",
    "+ readline() (first call) → Reads and skips the first line.\n",
    "+ readline() (second call) → Reads the second line.\n",
    "+ print(second_line) → Displays the second line.\n",
    "+ close() → Closes the file after reading.\n",
    "\n",
    "**Alternative Approach (Using with Statement)**\n",
    "\n",
    "```python\n",
    "with open(\"my_text.txt\", \"r\") as my_file:\n",
    "    my_file.readline()  # Skip the first line\n",
    "    second_line = my_file.readline()  # Read the second line\n",
    "    print(second_line)  # Print second line\n",
    "```\n"
   ]
  }
 ],
 "metadata": {
  "kernelspec": {
   "display_name": "Python 3",
   "language": "python",
   "name": "python3"
  },
  "language_info": {
   "codemirror_mode": {
    "name": "ipython",
    "version": 3
   },
   "file_extension": ".py",
   "mimetype": "text/x-python",
   "name": "python",
   "nbconvert_exporter": "python",
   "pygments_lexer": "ipython3",
   "version": "3.11.7"
  }
 },
 "nbformat": 4,
 "nbformat_minor": 2
}
