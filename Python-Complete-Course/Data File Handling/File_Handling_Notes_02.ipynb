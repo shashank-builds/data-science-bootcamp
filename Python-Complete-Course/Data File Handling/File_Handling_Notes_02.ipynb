{
 "cells": [
  {
   "cell_type": "markdown",
   "metadata": {},
   "source": [
    "## 📜 **Python File Handling: Writing & Modifying Files**\n",
    "\n",
    "**🎯 Objective**\n",
    "\n",
    "By the end of this session, you will be able to:\n",
    "\n",
    "✅ Open, create, write, and modify files using Python.\n",
    "\n",
    "✅ Understand different file opening modes (r, w, a).\n",
    "\n",
    "✅ Write text to files and preserve or overwrite existing content.\n",
    "\n",
    "✅ Use different writing methods (write(), writelines()) effectively.\n",
    "\n",
    "✅ Add line breaks and format text correctly when writing to files.\n",
    "\n",
    "✅ Append content to a file instead of overwriting it."
   ]
  },
  {
   "cell_type": "markdown",
   "metadata": {},
   "source": []
  },
  {
   "cell_type": "markdown",
   "metadata": {},
   "source": [
    "#### 📌 File Handling Recap\n",
    "\n",
    "+ In the previous session, we learned to open and read files in Python.\n",
    "\n",
    "+ However, those changes only occurred within Python—they weren’t saved to the actual file.\n",
    "\n",
    "+ Now, we will explore how to write and modify files permanently."
   ]
  },
  {
   "cell_type": "markdown",
   "metadata": {},
   "source": []
  },
  {
   "cell_type": "markdown",
   "metadata": {},
   "source": [
    "#### 📂 Opening a File in Different Modes\n",
    "\n",
    "Python's `open()` function accepts **two parameters**:"
   ]
  },
  {
   "cell_type": "code",
   "execution_count": null,
   "metadata": {},
   "outputs": [],
   "source": [
    "file = open(\"filename.txt\", \"mode\")\n",
    "\n",
    "\n",
    "'''\n",
    "First parameter: \"filename.txt\" – the file you want to open or create.\n",
    "\n",
    "Second parameter: \"mode\" – how the file should be accessed.\n",
    "\n",
    "'''"
   ]
  },
  {
   "cell_type": "markdown",
   "metadata": {},
   "source": [
    "| Mode | Description         | Effect |\n",
    "|------|---------------------|-----------------------------------------------|\n",
    "| r (Read) | Default mode. | Opens the file for reading only. Writing is not allowed. |\n",
    "| w (Write) | Overwrites file. | Creates a new file or erases existing content before writing. |\n",
    "| a (Append) | Adds content to the end. | Opens the file and writes without deleting existing content. |\n"
   ]
  },
  {
   "cell_type": "markdown",
   "metadata": {},
   "source": []
  },
  {
   "cell_type": "markdown",
   "metadata": {},
   "source": [
    "#### ✍ Writing to a File with `w` Mode\n",
    "\n",
    "+ If the file exists, its contents are deleted.\n",
    "\n",
    "+ If the file does not exist, it is created.\n",
    "\n",
    "+ Be careful! w mode overwrites everything."
   ]
  },
  {
   "cell_type": "code",
   "execution_count": null,
   "metadata": {},
   "outputs": [],
   "source": [
    "file = open(\"test.txt\", \"w\")  # Open file in write mode\n",
    "file.write(\"I am the new text!\")  # Write text to file\n",
    "file.close()  # Always close the file!\n",
    "\n",
    "# o/p: I am the new text!\n",
    "\n",
    "\n",
    "'''\n",
    "🔹 Warning: If test.txt previously contained data, it is now erased.\n",
    "'''"
   ]
  },
  {
   "cell_type": "markdown",
   "metadata": {},
   "source": [
    "#### 📝 Adding Multiple Lines (`\\n` for Line Breaks)\n",
    "\n",
    "+ `write()` does NOT add a new line automatically.\n",
    "\n",
    "+ Use `\\n` to insert line breaks manually."
   ]
  },
  {
   "cell_type": "code",
   "execution_count": null,
   "metadata": {},
   "outputs": [],
   "source": [
    "file = open(\"test.txt\", \"w\")  \n",
    "file.write(\"Hello\\n\")  \n",
    "file.write(\"World\\n\")  \n",
    "file.close()\n",
    "\n",
    "\"\"\"\n",
    "Output (inside test.txt):\n",
    "\n",
    "Hello\n",
    "World\n",
    "\"\"\"\n"
   ]
  },
  {
   "cell_type": "markdown",
   "metadata": {},
   "source": [
    "**Alternative: Triple Quotes for Multi-line Writing**"
   ]
  },
  {
   "cell_type": "code",
   "execution_count": null,
   "metadata": {},
   "outputs": [],
   "source": [
    "file = open(\"test.txt\", \"w\")  \n",
    "file.write(\"\"\"Hello\n",
    "World\n",
    "Here I am\n",
    "\"\"\")  \n",
    "file.close()\n",
    "\n",
    "\"\"\"\n",
    "o/p:\n",
    "\n",
    "Hello\n",
    "World\n",
    "Here I am \n",
    "\"\"\"\n"
   ]
  },
  {
   "cell_type": "markdown",
   "metadata": {},
   "source": [
    "#### ✍ Writing a List of Strings Using `writelines()`\n",
    "\n",
    "+ This method writes multiple strings from a list without adding line breaks.\n",
    "\n",
    "+ It does not automatically create new lines, so you must add \\n manually."
   ]
  },
  {
   "cell_type": "code",
   "execution_count": null,
   "metadata": {},
   "outputs": [],
   "source": [
    "file = open(\"test.txt\", \"w\")\n",
    "lines = [\"Hello\\n\", \"World\\n\", \"Here I am\\n\"]\n",
    "file.writelines(lines)\n",
    "file.close()\n",
    "\n",
    "\"\"\"\n",
    "o/p:\n",
    "\n",
    "Hello\n",
    "World\n",
    "Here I am\n",
    "\"\"\"\n",
    "\n",
    "\"\"\"\n",
    "🔹 Common mistake: Forgetting \\n results in: 'HelloWorldHere I am'\n",
    "\n",
    "\"\"\""
   ]
  },
  {
   "cell_type": "markdown",
   "metadata": {},
   "source": [
    "#### ➕ Appending Text with a Mode\n",
    "\n",
    "+ Unlike w, this does not delete existing content.\n",
    "\n",
    "+ It positions the cursor at the end of the file and starts writing."
   ]
  },
  {
   "cell_type": "code",
   "execution_count": null,
   "metadata": {},
   "outputs": [],
   "source": [
    "file = open(\"test.txt\", \"a\")  # Open in append mode\n",
    "file.write(\"Welcome!\\n\")  # Append new text\n",
    "file.close()\n",
    "\n",
    "\"\"\"\n",
    "o/p:\n",
    "\n",
    "Hello\n",
    "World\n",
    "Here I am\n",
    "\"\"\"\n",
    "\n",
    "\"\"\"\n",
    "🔹 After appending (test.txt now contains):\n",
    "\n",
    "\n",
    "Hello\n",
    "World\n",
    "Here I am\n",
    "Welcome!\n",
    "\"\"\"\n",
    "\n"
   ]
  },
  {
   "cell_type": "markdown",
   "metadata": {},
   "source": []
  },
  {
   "cell_type": "markdown",
   "metadata": {},
   "source": [
    "#### 📌 **Choosing the Right Mode**\n",
    "\n",
    "| Mode      | Best Use Case                                      |\n",
    "|-----------|---------------------------------------------------|\n",
    "| r (Read)  | When you only need to read data.                 |\n",
    "| w (Write) | When you need to overwrite or create a new file. |\n",
    "| a (Append)| When you need to add content without erasing existing data. |\n"
   ]
  },
  {
   "cell_type": "markdown",
   "metadata": {},
   "source": []
  },
  {
   "cell_type": "markdown",
   "metadata": {},
   "source": [
    "#### 🔁 **Writing Lists Efficiently Using a Loop**\n",
    "\n",
    "Instead of `writelines()`, a better approach is using a `for` loop:\n"
   ]
  },
  {
   "cell_type": "code",
   "execution_count": null,
   "metadata": {},
   "outputs": [],
   "source": [
    "lines = [\"Hello\", \"World\", \"Here I am\"]\n",
    "\n",
    "file = open(\"test.txt\", \"w\")\n",
    "for line in lines:\n",
    "    file.write(line + \"\\n\")  # Add line break manually\n",
    "file.close()\n",
    "\n",
    "\"\"\"\n",
    "Output:\n",
    "\n",
    "Hello\n",
    "World\n",
    "Here I am\n",
    "\"\"\""
   ]
  },
  {
   "cell_type": "markdown",
   "metadata": {},
   "source": [
    "#### **📜 Summary: Key Takeaways**\n",
    "\n",
    "✅ open(\"file.txt\", \"r\") – Read mode (default), writing not allowed.\n",
    "\n",
    "✅ open(\"file.txt\", \"w\") – Write mode, overwrites existing content.\n",
    "\n",
    "✅ open(\"file.txt\", \"a\") – Append mode, adds content to the end of the file.\n",
    "\n",
    "✅ Use write() to write single strings, and writelines() for lists of strings.\n",
    "\n",
    "✅ Always close the file using file.close() after writing.\n",
    "\n"
   ]
  },
  {
   "cell_type": "markdown",
   "metadata": {},
   "source": []
  },
  {
   "cell_type": "markdown",
   "metadata": {},
   "source": [
    "#### **Exercise**\n",
    "\n",
    "Q1) \n",
    "Open the file called my_file.txt, and change its content to the text New text.\n",
    "\n",
    "Print the entire content of my_file.txt upon completion.\n",
    "\n",
    "Hint: you will have to close it in write mode and reopen it in read mode.\n",
    "\n",
    "---\n",
    "\n",
    "Q2)\n",
    "Open the file called my_file.txt, and add a line at the end of it that says: New login.\n",
    "\n",
    "Print the entire content of my_file.txt upon completion.\n",
    "\n",
    "Hint: you will have to close it in write mode and reopen it in read mode.\n",
    "\n",
    "---\n",
    "Q3)\n",
    "Use the writelines method to write the values of the following list to the end of the register.txt file. Insert a tab between each item in the list to separate them.\n",
    "\n",
    "record_last_session = [\"John\", \"12/20/2022\", \"08:17:32 pm\", \"No loading errors\"]\n",
    "\n",
    "Print the full content of register.txt upon completion.\n",
    "\n",
    "Hint: remember that the scape sequence to concatenate a tab in a string is \\t. Also, you will need to close the file in write mode and reopen it in read mode in order to print its content.\n",
    "\n",
    "\n"
   ]
  },
  {
   "cell_type": "markdown",
   "metadata": {},
   "source": [
    "#### **Solutions**\n",
    "\n",
    "Soln 1)\n",
    "```python\n",
    "# Open the file in write mode and replace its content\n",
    "with open(\"my_file.txt\", \"w\") as file:\n",
    "    file.write(\"New text\")\n",
    "\n",
    "# Open the file again in read mode and print its content\n",
    "with open(\"my_file.txt\", \"r\") as file:\n",
    "    content = file.read()\n",
    "    print(content)\n",
    "```\n",
    "\n",
    "**Explanation**:\n",
    "+ Open the file in write mode (\"w\") – This clears the file and writes \"New text\".\n",
    "+ Close the file – This ensures changes are saved.\n",
    "+ Reopen the file in read mode (\"r\") – Reads the entire content.\n",
    "+ Print the content – Outputs \"New text\".\n",
    "\n",
    "---\n",
    "\n",
    "Soln 2)\n",
    "```python\n",
    "# Open the file in append mode (\"a\") and add a new line\n",
    "with open(\"my_file.txt\", \"a\") as file:\n",
    "    file.write(\"\\nNew login\")\n",
    "\n",
    "# Open the file again in read mode (\"r\") and print its content\n",
    "with open(\"my_file.txt\", \"r\") as file:\n",
    "    content = file.read()\n",
    "    print(content)\n",
    "```\n",
    "\n",
    "---\n",
    "\n",
    "Soln 3)\n",
    "```python\n",
    "# Define the list with session details\n",
    "record_last_session = [\"John\", \"12/20/2022\", \"08:17:32 pm\", \"No loading errors\"]\n",
    "\n",
    "# Open the file in append mode (\"a\") and write the list contents with tabs\n",
    "with open(\"register.txt\", \"a\") as file:\n",
    "    file.writelines(\"\\t\".join(record_last_session) + \"\\n\")  # Join items with tab and add a newline\n",
    "\n",
    "# Open the file again in read mode (\"r\") and print its content\n",
    "with open(\"register.txt\", \"r\") as file:\n",
    "    content = file.read()\n",
    "    print(content)\n",
    "```\n",
    "\n",
    "**Explanation:**\n",
    "\n",
    "+ Open register.txt in append mode (\"a\") – Ensures that new data is added to the file without overwriting existing content.\n",
    "+ Use writelines with \"\\t\".join(record_last_session) + \"\\n\"\n",
    "\n",
    "    + \"\\t\".join(record_last_session) joins the list items with a tab (\\t).\n",
    "    + +\"\\n\" ensures the entry is written on a new line.\n",
    "\n",
    "+ Close the file to save changes.\n",
    "+ Reopen the file in read mode (\"r\") – Reads the full content.\n",
    "+ Print the content – Displays the updated file.\n",
    "\n"
   ]
  },
  {
   "cell_type": "markdown",
   "metadata": {},
   "source": []
  },
  {
   "cell_type": "markdown",
   "metadata": {},
   "source": [
    "#### 🚀 **Next Steps: Working with File Paths**\n",
    "\n",
    "In the next session, you will learn how to:\n",
    "\n",
    "✅ Open and manipulate files from different folders.\n",
    "\n",
    "✅ Navigate file paths dynamically.\n",
    "\n",
    "✅ Use pathlib for advanced file handling."
   ]
  }
 ],
 "metadata": {
  "kernelspec": {
   "display_name": "Python 3",
   "language": "python",
   "name": "python3"
  },
  "language_info": {
   "codemirror_mode": {
    "name": "ipython",
    "version": 3
   },
   "file_extension": ".py",
   "mimetype": "text/x-python",
   "name": "python",
   "nbconvert_exporter": "python",
   "pygments_lexer": "ipython3",
   "version": "3.11.7"
  }
 },
 "nbformat": 4,
 "nbformat_minor": 2
}
