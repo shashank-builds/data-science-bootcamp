{
 "cells": [
  {
   "cell_type": "markdown",
   "metadata": {},
   "source": [
    "## **Python File and Directory Management**\n",
    "\n",
    "#### **Objective**\n",
    "\n",
    "To understand how to manage files and directories in Python, including navigating between directories, opening files from different locations, and working with OS-independent paths using the `os` module and `pathlib`."
   ]
  },
  {
   "cell_type": "markdown",
   "metadata": {},
   "source": []
  },
  {
   "cell_type": "markdown",
   "metadata": {},
   "source": [
    "#### **Working with Files in Different Locations**\n",
    "\n",
    "- So far, we have worked with files in the same directory as our Python script.\n",
    "\n",
    "- If no path is specified, Python looks for files in the script's location by default.\n",
    "\n",
    "- To work with files in other directories, specify the **full path** when opening a file.\n",
    "\n"
   ]
  },
  {
   "cell_type": "markdown",
   "metadata": {},
   "source": []
  },
  {
   "cell_type": "markdown",
   "metadata": {},
   "source": [
    "#### **Challenges in Specifying File Paths**\n",
    "\n",
    "1. **Windows Path Issue:**\n",
    "\n",
    "+ Windows uses backslashes (`\\`) in paths.\n",
    "\n",
    "+ However, Python interprets a single `\\` as an escape character (e.g., `\\n` for a newline).\n",
    "\n",
    "+ Solution: Use double backslashes (`\\\\`) or raw strings (`r\"path\\to\\file\"`).\n",
    "\n",
    "**Cross-Platform Compatibility:**\n",
    "\n",
    "+ Windows uses `\\`, while Unix/Linux/macOS use `/`.\n",
    "\n",
    "+ Hardcoding paths causes issues across different operating systems.\n",
    "\n",
    "+ Solution: Use the `pathlib` module, which automatically adjusts paths for different OS.\n",
    "\n"
   ]
  },
  {
   "cell_type": "markdown",
   "metadata": {},
   "source": []
  },
  {
   "cell_type": "markdown",
   "metadata": {},
   "source": [
    "#### **Using the `os` Module for Directory Management**\n",
    "\n",
    "\n",
    "\n",
    "\n",
    "\n"
   ]
  },
  {
   "cell_type": "code",
   "execution_count": null,
   "metadata": {},
   "outputs": [],
   "source": [
    "# 1. Importing the OS Module\n",
    "\n",
    "import os\n"
   ]
  },
  {
   "cell_type": "code",
   "execution_count": null,
   "metadata": {},
   "outputs": [],
   "source": [
    "# 2. Getting the Current Working Directory (CWD)\n",
    "\n",
    "path = os.getcwd()  # Gets the current directory\n",
    "print(path)  \n",
    "\n",
    "''' The output shows the directory where the script is running. '''\n"
   ]
  },
  {
   "cell_type": "code",
   "execution_count": null,
   "metadata": {},
   "outputs": [],
   "source": [
    "# 3. Changing the Current Directory\n",
    "\n",
    "os.chdir(\"C:\\\\Users\\\\User\\\\Documents\")  # Changes the working directory in Windows\n",
    "\n",
    "'''\n",
    " Ensures files are accessed from the correct location.\n",
    "\n",
    " Note: Use `\\\\` for Windows or `r\"path\\to\\directory\"` to avoid escape character issues.'\n",
    "'''"
   ]
  },
  {
   "cell_type": "code",
   "execution_count": null,
   "metadata": {},
   "outputs": [],
   "source": [
    "# 4. Opening a File from Another Directory\n",
    "\n",
    "file = open(\"another_file.txt\", \"r\")  \n",
    "print(file.read())  # Reads file contents\n",
    "\n",
    "'''Fails if the file isn't in the current directory.'''\n",
    "\n",
    "# To access a file in another directory:\n",
    "\n",
    "os.chdir(\"C:\\\\Users\\\\User\\\\Documents\")  \n",
    "file = open(\"another_file.txt\", \"r\")  \n",
    "print(file.read())  \n",
    "\n"
   ]
  },
  {
   "cell_type": "code",
   "execution_count": null,
   "metadata": {},
   "outputs": [],
   "source": [
    "# 5. Creating a New Folder\n",
    "\n",
    "os.mkdir(\"NewFolder\")  # Creates a new directory in the current path\n",
    "\n",
    "''' Error Handling: If the folder already exists, an error occurs. '''\n"
   ]
  },
  {
   "cell_type": "code",
   "execution_count": null,
   "metadata": {},
   "outputs": [],
   "source": [
    "# 6. Deleting a Folder\n",
    "\n",
    "os.rmdir(\"NewFolder\")  # Removes an empty directory\n",
    "\n",
    "''' If the folder contains files, it must be deleted recursively using shutil '''"
   ]
  },
  {
   "cell_type": "code",
   "execution_count": null,
   "metadata": {},
   "outputs": [],
   "source": [
    "# 7. Extracting Directory and File Names\n",
    "\n",
    "full_path = \"C:\\\\Users\\\\User\\\\Documents\\\\test.txt\"\n",
    "print(os.path.basename(full_path))  # Outputs: test.txt\n",
    "print(os.path.dirname(full_path))   # Outputs: C:\\Users\\User\\Documents\n"
   ]
  },
  {
   "cell_type": "code",
   "execution_count": null,
   "metadata": {},
   "outputs": [],
   "source": [
    "# 8. Splitting Path into Directory and Filename\n",
    "\n",
    "directory, filename = os.path.split(full_path)\n",
    "print(directory)  # Outputs: C:\\Users\\User\\Documents\n",
    "print(filename)   # Outputs: test.txt\n",
    "\n",
    "''' Alternative: Use os.path.splitext() to get the file extension '''\n"
   ]
  },
  {
   "cell_type": "markdown",
   "metadata": {},
   "source": []
  },
  {
   "cell_type": "markdown",
   "metadata": {},
   "source": [
    "#### Using pathlib for Cross-Platform Path Management\n"
   ]
  },
  {
   "cell_type": "code",
   "execution_count": null,
   "metadata": {},
   "outputs": [],
   "source": [
    "# 1. Importing pathlib\n",
    "\n",
    "from pathlib import Path"
   ]
  },
  {
   "cell_type": "code",
   "execution_count": null,
   "metadata": {},
   "outputs": [],
   "source": [
    "# 2. Creating a Path Object\n",
    "\n",
    "folder = Path(\"C:/Users/User/Documents\")  # Works on all OS (uses forward slash)\n",
    "file_path = folder / \"test.txt\"  # Concatenates path correctly\n",
    "\n",
    "'''Ensures compatibility across Windows, macOS, and Linux.'''"
   ]
  },
  {
   "cell_type": "code",
   "execution_count": null,
   "metadata": {},
   "outputs": [],
   "source": [
    "# 3. Opening a File with pathlib\n",
    "\n",
    "with open(file_path, \"r\") as file:\n",
    "    print(file.read())  \n",
    "    \n",
    "'''Advantage: Works regardless of OS differences in path formatting.'''"
   ]
  },
  {
   "cell_type": "code",
   "execution_count": null,
   "metadata": {},
   "outputs": [],
   "source": [
    "# 4. Creating a Directory\n",
    "\n",
    "folder_path = Path(\"C:/Users/User/Documents/NewFolder\")\n",
    "folder_path.mkdir(exist_ok=True)  # Creates folder if it doesn't exist\n"
   ]
  },
  {
   "cell_type": "code",
   "execution_count": null,
   "metadata": {},
   "outputs": [],
   "source": [
    "# 5. Deleting a Directory\n",
    "\n",
    "folder_path.rmdir()  # Removes an empty directory\n"
   ]
  },
  {
   "cell_type": "code",
   "execution_count": null,
   "metadata": {},
   "outputs": [],
   "source": [
    "# 6. Checking if a Path Exists\n",
    "\n",
    "\n",
    "print(folder.exists())  # Returns True if the folder exists\n"
   ]
  },
  {
   "cell_type": "markdown",
   "metadata": {},
   "source": [
    "#### Comparison of `os` and `pathlib`\n",
    "\n",
    "| Feature              | `os` Module                 | `pathlib` Module                  |\n",
    "|----------------------|---------------------------|----------------------------------|\n",
    "| **Path Handling**    | Manual (`\\\\` for Windows) | Automatic (cross-platform)      |\n",
    "| **Directory Navigation** | `os.chdir()`, `os.getcwd()` | `Path.cwd()`                   |\n",
    "| **File Handling**    | `open(file, \"r\")`         | `Path(file).read_text()`        |\n",
    "| **Creating Folders** | `os.mkdir()`              | `Path.mkdir()`                  |\n",
    "| **Deleting Folders** | `os.rmdir()`              | `Path.rmdir()`                  |\n"
   ]
  },
  {
   "cell_type": "markdown",
   "metadata": {},
   "source": [
    "#### **Key Takeaways**\n",
    "\n",
    "✔ Use `os` for direct system interaction and `pathlib` for modern, cross-platform path management.\n",
    "\n",
    "✔ Always use `double backslashes (\\\\)` or raw strings (`r\"path\"`) in Windows.\n",
    "\n",
    "✔ Use `os.path` functions for extracting file names, extensions, and directories.\n",
    "\n",
    "✔ Use `pathlib` to ensure code runs on any operating system without modifications.\n",
    "\n",
    "✔ Always **check if a directory** exists before creating or deleting it."
   ]
  },
  {
   "cell_type": "markdown",
   "metadata": {},
   "source": []
  },
  {
   "cell_type": "markdown",
   "metadata": {},
   "source": [
    "#### 📌 **Quiz on File Paths and OS Module in Python**\n",
    "\n",
    "##### **Question 1:**\n",
    "**What happens if you open a file in Python without specifying its full path?**\n",
    "\n",
    "A) Python looks for the file in the system’s root directory  \n",
    "B) Python searches for the file in the same directory as the script ✅  \n",
    "C) Python throws a `FileNotFoundError` immediately  \n",
    "D) Python automatically finds the file anywhere on the system  \n",
    "\n",
    "**Answer:** B) Python searches for the file in the same directory as the script  \n",
    "\n",
    "---\n",
    "\n",
    "##### **Question 2:**\n",
    "**Which method from the `os` module is used to get the current working directory?**\n",
    "\n",
    "A) `os.get_path()`  \n",
    "B) `os.getcwd()` ✅  \n",
    "C) `os.getdir()`  \n",
    "D) `os.curdir()`  \n",
    "\n",
    "**Answer:** B) `os.getcwd()`  \n",
    "\n",
    "---\n",
    "\n",
    "##### **Question 3:**\n",
    "**What is the purpose of the `Path` object from the `pathlib` module?**  \n",
    "\n",
    "A) It allows handling file paths in a way that works across different operating systems ✅  \n",
    "B) It replaces the `os` module completely  \n",
    "C) It is used only for creating directories  \n",
    "D) It is used for reading only `.txt` files  \n",
    "\n",
    "**Answer:** A) It allows handling file paths in a way that works across different operating systems  \n",
    "\n",
    "---\n",
    "\n",
    "##### **Question 4:**\n",
    "**Which function from the `os` module is used to change the current working directory?**  \n",
    "\n",
    "A) `os.chdir()` ✅  \n",
    "B) `os.mkfile()`  \n",
    "C) `os.chmod()`  \n",
    "D) `os.rmdir()`  \n",
    "\n",
    "**Answer:** A) `os.chdir()`  \n",
    "\n",
    "##### **Question 5:**\n",
    "**Given the following path, what will `os.path.basename(path)` return?**\n",
    "\n",
    "```python\n",
    "path = 'C:\\\\Users\\\\Desktop\\\\document.txt'\n",
    "print(os.path.basename(path))\n",
    "```\n",
    "\n",
    "A) `C:\\\\Users\\\\Desktop`\n",
    "B) `document.txt` ✅\n",
    "C) `Users`\n",
    "D) `Desktop`\n",
    "\n",
    "**Answer:** B) `document.txt`\n"
   ]
  },
  {
   "cell_type": "markdown",
   "metadata": {},
   "source": []
  },
  {
   "cell_type": "markdown",
   "metadata": {},
   "source": [
    "#### Next Steps\n",
    "\n",
    "+ Explore advanced features of `pathlib`.\n",
    "\n",
    "+ Learn how to handle file permissions.\n",
    "\n",
    "+ Implement error handling while managing files and directories.\n",
    "\n",
    "\n",
    "\n",
    "\n",
    "\n",
    "\n",
    "\n"
   ]
  }
 ],
 "metadata": {
  "kernelspec": {
   "display_name": "Python 3",
   "language": "python",
   "name": "python3"
  },
  "language_info": {
   "name": "python",
   "version": "3.11.7"
  }
 },
 "nbformat": 4,
 "nbformat_minor": 2
}
