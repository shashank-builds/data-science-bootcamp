{
 "cells": [
  {
   "cell_type": "markdown",
   "metadata": {},
   "source": [
    "## 📂 Python pathlib Module: Simplifying File & Path Handling\n",
    "\n",
    "#### 🎯 **Objective**\n",
    "\n",
    "By the end of this lesson, you will:\n",
    "\n",
    "✅ Understand how to manipulate file system paths efficiently using the `pathlib` module.\n",
    "\n",
    "✅ Learn to use `pathlib` instead of traditional methods like `os.path`.\n",
    "\n",
    "✅ Explore key `pathlib` methods to read, check, and extract information from files.\n",
    "\n",
    "✅ Convert file paths across different operating systems (Windows, Mac, Linux).\n",
    "\n",
    "✅ Compare `pathlib` with older approaches for backward compatibility."
   ]
  },
  {
   "cell_type": "markdown",
   "metadata": {},
   "source": []
  },
  {
   "cell_type": "markdown",
   "metadata": {},
   "source": [
    "#### 📌 **Why Use `pathlib`?**\n",
    "The `pathlib` module in Python provides an object-oriented and cross-platform way to work with file system paths. It simplifies file manipulation by reducing the need for functions like `open()`, `os.path.join()`, and `os.path.exists()`."
   ]
  },
  {
   "cell_type": "markdown",
   "metadata": {},
   "source": [
    "#### 🔍 Working with Paths in `pathlib`\n",
    "\n",
    "1. **Creating a Path Object**\n",
    "\n",
    "Instead of manually concatenating file paths with `/` or `\\`, `pathlib` makes it easy:"
   ]
  },
  {
   "cell_type": "code",
   "execution_count": null,
   "metadata": {},
   "outputs": [],
   "source": [
    "from pathlib import Path  \n",
    "\n",
    "# Define a folder path\n",
    "folder = Path(\"C:/Users/Shashank/Documents\")\n",
    "\n",
    "# Append a file to the path\n",
    "file_path = folder / \"test.txt\"\n",
    "\n",
    "print(file_path)  # Output: C:/Users/John/Documents/test.txt\n"
   ]
  },
  {
   "cell_type": "markdown",
   "metadata": {},
   "source": [
    "2. **Reading a File with `pathlib`**\n",
    "\n",
    "With pathlib, you can read a file without manually opening and closing it:\n"
   ]
  },
  {
   "cell_type": "code",
   "execution_count": null,
   "metadata": {},
   "outputs": [],
   "source": [
    "# Read the file content\n",
    "content = file_path.read_text()  \n",
    "print(content)  \n",
    "\n",
    "'''\n",
    "✅ No need to use open() and close()!\n",
    "✅ Simpler and more efficient!\n",
    "'''"
   ]
  },
  {
   "cell_type": "markdown",
   "metadata": {},
   "source": [
    "3. **Extracting File Information**\n",
    "\n",
    "`pathlib` provides built-in methods to extract file details:"
   ]
  },
  {
   "cell_type": "code",
   "execution_count": null,
   "metadata": {},
   "outputs": [],
   "source": [
    "print(file_path.name)     # test.txt  → Returns file name\n",
    "print(file_path.suffix)   # .txt      → Returns file extension\n",
    "print(file_path.stem)     # test      → Returns file name (without extension)\n",
    "\n",
    "'''✅ No need to split file names manually! '''\n"
   ]
  },
  {
   "cell_type": "markdown",
   "metadata": {},
   "source": [
    "4. **Checking if a File Exists**\n",
    "\n",
    "Instead of using `os.path.exists()`, `pathlib` makes this more readable:"
   ]
  },
  {
   "cell_type": "code",
   "execution_count": 1,
   "metadata": {},
   "outputs": [
    {
     "ename": "NameError",
     "evalue": "name 'file_path' is not defined",
     "output_type": "error",
     "traceback": [
      "\u001b[1;31m---------------------------------------------------------------------------\u001b[0m",
      "\u001b[1;31mNameError\u001b[0m                                 Traceback (most recent call last)",
      "Cell \u001b[1;32mIn[1], line 1\u001b[0m\n\u001b[1;32m----> 1\u001b[0m \u001b[38;5;28;01mif\u001b[39;00m file_path\u001b[38;5;241m.\u001b[39mexists():\n\u001b[0;32m      2\u001b[0m     \u001b[38;5;28mprint\u001b[39m(\u001b[38;5;124m\"\u001b[39m\u001b[38;5;124mYes, the file exists!\u001b[39m\u001b[38;5;124m\"\u001b[39m)\n\u001b[0;32m      3\u001b[0m \u001b[38;5;28;01melse\u001b[39;00m:\n",
      "\u001b[1;31mNameError\u001b[0m: name 'file_path' is not defined"
     ]
    }
   ],
   "source": [
    "if file_path.exists():\n",
    "    print(\"Yes, the file exists!\")\n",
    "else:\n",
    "    print(\"This file does not exist.\")\n",
    "\n",
    "\n",
    "'''✅ Returns True if the file exists, False otherwise '''\n"
   ]
  },
  {
   "cell_type": "markdown",
   "metadata": {},
   "source": [
    "5. **Handling Non-Existent Files**\n",
    "\n",
    "We can check if a file is missing before proceeding:\n",
    "\n",
    "\n"
   ]
  },
  {
   "cell_type": "code",
   "execution_count": null,
   "metadata": {},
   "outputs": [],
   "source": [
    "if not file_path.exists():\n",
    "    print(\"This file doesn't exist!\")\n",
    "else:\n",
    "    print(\"Yes, it exists!\")\n",
    "\n"
   ]
  },
  {
   "cell_type": "markdown",
   "metadata": {},
   "source": [
    "#### 📌 **Cross-Platform Path Handling**\n",
    "\n",
    "By default, paths differ across operating systems:\n",
    "\n",
    "+ **Windows**: Uses backslashes (\\) → C:\\Users\\Shashank\\Documents\n",
    "\n",
    "+ **Mac/Linux**: Uses forward slashes (/) → /home/shashank/documents"
   ]
  },
  {
   "cell_type": "code",
   "execution_count": null,
   "metadata": {},
   "outputs": [],
   "source": [
    "# Convert a Path to Windows Format\n",
    "\n",
    "# If you're on Mac/Linux but need a Windows-compatible path:\n",
    "\n",
    "from pathlib import PureWindowsPath  \n",
    "\n",
    "windows_path = PureWindowsPath(file_path)  \n",
    "print(windows_path)  # C:\\Users\\John\\Documents\\test.txt\n",
    "\n",
    "''' ✅ Ensures compatibility across different OS! '''\n"
   ]
  },
  {
   "cell_type": "markdown",
   "metadata": {},
   "source": [
    "#### 🚀 Why `pathlib` is Better than `os.path`?\n",
    "\n",
    "| Feature                | `os.path` (Old Method)      | `pathlib` (New Method) |\n",
    "|------------------------|---------------------------|------------------------|\n",
    "| **Path creation**      | `os.path.join(a, b)`      | `Path(a) / b`         |\n",
    "| **Reading a file**     | `open(file).read()`       | `file.read_text()`    |\n",
    "| **Checking existence** | `os.path.exists(file)`    | `file.exists()`       |\n",
    "| **Extracting file name** | `os.path.basename(file)` | `file.name`          |\n",
    "| **Extracting file type** | `os.path.splitext(file)[1]` | `file.suffix`    |\n",
    "\n",
    "\n",
    "✅ pathlib makes file handling simpler and cleaner!\n",
    "\n"
   ]
  },
  {
   "cell_type": "markdown",
   "metadata": {},
   "source": []
  },
  {
   "cell_type": "markdown",
   "metadata": {},
   "source": [
    "#### 📌 **Summary**\n",
    "\n",
    "🔹 pathlib provides an object-oriented way to handle files and directories.\n",
    "\n",
    "🔹 It allows simpler file reading, checking, and path manipulation.\n",
    "\n",
    "🔹 You can extract file names, extensions, and check existence in fewer lines.\n",
    "\n",
    "🔹 PureWindowsPath helps convert paths across operating systems.\n",
    "\n",
    "🔹 pathlib replaces old os.path methods, making code cleaner and more readable.\n",
    "\n"
   ]
  },
  {
   "cell_type": "markdown",
   "metadata": {},
   "source": [
    "#### 📌 **Exercise**\n",
    "\n",
    "Q1) Which of the following properties would you use to check the extension of a file in `pathlib`?\n",
    "\n",
    "A. `.name`  \n",
    "B. `.suffix`  \n",
    "C. `.stem`  \n",
    "D. `.exists()`\n",
    "\n",
    "**Answer:** ✅ B. `.suffix`\n",
    "\n",
    "\n",
    "#### \n",
    "\n",
    "Q2) What will the `path` variable contain after the following code is executed?\n",
    "\n",
    "```python\n",
    "from pathlib import PureWindowsPath  \n",
    "\n",
    "path = PureWindowsPath(\"C:/Users/Username/Desktop\")  \n",
    "```\n",
    "\n",
    "A. `'C:\\Users\\Username\\Desktop'` (Windows-style path)\n",
    "\n",
    "B. `C:/Users/Username/Desktop` (Original format remains unchanged)\n",
    "\n",
    "C. `['C:', 'Users', 'Username', 'Desktop']` (List of path components)\n",
    "\n",
    "D. `None` (Invalid path format)\n",
    "\n",
    "**Answer:** ✅ B. 'C:/Users/Username/Desktop' (Original format remains unchanged)"
   ]
  },
  {
   "cell_type": "markdown",
   "metadata": {},
   "source": []
  },
  {
   "cell_type": "markdown",
   "metadata": {},
   "source": [
    "#### 📌 **Quiz: Python `pathlib` Module**\n",
    "\n",
    "##### **Question 1:**  \n",
    "Which of the following is an advantage of the `pathlib` module?  \n",
    "\n",
    "A. It provides an object-oriented way to handle file paths.  \n",
    "B. It requires more lines of code compared to `os.path`.  \n",
    "C. It is only compatible with Windows systems.  \n",
    "D. It cannot be used to check if a file exists.  \n",
    "\n",
    "🔹 **Answer:** ✅ A. It provides an object-oriented way to handle file paths.  \n",
    "\n",
    "---\n",
    "\n",
    "##### **Question 2:**  \n",
    "Which method in `pathlib` is used to read the contents of a text file?  \n",
    "\n",
    "A. `read_file()`  \n",
    "B. `open_text()`  \n",
    "C. `read_text()`  \n",
    "D. `get_text()`  \n",
    "\n",
    "🔹 **Answer:** ✅ C. `read_text()`  \n",
    "\n",
    "---\n",
    "\n",
    "##### **Question 3:**  \n",
    "What does `file_path.suffix` return?  \n",
    "\n",
    "A. The file name without extension  \n",
    "B. The file extension (e.g., `.txt`, `.csv`)  \n",
    "C. The full file path  \n",
    "D. The parent directory name  \n",
    "\n",
    "🔹 **Answer:** ✅ B. The file extension (e.g., `.txt`, `.csv`)  \n",
    "\n",
    "---\n",
    "\n",
    "##### **Question 4:**  \n",
    "How do you check if a file exists using `pathlib`?  \n",
    "\n",
    "A. `file_path.exists()`  \n",
    "B. `file_path.is_available()`  \n",
    "C. `file_path.check()`  \n",
    "D. `os.exists(file_path)`  \n",
    "\n",
    "🔹 **Answer:** ✅ A. `file_path.exists()`  \n",
    "\n",
    "---\n",
    "\n",
    "##### **Question 5:**  \n",
    "Which `pathlib` method returns only the file name **without** its extension?  \n",
    "\n",
    "A. `file_path.stem`  \n",
    "B. `file_path.name`  \n",
    "C. `file_path.suffix`  \n",
    "D. `file_path.basename()`  \n",
    "\n",
    "🔹 **Answer:** ✅ A. `file_path.stem`  \n",
    "\n",
    "---\n",
    "\n",
    "##### **Question 6:**  \n",
    "Which of the following is **NOT** true about `pathlib`?  \n",
    "\n",
    "A. It replaces many functions from `os.path`.  \n",
    "B. It works across different operating systems.  \n",
    "C. It is less efficient than `os.path`.  \n",
    "D. It allows easier manipulation of file paths.  \n",
    "\n",
    "🔹 **Answer:** ✅ C. It is less efficient than `os.path`. (_`pathlib` is actually more efficient and modern!_)  \n",
    "\n",
    "---\n",
    "\n",
    "##### **Question 7:**  \n",
    "What is the purpose of `PureWindowsPath` in `pathlib`?  \n",
    "\n",
    "A. It converts any path into a Windows-style path.  \n",
    "B. It deletes a file from a Windows system.  \n",
    "C. It only works on Windows and does not run on Mac/Linux.  \n",
    "D. It removes file extensions from a file path.  \n",
    "\n",
    "🔹 **Answer:** ✅ A. It converts any path into a Windows-style path.  \n"
   ]
  },
  {
   "cell_type": "markdown",
   "metadata": {},
   "source": []
  },
  {
   "cell_type": "markdown",
   "metadata": {},
   "source": [
    "🎯 **What’s Next?**\n",
    "\n",
    "✅ Try experimenting with more pathlib methods!\n",
    "\n",
    "✅ Explore how to create, rename, and delete files/folders.\n",
    "\n",
    "✅ Use pathlib to automate file organization tasks."
   ]
  }
 ],
 "metadata": {
  "kernelspec": {
   "display_name": "Python 3",
   "language": "python",
   "name": "python3"
  },
  "language_info": {
   "codemirror_mode": {
    "name": "ipython",
    "version": 3
   },
   "file_extension": ".py",
   "mimetype": "text/x-python",
   "name": "python",
   "nbconvert_exporter": "python",
   "pygments_lexer": "ipython3",
   "version": "3.11.7"
  }
 },
 "nbformat": 4,
 "nbformat_minor": 2
}
