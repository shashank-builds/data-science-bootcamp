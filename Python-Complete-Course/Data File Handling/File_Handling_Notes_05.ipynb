{
 "cells": [
  {
   "cell_type": "code",
   "execution_count": null,
   "metadata": {},
   "outputs": [],
   "source": []
  },
  {
   "cell_type": "markdown",
   "metadata": {},
   "source": [
    "## **Python Pathlib Module: Working with File Paths**\n",
    "\n",
    "**Objective:**\n",
    "\n",
    "+ We learnt how to manipulate file system paths in Python using the `pathlib` module. \n",
    "\n",
    "+ Now we will understand how to create, navigate, and manipulate file paths across different operating systems.\n",
    "\n"
   ]
  },
  {
   "cell_type": "markdown",
   "metadata": {},
   "source": [
    "#### **Introduction to `pathlib`**\n",
    "\n",
    "+ The `pathlib` module in Python allows for easy manipulation of file system paths.\n",
    "\n",
    "+ It provides an object-oriented approach to handling paths, making the code more readable and efficient.\n",
    "\n",
    "+ The `Path` class within `pathlib` is essential for working with files and directories.\n",
    "\n",
    "#### **Why Use `pathlib`?**\n",
    "\n",
    "+ Works across different operating systems (Windows, macOS, Linux).\n",
    "+ Easily creates or moves files and directories.\n",
    "+ Lists files matching specific extensions or patterns.\n",
    "+ Generates platform-appropriate file paths using string collections."
   ]
  },
  {
   "cell_type": "markdown",
   "metadata": {},
   "source": [
    "#### **Creating and Handling Paths with `Path` Class**\n",
    "\n",
    "**Creating a Path Object**"
   ]
  },
  {
   "cell_type": "code",
   "execution_count": null,
   "metadata": {},
   "outputs": [
    {
     "name": "stdout",
     "output_type": "stream",
     "text": [
      "Paris\\Eiffel Tower\n"
     ]
    },
    {
     "data": {
      "text/plain": [
       "'\\nThis does not create a real path, but an object that represents a valid path format.\\n\\nThe separator (\\\\ or /) automatically adjusts based on the operating system.\\n'"
      ]
     },
     "execution_count": 2,
     "metadata": {},
     "output_type": "execute_result"
    }
   ],
   "source": [
    "from pathlib import Path  \n",
    "\n",
    "# Create a path object\n",
    "guide = Path(\"Paris\", \"Eiffel Tower\")  \n",
    "print(guide)  \n",
    "\n",
    "'''\n",
    "Output (on Windows):\n",
    "\n",
    "Paris\\Eiffel Tower\n",
    "'''\n",
    "\n",
    "'''\n",
    "This does not create a real path, but an object that represents a valid path format.\n",
    "\n",
    "The separator (\\ or /) automatically adjusts based on the operating system.\n",
    "'''\n"
   ]
  },
  {
   "cell_type": "markdown",
   "metadata": {},
   "source": [
    "**Adding a File Name to a Path**\n"
   ]
  },
  {
   "cell_type": "code",
   "execution_count": null,
   "metadata": {},
   "outputs": [
    {
     "name": "stdout",
     "output_type": "stream",
     "text": [
      "Paris\\Eiffel Tower.txt\n"
     ]
    },
    {
     "data": {
      "text/plain": [
       "'If \"Eiffel Tower.txt\" exists in the given directory, the Path object represents its full path.'"
      ]
     },
     "execution_count": 6,
     "metadata": {},
     "output_type": "execute_result"
    }
   ],
   "source": [
    "guide = Path(\"Paris\", \"Eiffel Tower.txt\")  \n",
    "print(guide)  \n",
    "\n",
    "'''\n",
    "Output:\n",
    "\n",
    "Paris\\Eiffel Tower.txt\n",
    "'''\n",
    "\n",
    "\n",
    "'''If \"Eiffel Tower.txt\" exists in the given directory, the Path object represents its full path.'''\n",
    "\n"
   ]
  },
  {
   "cell_type": "markdown",
   "metadata": {},
   "source": [
    "#### **Absolute vs Relative Paths**\n",
    "\n",
    "**Relative Paths**\n",
    "\n",
    "+ A relative path does not specify an exact location but refers to a location within an existing structure.\n",
    "\n",
    "+ Example: `\"Paris/Eiffel Tower.txt\"` can exist in different locations like:\n",
    "\n",
    "```python\n",
    "C:/Users/Shashank/Documents/Paris/Eiffel Tower.txt  \n",
    "D:/Projects/Paris/Eiffel Tower.txt\n",
    "```\n",
    "\n",
    "+ The actual location is unknown unless combined with an absolute path.\n",
    "\n",
    "**Absolute Paths**\n",
    "\n",
    "+ An absolute path specifies the exact location on the system.\n",
    "\n",
    "+ Use `Path.home()` to get the user's main directory.\n",
    "\n",
    "\n",
    "\n"
   ]
  },
  {
   "cell_type": "code",
   "execution_count": null,
   "metadata": {},
   "outputs": [
    {
     "name": "stdout",
     "output_type": "stream",
     "text": [
      "C:\\Users\\SB756FM\n"
     ]
    }
   ],
   "source": [
    "base = Path.home()  \n",
    "print(base)  \n",
    "\n",
    "'''\n",
    "Output (on Windows):\n",
    "\n",
    "C:\\Users\\YourUserName'\n",
    "'''\n"
   ]
  },
  {
   "cell_type": "markdown",
   "metadata": {},
   "source": [
    "+ We can combine an absolute path with a relative path to create a full path.\n"
   ]
  },
  {
   "cell_type": "code",
   "execution_count": null,
   "metadata": {},
   "outputs": [
    {
     "name": "stdout",
     "output_type": "stream",
     "text": [
      "C:\\Users\\SB756FM\\Paris\\Eiffel Tower.txt\n"
     ]
    }
   ],
   "source": [
    "full_path = base / \"Paris\" / \"Eiffel Tower.txt\"  \n",
    "print(full_path)  \n",
    "\n",
    "''' \n",
    "Output:\n",
    "\n",
    "C:\\Users\\YourUserName\\Paris\\Eiffel Tower.txt\n",
    "'''\n",
    "\n",
    "'''The / operator joins paths efficiently, handling OS-specific separators automatically. '''"
   ]
  },
  {
   "cell_type": "markdown",
   "metadata": {},
   "source": [
    "#### **Working with Path Objects**\n",
    "**Extracting File Information**\n",
    "\n",
    "\n"
   ]
  },
  {
   "cell_type": "code",
   "execution_count": null,
   "metadata": {},
   "outputs": [],
   "source": [
    "guide = Path(\"Paris\", \"Eiffel Tower.txt\")  \n",
    "print(guide.name)  # File name  \n",
    "print(guide.suffix)  # File extension  \n",
    "print(guide.stem)  # File name without extension  \n",
    "\n",
    "'''\n",
    "Output:\n",
    "\n",
    "Eiffel Tower.txt  \n",
    ".txt  \n",
    "Eiffel Tower  \n",
    "'''\n",
    "\n",
    "'''\n",
    "- 'name' returns the full file name.\n",
    "\n",
    "- 'suffix' extracts the file extension.\n",
    "\n",
    "- 'stem' extracts the file name without extension.\n",
    "'''"
   ]
  },
  {
   "cell_type": "markdown",
   "metadata": {},
   "source": [
    "**Modifying a Path Object**\n",
    "\n",
    " "
   ]
  },
  {
   "cell_type": "code",
   "execution_count": null,
   "metadata": {},
   "outputs": [],
   "source": [
    "guide2 = guide.with_name(\"Notre-Dame.txt\")  \n",
    "print(guide2) \n",
    "\n",
    "\n",
    "'''\n",
    "Output:\n",
    "\n",
    "Paris\\Notre-Dame.txt\n",
    "'''\n",
    "\n",
    "''' The original path remains unchanged, but 'guide2' now points to a different file in the same directory '''"
   ]
  },
  {
   "cell_type": "markdown",
   "metadata": {},
   "source": [
    "**Navigating Parent Directories**\n",
    "\n",
    "+ parent moves one level up in the directory hierarchy.\n",
    "\n",
    "+ You can chain parent multiple times to traverse upwards."
   ]
  },
  {
   "cell_type": "code",
   "execution_count": null,
   "metadata": {},
   "outputs": [
    {
     "name": "stdout",
     "output_type": "stream",
     "text": [
      "Europe\\France\\Paris\n",
      "Europe\\France\n",
      "Europe\n"
     ]
    }
   ],
   "source": [
    "guide = Path(\"Europe\", \"France\", \"Paris\", \"Eiffel Tower.txt\")  \n",
    "print(guide.parent)  # One level up  \n",
    "print(guide.parent.parent)  # Two levels up  \n",
    "print(guide.parent.parent.parent)  # Three levels up \n",
    "\n",
    "''' \n",
    "Output:\n",
    "\n",
    "Europe\\France\\Paris  \n",
    "Europe\\France  \n",
    "Europe  \n",
    "'''\n"
   ]
  },
  {
   "cell_type": "markdown",
   "metadata": {},
   "source": [
    "#### **Listing Files in a Directory**\n",
    "\n",
    "**Finding Files in a Directory**\n",
    "\n",
    "\n",
    "+ glob(\"*.txt\") lists all text files in the \"Europe\" directory.\n",
    "\n",
    "+ The glob method returns an iterable that can be looped through.\n"
   ]
  },
  {
   "cell_type": "code",
   "execution_count": null,
   "metadata": {},
   "outputs": [],
   "source": [
    "guide = Path.home() / \"Europe\"  \n",
    "for file in guide.glob(\"*.txt\"):  \n",
    "    print(file)  \n",
    "\n",
    "\n",
    "'''\n",
    "Output:\n",
    "\n",
    "C:\\Users\\YourUserName\\Europe\\advices.txt  \n",
    "C:\\Users\\YourUserName\\Europe\\terms.txt  '\n",
    "'''"
   ]
  },
  {
   "cell_type": "markdown",
   "metadata": {},
   "source": [
    "**Finding Files in Subdirectories**\n",
    "\n",
    "Using `**/*` makes `glob` search all subdirectories recursively.\n",
    "\n"
   ]
  },
  {
   "cell_type": "code",
   "execution_count": 10,
   "metadata": {},
   "outputs": [
    {
     "ename": "SyntaxError",
     "evalue": "(unicode error) 'unicodeescape' codec can't decode bytes in position 14-15: truncated \\UXXXXXXXX escape (960784733.py, line 13)",
     "output_type": "error",
     "traceback": [
      "\u001b[1;36m  Cell \u001b[1;32mIn[10], line 13\u001b[1;36m\u001b[0m\n\u001b[1;33m    '''\u001b[0m\n\u001b[1;37m       ^\u001b[0m\n\u001b[1;31mSyntaxError\u001b[0m\u001b[1;31m:\u001b[0m (unicode error) 'unicodeescape' codec can't decode bytes in position 14-15: truncated \\UXXXXXXXX escape\n"
     ]
    }
   ],
   "source": [
    "for file in guide.glob(\"**/*.txt\"):  \n",
    "    print(file)  \n",
    "\n",
    "\n",
    "''' \n",
    "Output:\n",
    "\n",
    "\n",
    "C:\\Users\\YourUserName\\Europe\\advices.txt  \n",
    "C:\\Users\\YourUserName\\Europe\\terms.txt  \n",
    "C:\\Users\\YourUserName\\Europe\\France\\Paris\\Eiffel Tower.txt  \n",
    "C:\\Users\\YourUserName\\Europe\\Spain\\Barcelona\\Sagrada Familia.txt  \n",
    "'''"
   ]
  },
  {
   "cell_type": "markdown",
   "metadata": {},
   "source": [
    "#### **Getting Relative Paths**\n",
    "\n",
    "`relative_to(\"Europe\")` removes `\"Europe\"` from the path and returns the rest.\n",
    "\n"
   ]
  },
  {
   "cell_type": "code",
   "execution_count": null,
   "metadata": {},
   "outputs": [],
   "source": [
    "guide = Path(\"Europe\", \"France\", \"Paris\", \"Eiffel Tower.txt\")  \n",
    "relative_path = guide.relative_to(\"Europe\")  \n",
    "print(relative_path)  \n",
    "\n",
    "\n",
    "''' \n",
    "Output:\n",
    "\n",
    "\n",
    "France\\Paris\\Eiffel Tower.txt\n",
    "'''"
   ]
  }
 ],
 "metadata": {
  "kernelspec": {
   "display_name": "Python 3",
   "language": "python",
   "name": "python3"
  },
  "language_info": {
   "codemirror_mode": {
    "name": "ipython",
    "version": 3
   },
   "file_extension": ".py",
   "mimetype": "text/x-python",
   "name": "python",
   "nbconvert_exporter": "python",
   "pygments_lexer": "ipython3",
   "version": "3.11.7"
  }
 },
 "nbformat": 4,
 "nbformat_minor": 2
}
